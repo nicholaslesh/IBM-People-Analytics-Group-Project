{
 "cells": [
  {
   "cell_type": "markdown",
   "metadata": {},
   "source": [
    "## Importing Libraries"
   ]
  },
  {
   "cell_type": "code",
<<<<<<< Updated upstream
   "execution_count": 4,
=======
   "execution_count": 131,
>>>>>>> Stashed changes
   "metadata": {},
   "outputs": [],
   "source": [
    "import numpy as np # linear algebra\n",
    "import pandas as pd # data processing, CSV file I/O (e.g. pd.read_csv)\n",
    "import matplotlib.pyplot as plt\n",
    "import seaborn as sns\n",
<<<<<<< Updated upstream
=======
    "from sklearn.model_selection import train_test_split\n",
    "from sklearn.linear_model import LogisticRegression\n",
    "from sklearn.preprocessing import LabelEncoder\n",
>>>>>>> Stashed changes
    "\n",
    "import warnings\n",
    "warnings.filterwarnings(\"ignore\")"
   ]
  },
  {
   "cell_type": "markdown",
   "metadata": {},
   "source": [
    "## Loading the Dataset"
   ]
  },
  {
   "cell_type": "code",
<<<<<<< Updated upstream
   "execution_count": 5,
=======
   "execution_count": 88,
>>>>>>> Stashed changes
   "metadata": {},
   "outputs": [],
   "source": [
    "data=pd.read_csv(\"data/WA_Fn-UseC_-HR-Employee-Attrition.csv\")"
   ]
<<<<<<< Updated upstream
=======
  },
  {
   "cell_type": "code",
   "execution_count": 89,
   "metadata": {},
   "outputs": [
    {
     "data": {
      "text/html": [
       "<div>\n",
       "<style scoped>\n",
       "    .dataframe tbody tr th:only-of-type {\n",
       "        vertical-align: middle;\n",
       "    }\n",
       "\n",
       "    .dataframe tbody tr th {\n",
       "        vertical-align: top;\n",
       "    }\n",
       "\n",
       "    .dataframe thead th {\n",
       "        text-align: right;\n",
       "    }\n",
       "</style>\n",
       "<table border=\"1\" class=\"dataframe\">\n",
       "  <thead>\n",
       "    <tr style=\"text-align: right;\">\n",
       "      <th></th>\n",
       "      <th>Age</th>\n",
       "      <th>Attrition</th>\n",
       "      <th>BusinessTravel</th>\n",
       "      <th>DailyRate</th>\n",
       "      <th>Department</th>\n",
       "      <th>DistanceFromHome</th>\n",
       "      <th>Education</th>\n",
       "      <th>EducationField</th>\n",
       "      <th>EmployeeCount</th>\n",
       "      <th>EmployeeNumber</th>\n",
       "      <th>...</th>\n",
       "      <th>RelationshipSatisfaction</th>\n",
       "      <th>StandardHours</th>\n",
       "      <th>StockOptionLevel</th>\n",
       "      <th>TotalWorkingYears</th>\n",
       "      <th>TrainingTimesLastYear</th>\n",
       "      <th>WorkLifeBalance</th>\n",
       "      <th>YearsAtCompany</th>\n",
       "      <th>YearsInCurrentRole</th>\n",
       "      <th>YearsSinceLastPromotion</th>\n",
       "      <th>YearsWithCurrManager</th>\n",
       "    </tr>\n",
       "  </thead>\n",
       "  <tbody>\n",
       "    <tr>\n",
       "      <th>0</th>\n",
       "      <td>41</td>\n",
       "      <td>Yes</td>\n",
       "      <td>Travel_Rarely</td>\n",
       "      <td>1102</td>\n",
       "      <td>Sales</td>\n",
       "      <td>1</td>\n",
       "      <td>2</td>\n",
       "      <td>Life Sciences</td>\n",
       "      <td>1</td>\n",
       "      <td>1</td>\n",
       "      <td>...</td>\n",
       "      <td>1</td>\n",
       "      <td>80</td>\n",
       "      <td>0</td>\n",
       "      <td>8</td>\n",
       "      <td>0</td>\n",
       "      <td>1</td>\n",
       "      <td>6</td>\n",
       "      <td>4</td>\n",
       "      <td>0</td>\n",
       "      <td>5</td>\n",
       "    </tr>\n",
       "    <tr>\n",
       "      <th>1</th>\n",
       "      <td>49</td>\n",
       "      <td>No</td>\n",
       "      <td>Travel_Frequently</td>\n",
       "      <td>279</td>\n",
       "      <td>Research &amp; Development</td>\n",
       "      <td>8</td>\n",
       "      <td>1</td>\n",
       "      <td>Life Sciences</td>\n",
       "      <td>1</td>\n",
       "      <td>2</td>\n",
       "      <td>...</td>\n",
       "      <td>4</td>\n",
       "      <td>80</td>\n",
       "      <td>1</td>\n",
       "      <td>10</td>\n",
       "      <td>3</td>\n",
       "      <td>3</td>\n",
       "      <td>10</td>\n",
       "      <td>7</td>\n",
       "      <td>1</td>\n",
       "      <td>7</td>\n",
       "    </tr>\n",
       "    <tr>\n",
       "      <th>2</th>\n",
       "      <td>37</td>\n",
       "      <td>Yes</td>\n",
       "      <td>Travel_Rarely</td>\n",
       "      <td>1373</td>\n",
       "      <td>Research &amp; Development</td>\n",
       "      <td>2</td>\n",
       "      <td>2</td>\n",
       "      <td>Other</td>\n",
       "      <td>1</td>\n",
       "      <td>4</td>\n",
       "      <td>...</td>\n",
       "      <td>2</td>\n",
       "      <td>80</td>\n",
       "      <td>0</td>\n",
       "      <td>7</td>\n",
       "      <td>3</td>\n",
       "      <td>3</td>\n",
       "      <td>0</td>\n",
       "      <td>0</td>\n",
       "      <td>0</td>\n",
       "      <td>0</td>\n",
       "    </tr>\n",
       "    <tr>\n",
       "      <th>3</th>\n",
       "      <td>33</td>\n",
       "      <td>No</td>\n",
       "      <td>Travel_Frequently</td>\n",
       "      <td>1392</td>\n",
       "      <td>Research &amp; Development</td>\n",
       "      <td>3</td>\n",
       "      <td>4</td>\n",
       "      <td>Life Sciences</td>\n",
       "      <td>1</td>\n",
       "      <td>5</td>\n",
       "      <td>...</td>\n",
       "      <td>3</td>\n",
       "      <td>80</td>\n",
       "      <td>0</td>\n",
       "      <td>8</td>\n",
       "      <td>3</td>\n",
       "      <td>3</td>\n",
       "      <td>8</td>\n",
       "      <td>7</td>\n",
       "      <td>3</td>\n",
       "      <td>0</td>\n",
       "    </tr>\n",
       "    <tr>\n",
       "      <th>4</th>\n",
       "      <td>27</td>\n",
       "      <td>No</td>\n",
       "      <td>Travel_Rarely</td>\n",
       "      <td>591</td>\n",
       "      <td>Research &amp; Development</td>\n",
       "      <td>2</td>\n",
       "      <td>1</td>\n",
       "      <td>Medical</td>\n",
       "      <td>1</td>\n",
       "      <td>7</td>\n",
       "      <td>...</td>\n",
       "      <td>4</td>\n",
       "      <td>80</td>\n",
       "      <td>1</td>\n",
       "      <td>6</td>\n",
       "      <td>3</td>\n",
       "      <td>3</td>\n",
       "      <td>2</td>\n",
       "      <td>2</td>\n",
       "      <td>2</td>\n",
       "      <td>2</td>\n",
       "    </tr>\n",
       "  </tbody>\n",
       "</table>\n",
       "<p>5 rows × 35 columns</p>\n",
       "</div>"
      ],
      "text/plain": [
       "   Age Attrition     BusinessTravel  DailyRate              Department  \\\n",
       "0   41       Yes      Travel_Rarely       1102                   Sales   \n",
       "1   49        No  Travel_Frequently        279  Research & Development   \n",
       "2   37       Yes      Travel_Rarely       1373  Research & Development   \n",
       "3   33        No  Travel_Frequently       1392  Research & Development   \n",
       "4   27        No      Travel_Rarely        591  Research & Development   \n",
       "\n",
       "   DistanceFromHome  Education EducationField  EmployeeCount  EmployeeNumber  \\\n",
       "0                 1          2  Life Sciences              1               1   \n",
       "1                 8          1  Life Sciences              1               2   \n",
       "2                 2          2          Other              1               4   \n",
       "3                 3          4  Life Sciences              1               5   \n",
       "4                 2          1        Medical              1               7   \n",
       "\n",
       "   ...  RelationshipSatisfaction StandardHours  StockOptionLevel  \\\n",
       "0  ...                         1            80                 0   \n",
       "1  ...                         4            80                 1   \n",
       "2  ...                         2            80                 0   \n",
       "3  ...                         3            80                 0   \n",
       "4  ...                         4            80                 1   \n",
       "\n",
       "   TotalWorkingYears  TrainingTimesLastYear WorkLifeBalance  YearsAtCompany  \\\n",
       "0                  8                      0               1               6   \n",
       "1                 10                      3               3              10   \n",
       "2                  7                      3               3               0   \n",
       "3                  8                      3               3               8   \n",
       "4                  6                      3               3               2   \n",
       "\n",
       "  YearsInCurrentRole  YearsSinceLastPromotion  YearsWithCurrManager  \n",
       "0                  4                        0                     5  \n",
       "1                  7                        1                     7  \n",
       "2                  0                        0                     0  \n",
       "3                  7                        3                     0  \n",
       "4                  2                        2                     2  \n",
       "\n",
       "[5 rows x 35 columns]"
      ]
     },
     "execution_count": 89,
     "metadata": {},
     "output_type": "execute_result"
    }
   ],
   "source": [
    "data.head()"
   ]
  },
  {
   "cell_type": "code",
   "execution_count": 90,
   "metadata": {},
   "outputs": [],
   "source": [
    "numeric_cols = []    \n",
    "cat_cols = []    \n",
    "\n",
    "for col in data.columns:\n",
    "    if data[col].value_counts().shape[0] < 10: cat_cols.append(col)\n",
    "    else: numeric_cols.append(col)\n",
    "\n",
    "for col in cat_cols:\n",
    "    data[col] = data[col].astype('category')        \n",
    "        \n",
    "data[\"Attrition\"] = np.where(data['Attrition'] == \"Yes\", 1, 0)"
   ]
  },
  {
   "cell_type": "code",
   "execution_count": 92,
   "metadata": {},
   "outputs": [],
   "source": [
    "cat_cols.remove(\"Attrition\")"
   ]
  },
  {
   "cell_type": "code",
   "execution_count": 93,
   "metadata": {},
   "outputs": [
    {
     "data": {
      "text/plain": [
       "0    1233\n",
       "1     237\n",
       "Name: Attrition, dtype: int64"
      ]
     },
     "execution_count": 93,
     "metadata": {},
     "output_type": "execute_result"
    }
   ],
   "source": [
    "data.Attrition.value_counts()"
   ]
  },
  {
   "cell_type": "code",
   "execution_count": 94,
   "metadata": {},
   "outputs": [
    {
     "data": {
      "text/html": [
       "<div>\n",
       "<style scoped>\n",
       "    .dataframe tbody tr th:only-of-type {\n",
       "        vertical-align: middle;\n",
       "    }\n",
       "\n",
       "    .dataframe tbody tr th {\n",
       "        vertical-align: top;\n",
       "    }\n",
       "\n",
       "    .dataframe thead th {\n",
       "        text-align: right;\n",
       "    }\n",
       "</style>\n",
       "<table border=\"1\" class=\"dataframe\">\n",
       "  <thead>\n",
       "    <tr style=\"text-align: right;\">\n",
       "      <th></th>\n",
       "      <th>Age</th>\n",
       "    </tr>\n",
       "    <tr>\n",
       "      <th>Attrition</th>\n",
       "      <th></th>\n",
       "    </tr>\n",
       "  </thead>\n",
       "  <tbody>\n",
       "    <tr>\n",
       "      <th>0</th>\n",
       "      <td>37.561233</td>\n",
       "    </tr>\n",
       "    <tr>\n",
       "      <th>1</th>\n",
       "      <td>33.607595</td>\n",
       "    </tr>\n",
       "  </tbody>\n",
       "</table>\n",
       "</div>"
      ],
      "text/plain": [
       "                 Age\n",
       "Attrition           \n",
       "0          37.561233\n",
       "1          33.607595"
      ]
     },
     "metadata": {},
     "output_type": "display_data"
    },
    {
     "data": {
      "text/html": [
       "<div>\n",
       "<style scoped>\n",
       "    .dataframe tbody tr th:only-of-type {\n",
       "        vertical-align: middle;\n",
       "    }\n",
       "\n",
       "    .dataframe tbody tr th {\n",
       "        vertical-align: top;\n",
       "    }\n",
       "\n",
       "    .dataframe thead th {\n",
       "        text-align: right;\n",
       "    }\n",
       "</style>\n",
       "<table border=\"1\" class=\"dataframe\">\n",
       "  <thead>\n",
       "    <tr style=\"text-align: right;\">\n",
       "      <th></th>\n",
       "      <th>DailyRate</th>\n",
       "    </tr>\n",
       "    <tr>\n",
       "      <th>Attrition</th>\n",
       "      <th></th>\n",
       "    </tr>\n",
       "  </thead>\n",
       "  <tbody>\n",
       "    <tr>\n",
       "      <th>0</th>\n",
       "      <td>812.504461</td>\n",
       "    </tr>\n",
       "    <tr>\n",
       "      <th>1</th>\n",
       "      <td>750.362869</td>\n",
       "    </tr>\n",
       "  </tbody>\n",
       "</table>\n",
       "</div>"
      ],
      "text/plain": [
       "            DailyRate\n",
       "Attrition            \n",
       "0          812.504461\n",
       "1          750.362869"
      ]
     },
     "metadata": {},
     "output_type": "display_data"
    },
    {
     "data": {
      "text/html": [
       "<div>\n",
       "<style scoped>\n",
       "    .dataframe tbody tr th:only-of-type {\n",
       "        vertical-align: middle;\n",
       "    }\n",
       "\n",
       "    .dataframe tbody tr th {\n",
       "        vertical-align: top;\n",
       "    }\n",
       "\n",
       "    .dataframe thead th {\n",
       "        text-align: right;\n",
       "    }\n",
       "</style>\n",
       "<table border=\"1\" class=\"dataframe\">\n",
       "  <thead>\n",
       "    <tr style=\"text-align: right;\">\n",
       "      <th></th>\n",
       "      <th>DistanceFromHome</th>\n",
       "    </tr>\n",
       "    <tr>\n",
       "      <th>Attrition</th>\n",
       "      <th></th>\n",
       "    </tr>\n",
       "  </thead>\n",
       "  <tbody>\n",
       "    <tr>\n",
       "      <th>0</th>\n",
       "      <td>8.915653</td>\n",
       "    </tr>\n",
       "    <tr>\n",
       "      <th>1</th>\n",
       "      <td>10.632911</td>\n",
       "    </tr>\n",
       "  </tbody>\n",
       "</table>\n",
       "</div>"
      ],
      "text/plain": [
       "           DistanceFromHome\n",
       "Attrition                  \n",
       "0                  8.915653\n",
       "1                 10.632911"
      ]
     },
     "metadata": {},
     "output_type": "display_data"
    },
    {
     "data": {
      "text/html": [
       "<div>\n",
       "<style scoped>\n",
       "    .dataframe tbody tr th:only-of-type {\n",
       "        vertical-align: middle;\n",
       "    }\n",
       "\n",
       "    .dataframe tbody tr th {\n",
       "        vertical-align: top;\n",
       "    }\n",
       "\n",
       "    .dataframe thead th {\n",
       "        text-align: right;\n",
       "    }\n",
       "</style>\n",
       "<table border=\"1\" class=\"dataframe\">\n",
       "  <thead>\n",
       "    <tr style=\"text-align: right;\">\n",
       "      <th></th>\n",
       "      <th>EmployeeNumber</th>\n",
       "    </tr>\n",
       "    <tr>\n",
       "      <th>Attrition</th>\n",
       "      <th></th>\n",
       "    </tr>\n",
       "  </thead>\n",
       "  <tbody>\n",
       "    <tr>\n",
       "      <th>0</th>\n",
       "      <td>1027.656123</td>\n",
       "    </tr>\n",
       "    <tr>\n",
       "      <th>1</th>\n",
       "      <td>1010.345992</td>\n",
       "    </tr>\n",
       "  </tbody>\n",
       "</table>\n",
       "</div>"
      ],
      "text/plain": [
       "           EmployeeNumber\n",
       "Attrition                \n",
       "0             1027.656123\n",
       "1             1010.345992"
      ]
     },
     "metadata": {},
     "output_type": "display_data"
    },
    {
     "data": {
      "text/html": [
       "<div>\n",
       "<style scoped>\n",
       "    .dataframe tbody tr th:only-of-type {\n",
       "        vertical-align: middle;\n",
       "    }\n",
       "\n",
       "    .dataframe tbody tr th {\n",
       "        vertical-align: top;\n",
       "    }\n",
       "\n",
       "    .dataframe thead th {\n",
       "        text-align: right;\n",
       "    }\n",
       "</style>\n",
       "<table border=\"1\" class=\"dataframe\">\n",
       "  <thead>\n",
       "    <tr style=\"text-align: right;\">\n",
       "      <th></th>\n",
       "      <th>HourlyRate</th>\n",
       "    </tr>\n",
       "    <tr>\n",
       "      <th>Attrition</th>\n",
       "      <th></th>\n",
       "    </tr>\n",
       "  </thead>\n",
       "  <tbody>\n",
       "    <tr>\n",
       "      <th>0</th>\n",
       "      <td>65.952149</td>\n",
       "    </tr>\n",
       "    <tr>\n",
       "      <th>1</th>\n",
       "      <td>65.573840</td>\n",
       "    </tr>\n",
       "  </tbody>\n",
       "</table>\n",
       "</div>"
      ],
      "text/plain": [
       "           HourlyRate\n",
       "Attrition            \n",
       "0           65.952149\n",
       "1           65.573840"
      ]
     },
     "metadata": {},
     "output_type": "display_data"
    },
    {
     "data": {
      "text/html": [
       "<div>\n",
       "<style scoped>\n",
       "    .dataframe tbody tr th:only-of-type {\n",
       "        vertical-align: middle;\n",
       "    }\n",
       "\n",
       "    .dataframe tbody tr th {\n",
       "        vertical-align: top;\n",
       "    }\n",
       "\n",
       "    .dataframe thead th {\n",
       "        text-align: right;\n",
       "    }\n",
       "</style>\n",
       "<table border=\"1\" class=\"dataframe\">\n",
       "  <thead>\n",
       "    <tr style=\"text-align: right;\">\n",
       "      <th></th>\n",
       "      <th>MonthlyIncome</th>\n",
       "    </tr>\n",
       "    <tr>\n",
       "      <th>Attrition</th>\n",
       "      <th></th>\n",
       "    </tr>\n",
       "  </thead>\n",
       "  <tbody>\n",
       "    <tr>\n",
       "      <th>0</th>\n",
       "      <td>6832.739659</td>\n",
       "    </tr>\n",
       "    <tr>\n",
       "      <th>1</th>\n",
       "      <td>4787.092827</td>\n",
       "    </tr>\n",
       "  </tbody>\n",
       "</table>\n",
       "</div>"
      ],
      "text/plain": [
       "           MonthlyIncome\n",
       "Attrition               \n",
       "0            6832.739659\n",
       "1            4787.092827"
      ]
     },
     "metadata": {},
     "output_type": "display_data"
    },
    {
     "data": {
      "text/html": [
       "<div>\n",
       "<style scoped>\n",
       "    .dataframe tbody tr th:only-of-type {\n",
       "        vertical-align: middle;\n",
       "    }\n",
       "\n",
       "    .dataframe tbody tr th {\n",
       "        vertical-align: top;\n",
       "    }\n",
       "\n",
       "    .dataframe thead th {\n",
       "        text-align: right;\n",
       "    }\n",
       "</style>\n",
       "<table border=\"1\" class=\"dataframe\">\n",
       "  <thead>\n",
       "    <tr style=\"text-align: right;\">\n",
       "      <th></th>\n",
       "      <th>MonthlyRate</th>\n",
       "    </tr>\n",
       "    <tr>\n",
       "      <th>Attrition</th>\n",
       "      <th></th>\n",
       "    </tr>\n",
       "  </thead>\n",
       "  <tbody>\n",
       "    <tr>\n",
       "      <th>0</th>\n",
       "      <td>14265.779400</td>\n",
       "    </tr>\n",
       "    <tr>\n",
       "      <th>1</th>\n",
       "      <td>14559.308017</td>\n",
       "    </tr>\n",
       "  </tbody>\n",
       "</table>\n",
       "</div>"
      ],
      "text/plain": [
       "            MonthlyRate\n",
       "Attrition              \n",
       "0          14265.779400\n",
       "1          14559.308017"
      ]
     },
     "metadata": {},
     "output_type": "display_data"
    },
    {
     "data": {
      "text/html": [
       "<div>\n",
       "<style scoped>\n",
       "    .dataframe tbody tr th:only-of-type {\n",
       "        vertical-align: middle;\n",
       "    }\n",
       "\n",
       "    .dataframe tbody tr th {\n",
       "        vertical-align: top;\n",
       "    }\n",
       "\n",
       "    .dataframe thead th {\n",
       "        text-align: right;\n",
       "    }\n",
       "</style>\n",
       "<table border=\"1\" class=\"dataframe\">\n",
       "  <thead>\n",
       "    <tr style=\"text-align: right;\">\n",
       "      <th></th>\n",
       "      <th>NumCompaniesWorked</th>\n",
       "    </tr>\n",
       "    <tr>\n",
       "      <th>Attrition</th>\n",
       "      <th></th>\n",
       "    </tr>\n",
       "  </thead>\n",
       "  <tbody>\n",
       "    <tr>\n",
       "      <th>0</th>\n",
       "      <td>2.645580</td>\n",
       "    </tr>\n",
       "    <tr>\n",
       "      <th>1</th>\n",
       "      <td>2.940928</td>\n",
       "    </tr>\n",
       "  </tbody>\n",
       "</table>\n",
       "</div>"
      ],
      "text/plain": [
       "           NumCompaniesWorked\n",
       "Attrition                    \n",
       "0                    2.645580\n",
       "1                    2.940928"
      ]
     },
     "metadata": {},
     "output_type": "display_data"
    },
    {
     "data": {
      "text/html": [
       "<div>\n",
       "<style scoped>\n",
       "    .dataframe tbody tr th:only-of-type {\n",
       "        vertical-align: middle;\n",
       "    }\n",
       "\n",
       "    .dataframe tbody tr th {\n",
       "        vertical-align: top;\n",
       "    }\n",
       "\n",
       "    .dataframe thead th {\n",
       "        text-align: right;\n",
       "    }\n",
       "</style>\n",
       "<table border=\"1\" class=\"dataframe\">\n",
       "  <thead>\n",
       "    <tr style=\"text-align: right;\">\n",
       "      <th></th>\n",
       "      <th>PercentSalaryHike</th>\n",
       "    </tr>\n",
       "    <tr>\n",
       "      <th>Attrition</th>\n",
       "      <th></th>\n",
       "    </tr>\n",
       "  </thead>\n",
       "  <tbody>\n",
       "    <tr>\n",
       "      <th>0</th>\n",
       "      <td>15.231144</td>\n",
       "    </tr>\n",
       "    <tr>\n",
       "      <th>1</th>\n",
       "      <td>15.097046</td>\n",
       "    </tr>\n",
       "  </tbody>\n",
       "</table>\n",
       "</div>"
      ],
      "text/plain": [
       "           PercentSalaryHike\n",
       "Attrition                   \n",
       "0                  15.231144\n",
       "1                  15.097046"
      ]
     },
     "metadata": {},
     "output_type": "display_data"
    },
    {
     "data": {
      "text/html": [
       "<div>\n",
       "<style scoped>\n",
       "    .dataframe tbody tr th:only-of-type {\n",
       "        vertical-align: middle;\n",
       "    }\n",
       "\n",
       "    .dataframe tbody tr th {\n",
       "        vertical-align: top;\n",
       "    }\n",
       "\n",
       "    .dataframe thead th {\n",
       "        text-align: right;\n",
       "    }\n",
       "</style>\n",
       "<table border=\"1\" class=\"dataframe\">\n",
       "  <thead>\n",
       "    <tr style=\"text-align: right;\">\n",
       "      <th></th>\n",
       "      <th>TotalWorkingYears</th>\n",
       "    </tr>\n",
       "    <tr>\n",
       "      <th>Attrition</th>\n",
       "      <th></th>\n",
       "    </tr>\n",
       "  </thead>\n",
       "  <tbody>\n",
       "    <tr>\n",
       "      <th>0</th>\n",
       "      <td>11.862936</td>\n",
       "    </tr>\n",
       "    <tr>\n",
       "      <th>1</th>\n",
       "      <td>8.244726</td>\n",
       "    </tr>\n",
       "  </tbody>\n",
       "</table>\n",
       "</div>"
      ],
      "text/plain": [
       "           TotalWorkingYears\n",
       "Attrition                   \n",
       "0                  11.862936\n",
       "1                   8.244726"
      ]
     },
     "metadata": {},
     "output_type": "display_data"
    },
    {
     "data": {
      "text/html": [
       "<div>\n",
       "<style scoped>\n",
       "    .dataframe tbody tr th:only-of-type {\n",
       "        vertical-align: middle;\n",
       "    }\n",
       "\n",
       "    .dataframe tbody tr th {\n",
       "        vertical-align: top;\n",
       "    }\n",
       "\n",
       "    .dataframe thead th {\n",
       "        text-align: right;\n",
       "    }\n",
       "</style>\n",
       "<table border=\"1\" class=\"dataframe\">\n",
       "  <thead>\n",
       "    <tr style=\"text-align: right;\">\n",
       "      <th></th>\n",
       "      <th>YearsAtCompany</th>\n",
       "    </tr>\n",
       "    <tr>\n",
       "      <th>Attrition</th>\n",
       "      <th></th>\n",
       "    </tr>\n",
       "  </thead>\n",
       "  <tbody>\n",
       "    <tr>\n",
       "      <th>0</th>\n",
       "      <td>7.369019</td>\n",
       "    </tr>\n",
       "    <tr>\n",
       "      <th>1</th>\n",
       "      <td>5.130802</td>\n",
       "    </tr>\n",
       "  </tbody>\n",
       "</table>\n",
       "</div>"
      ],
      "text/plain": [
       "           YearsAtCompany\n",
       "Attrition                \n",
       "0                7.369019\n",
       "1                5.130802"
      ]
     },
     "metadata": {},
     "output_type": "display_data"
    },
    {
     "data": {
      "text/html": [
       "<div>\n",
       "<style scoped>\n",
       "    .dataframe tbody tr th:only-of-type {\n",
       "        vertical-align: middle;\n",
       "    }\n",
       "\n",
       "    .dataframe tbody tr th {\n",
       "        vertical-align: top;\n",
       "    }\n",
       "\n",
       "    .dataframe thead th {\n",
       "        text-align: right;\n",
       "    }\n",
       "</style>\n",
       "<table border=\"1\" class=\"dataframe\">\n",
       "  <thead>\n",
       "    <tr style=\"text-align: right;\">\n",
       "      <th></th>\n",
       "      <th>YearsInCurrentRole</th>\n",
       "    </tr>\n",
       "    <tr>\n",
       "      <th>Attrition</th>\n",
       "      <th></th>\n",
       "    </tr>\n",
       "  </thead>\n",
       "  <tbody>\n",
       "    <tr>\n",
       "      <th>0</th>\n",
       "      <td>4.484185</td>\n",
       "    </tr>\n",
       "    <tr>\n",
       "      <th>1</th>\n",
       "      <td>2.902954</td>\n",
       "    </tr>\n",
       "  </tbody>\n",
       "</table>\n",
       "</div>"
      ],
      "text/plain": [
       "           YearsInCurrentRole\n",
       "Attrition                    \n",
       "0                    4.484185\n",
       "1                    2.902954"
      ]
     },
     "metadata": {},
     "output_type": "display_data"
    },
    {
     "data": {
      "text/html": [
       "<div>\n",
       "<style scoped>\n",
       "    .dataframe tbody tr th:only-of-type {\n",
       "        vertical-align: middle;\n",
       "    }\n",
       "\n",
       "    .dataframe tbody tr th {\n",
       "        vertical-align: top;\n",
       "    }\n",
       "\n",
       "    .dataframe thead th {\n",
       "        text-align: right;\n",
       "    }\n",
       "</style>\n",
       "<table border=\"1\" class=\"dataframe\">\n",
       "  <thead>\n",
       "    <tr style=\"text-align: right;\">\n",
       "      <th></th>\n",
       "      <th>YearsSinceLastPromotion</th>\n",
       "    </tr>\n",
       "    <tr>\n",
       "      <th>Attrition</th>\n",
       "      <th></th>\n",
       "    </tr>\n",
       "  </thead>\n",
       "  <tbody>\n",
       "    <tr>\n",
       "      <th>0</th>\n",
       "      <td>2.234388</td>\n",
       "    </tr>\n",
       "    <tr>\n",
       "      <th>1</th>\n",
       "      <td>1.945148</td>\n",
       "    </tr>\n",
       "  </tbody>\n",
       "</table>\n",
       "</div>"
      ],
      "text/plain": [
       "           YearsSinceLastPromotion\n",
       "Attrition                         \n",
       "0                         2.234388\n",
       "1                         1.945148"
      ]
     },
     "metadata": {},
     "output_type": "display_data"
    },
    {
     "data": {
      "text/html": [
       "<div>\n",
       "<style scoped>\n",
       "    .dataframe tbody tr th:only-of-type {\n",
       "        vertical-align: middle;\n",
       "    }\n",
       "\n",
       "    .dataframe tbody tr th {\n",
       "        vertical-align: top;\n",
       "    }\n",
       "\n",
       "    .dataframe thead th {\n",
       "        text-align: right;\n",
       "    }\n",
       "</style>\n",
       "<table border=\"1\" class=\"dataframe\">\n",
       "  <thead>\n",
       "    <tr style=\"text-align: right;\">\n",
       "      <th></th>\n",
       "      <th>YearsWithCurrManager</th>\n",
       "    </tr>\n",
       "    <tr>\n",
       "      <th>Attrition</th>\n",
       "      <th></th>\n",
       "    </tr>\n",
       "  </thead>\n",
       "  <tbody>\n",
       "    <tr>\n",
       "      <th>0</th>\n",
       "      <td>4.367397</td>\n",
       "    </tr>\n",
       "    <tr>\n",
       "      <th>1</th>\n",
       "      <td>2.852321</td>\n",
       "    </tr>\n",
       "  </tbody>\n",
       "</table>\n",
       "</div>"
      ],
      "text/plain": [
       "           YearsWithCurrManager\n",
       "Attrition                      \n",
       "0                      4.367397\n",
       "1                      2.852321"
      ]
     },
     "metadata": {},
     "output_type": "display_data"
    }
   ],
   "source": [
    "for col in numeric_cols:\n",
    "    display(data[[col, \"Attrition\"]].groupby(\"Attrition\").mean())"
   ]
  },
  {
   "cell_type": "code",
   "execution_count": 95,
   "metadata": {},
   "outputs": [
    {
     "data": {
      "text/html": [
       "<div>\n",
       "<style scoped>\n",
       "    .dataframe tbody tr th:only-of-type {\n",
       "        vertical-align: middle;\n",
       "    }\n",
       "\n",
       "    .dataframe tbody tr th {\n",
       "        vertical-align: top;\n",
       "    }\n",
       "\n",
       "    .dataframe thead th {\n",
       "        text-align: right;\n",
       "    }\n",
       "</style>\n",
       "<table border=\"1\" class=\"dataframe\">\n",
       "  <thead>\n",
       "    <tr style=\"text-align: right;\">\n",
       "      <th></th>\n",
       "      <th>Attrition</th>\n",
       "    </tr>\n",
       "    <tr>\n",
       "      <th>BusinessTravel</th>\n",
       "      <th></th>\n",
       "    </tr>\n",
       "  </thead>\n",
       "  <tbody>\n",
       "    <tr>\n",
       "      <th>Non-Travel</th>\n",
       "      <td>0.080000</td>\n",
       "    </tr>\n",
       "    <tr>\n",
       "      <th>Travel_Frequently</th>\n",
       "      <td>0.249097</td>\n",
       "    </tr>\n",
       "    <tr>\n",
       "      <th>Travel_Rarely</th>\n",
       "      <td>0.149569</td>\n",
       "    </tr>\n",
       "  </tbody>\n",
       "</table>\n",
       "</div>"
      ],
      "text/plain": [
       "                   Attrition\n",
       "BusinessTravel              \n",
       "Non-Travel          0.080000\n",
       "Travel_Frequently   0.249097\n",
       "Travel_Rarely       0.149569"
      ]
     },
     "metadata": {},
     "output_type": "display_data"
    },
    {
     "data": {
      "text/html": [
       "<div>\n",
       "<style scoped>\n",
       "    .dataframe tbody tr th:only-of-type {\n",
       "        vertical-align: middle;\n",
       "    }\n",
       "\n",
       "    .dataframe tbody tr th {\n",
       "        vertical-align: top;\n",
       "    }\n",
       "\n",
       "    .dataframe thead th {\n",
       "        text-align: right;\n",
       "    }\n",
       "</style>\n",
       "<table border=\"1\" class=\"dataframe\">\n",
       "  <thead>\n",
       "    <tr style=\"text-align: right;\">\n",
       "      <th></th>\n",
       "      <th>Attrition</th>\n",
       "    </tr>\n",
       "    <tr>\n",
       "      <th>Department</th>\n",
       "      <th></th>\n",
       "    </tr>\n",
       "  </thead>\n",
       "  <tbody>\n",
       "    <tr>\n",
       "      <th>Human Resources</th>\n",
       "      <td>0.190476</td>\n",
       "    </tr>\n",
       "    <tr>\n",
       "      <th>Research &amp; Development</th>\n",
       "      <td>0.138398</td>\n",
       "    </tr>\n",
       "    <tr>\n",
       "      <th>Sales</th>\n",
       "      <td>0.206278</td>\n",
       "    </tr>\n",
       "  </tbody>\n",
       "</table>\n",
       "</div>"
      ],
      "text/plain": [
       "                        Attrition\n",
       "Department                       \n",
       "Human Resources          0.190476\n",
       "Research & Development   0.138398\n",
       "Sales                    0.206278"
      ]
     },
     "metadata": {},
     "output_type": "display_data"
    },
    {
     "data": {
      "text/html": [
       "<div>\n",
       "<style scoped>\n",
       "    .dataframe tbody tr th:only-of-type {\n",
       "        vertical-align: middle;\n",
       "    }\n",
       "\n",
       "    .dataframe tbody tr th {\n",
       "        vertical-align: top;\n",
       "    }\n",
       "\n",
       "    .dataframe thead th {\n",
       "        text-align: right;\n",
       "    }\n",
       "</style>\n",
       "<table border=\"1\" class=\"dataframe\">\n",
       "  <thead>\n",
       "    <tr style=\"text-align: right;\">\n",
       "      <th></th>\n",
       "      <th>Attrition</th>\n",
       "    </tr>\n",
       "    <tr>\n",
       "      <th>Education</th>\n",
       "      <th></th>\n",
       "    </tr>\n",
       "  </thead>\n",
       "  <tbody>\n",
       "    <tr>\n",
       "      <th>1</th>\n",
       "      <td>0.182353</td>\n",
       "    </tr>\n",
       "    <tr>\n",
       "      <th>2</th>\n",
       "      <td>0.156028</td>\n",
       "    </tr>\n",
       "    <tr>\n",
       "      <th>3</th>\n",
       "      <td>0.173077</td>\n",
       "    </tr>\n",
       "    <tr>\n",
       "      <th>4</th>\n",
       "      <td>0.145729</td>\n",
       "    </tr>\n",
       "    <tr>\n",
       "      <th>5</th>\n",
       "      <td>0.104167</td>\n",
       "    </tr>\n",
       "  </tbody>\n",
       "</table>\n",
       "</div>"
      ],
      "text/plain": [
       "           Attrition\n",
       "Education           \n",
       "1           0.182353\n",
       "2           0.156028\n",
       "3           0.173077\n",
       "4           0.145729\n",
       "5           0.104167"
      ]
     },
     "metadata": {},
     "output_type": "display_data"
    },
    {
     "data": {
      "text/html": [
       "<div>\n",
       "<style scoped>\n",
       "    .dataframe tbody tr th:only-of-type {\n",
       "        vertical-align: middle;\n",
       "    }\n",
       "\n",
       "    .dataframe tbody tr th {\n",
       "        vertical-align: top;\n",
       "    }\n",
       "\n",
       "    .dataframe thead th {\n",
       "        text-align: right;\n",
       "    }\n",
       "</style>\n",
       "<table border=\"1\" class=\"dataframe\">\n",
       "  <thead>\n",
       "    <tr style=\"text-align: right;\">\n",
       "      <th></th>\n",
       "      <th>Attrition</th>\n",
       "    </tr>\n",
       "    <tr>\n",
       "      <th>EducationField</th>\n",
       "      <th></th>\n",
       "    </tr>\n",
       "  </thead>\n",
       "  <tbody>\n",
       "    <tr>\n",
       "      <th>Human Resources</th>\n",
       "      <td>0.259259</td>\n",
       "    </tr>\n",
       "    <tr>\n",
       "      <th>Life Sciences</th>\n",
       "      <td>0.146865</td>\n",
       "    </tr>\n",
       "    <tr>\n",
       "      <th>Marketing</th>\n",
       "      <td>0.220126</td>\n",
       "    </tr>\n",
       "    <tr>\n",
       "      <th>Medical</th>\n",
       "      <td>0.135776</td>\n",
       "    </tr>\n",
       "    <tr>\n",
       "      <th>Other</th>\n",
       "      <td>0.134146</td>\n",
       "    </tr>\n",
       "    <tr>\n",
       "      <th>Technical Degree</th>\n",
       "      <td>0.242424</td>\n",
       "    </tr>\n",
       "  </tbody>\n",
       "</table>\n",
       "</div>"
      ],
      "text/plain": [
       "                  Attrition\n",
       "EducationField             \n",
       "Human Resources    0.259259\n",
       "Life Sciences      0.146865\n",
       "Marketing          0.220126\n",
       "Medical            0.135776\n",
       "Other              0.134146\n",
       "Technical Degree   0.242424"
      ]
     },
     "metadata": {},
     "output_type": "display_data"
    },
    {
     "data": {
      "text/html": [
       "<div>\n",
       "<style scoped>\n",
       "    .dataframe tbody tr th:only-of-type {\n",
       "        vertical-align: middle;\n",
       "    }\n",
       "\n",
       "    .dataframe tbody tr th {\n",
       "        vertical-align: top;\n",
       "    }\n",
       "\n",
       "    .dataframe thead th {\n",
       "        text-align: right;\n",
       "    }\n",
       "</style>\n",
       "<table border=\"1\" class=\"dataframe\">\n",
       "  <thead>\n",
       "    <tr style=\"text-align: right;\">\n",
       "      <th></th>\n",
       "      <th>Attrition</th>\n",
       "    </tr>\n",
       "    <tr>\n",
       "      <th>EmployeeCount</th>\n",
       "      <th></th>\n",
       "    </tr>\n",
       "  </thead>\n",
       "  <tbody>\n",
       "    <tr>\n",
       "      <th>1</th>\n",
       "      <td>0.161224</td>\n",
       "    </tr>\n",
       "  </tbody>\n",
       "</table>\n",
       "</div>"
      ],
      "text/plain": [
       "               Attrition\n",
       "EmployeeCount           \n",
       "1               0.161224"
      ]
     },
     "metadata": {},
     "output_type": "display_data"
    },
    {
     "data": {
      "text/html": [
       "<div>\n",
       "<style scoped>\n",
       "    .dataframe tbody tr th:only-of-type {\n",
       "        vertical-align: middle;\n",
       "    }\n",
       "\n",
       "    .dataframe tbody tr th {\n",
       "        vertical-align: top;\n",
       "    }\n",
       "\n",
       "    .dataframe thead th {\n",
       "        text-align: right;\n",
       "    }\n",
       "</style>\n",
       "<table border=\"1\" class=\"dataframe\">\n",
       "  <thead>\n",
       "    <tr style=\"text-align: right;\">\n",
       "      <th></th>\n",
       "      <th>Attrition</th>\n",
       "    </tr>\n",
       "    <tr>\n",
       "      <th>EnvironmentSatisfaction</th>\n",
       "      <th></th>\n",
       "    </tr>\n",
       "  </thead>\n",
       "  <tbody>\n",
       "    <tr>\n",
       "      <th>1</th>\n",
       "      <td>0.253521</td>\n",
       "    </tr>\n",
       "    <tr>\n",
       "      <th>2</th>\n",
       "      <td>0.149826</td>\n",
       "    </tr>\n",
       "    <tr>\n",
       "      <th>3</th>\n",
       "      <td>0.136865</td>\n",
       "    </tr>\n",
       "    <tr>\n",
       "      <th>4</th>\n",
       "      <td>0.134529</td>\n",
       "    </tr>\n",
       "  </tbody>\n",
       "</table>\n",
       "</div>"
      ],
      "text/plain": [
       "                         Attrition\n",
       "EnvironmentSatisfaction           \n",
       "1                         0.253521\n",
       "2                         0.149826\n",
       "3                         0.136865\n",
       "4                         0.134529"
      ]
     },
     "metadata": {},
     "output_type": "display_data"
    },
    {
     "data": {
      "text/html": [
       "<div>\n",
       "<style scoped>\n",
       "    .dataframe tbody tr th:only-of-type {\n",
       "        vertical-align: middle;\n",
       "    }\n",
       "\n",
       "    .dataframe tbody tr th {\n",
       "        vertical-align: top;\n",
       "    }\n",
       "\n",
       "    .dataframe thead th {\n",
       "        text-align: right;\n",
       "    }\n",
       "</style>\n",
       "<table border=\"1\" class=\"dataframe\">\n",
       "  <thead>\n",
       "    <tr style=\"text-align: right;\">\n",
       "      <th></th>\n",
       "      <th>Attrition</th>\n",
       "    </tr>\n",
       "    <tr>\n",
       "      <th>Gender</th>\n",
       "      <th></th>\n",
       "    </tr>\n",
       "  </thead>\n",
       "  <tbody>\n",
       "    <tr>\n",
       "      <th>Female</th>\n",
       "      <td>0.147959</td>\n",
       "    </tr>\n",
       "    <tr>\n",
       "      <th>Male</th>\n",
       "      <td>0.170068</td>\n",
       "    </tr>\n",
       "  </tbody>\n",
       "</table>\n",
       "</div>"
      ],
      "text/plain": [
       "        Attrition\n",
       "Gender           \n",
       "Female   0.147959\n",
       "Male     0.170068"
      ]
     },
     "metadata": {},
     "output_type": "display_data"
    },
    {
     "data": {
      "text/html": [
       "<div>\n",
       "<style scoped>\n",
       "    .dataframe tbody tr th:only-of-type {\n",
       "        vertical-align: middle;\n",
       "    }\n",
       "\n",
       "    .dataframe tbody tr th {\n",
       "        vertical-align: top;\n",
       "    }\n",
       "\n",
       "    .dataframe thead th {\n",
       "        text-align: right;\n",
       "    }\n",
       "</style>\n",
       "<table border=\"1\" class=\"dataframe\">\n",
       "  <thead>\n",
       "    <tr style=\"text-align: right;\">\n",
       "      <th></th>\n",
       "      <th>Attrition</th>\n",
       "    </tr>\n",
       "    <tr>\n",
       "      <th>JobInvolvement</th>\n",
       "      <th></th>\n",
       "    </tr>\n",
       "  </thead>\n",
       "  <tbody>\n",
       "    <tr>\n",
       "      <th>1</th>\n",
       "      <td>0.337349</td>\n",
       "    </tr>\n",
       "    <tr>\n",
       "      <th>2</th>\n",
       "      <td>0.189333</td>\n",
       "    </tr>\n",
       "    <tr>\n",
       "      <th>3</th>\n",
       "      <td>0.144009</td>\n",
       "    </tr>\n",
       "    <tr>\n",
       "      <th>4</th>\n",
       "      <td>0.090278</td>\n",
       "    </tr>\n",
       "  </tbody>\n",
       "</table>\n",
       "</div>"
      ],
      "text/plain": [
       "                Attrition\n",
       "JobInvolvement           \n",
       "1                0.337349\n",
       "2                0.189333\n",
       "3                0.144009\n",
       "4                0.090278"
      ]
     },
     "metadata": {},
     "output_type": "display_data"
    },
    {
     "data": {
      "text/html": [
       "<div>\n",
       "<style scoped>\n",
       "    .dataframe tbody tr th:only-of-type {\n",
       "        vertical-align: middle;\n",
       "    }\n",
       "\n",
       "    .dataframe tbody tr th {\n",
       "        vertical-align: top;\n",
       "    }\n",
       "\n",
       "    .dataframe thead th {\n",
       "        text-align: right;\n",
       "    }\n",
       "</style>\n",
       "<table border=\"1\" class=\"dataframe\">\n",
       "  <thead>\n",
       "    <tr style=\"text-align: right;\">\n",
       "      <th></th>\n",
       "      <th>Attrition</th>\n",
       "    </tr>\n",
       "    <tr>\n",
       "      <th>JobLevel</th>\n",
       "      <th></th>\n",
       "    </tr>\n",
       "  </thead>\n",
       "  <tbody>\n",
       "    <tr>\n",
       "      <th>1</th>\n",
       "      <td>0.263352</td>\n",
       "    </tr>\n",
       "    <tr>\n",
       "      <th>2</th>\n",
       "      <td>0.097378</td>\n",
       "    </tr>\n",
       "    <tr>\n",
       "      <th>3</th>\n",
       "      <td>0.146789</td>\n",
       "    </tr>\n",
       "    <tr>\n",
       "      <th>4</th>\n",
       "      <td>0.047170</td>\n",
       "    </tr>\n",
       "    <tr>\n",
       "      <th>5</th>\n",
       "      <td>0.072464</td>\n",
       "    </tr>\n",
       "  </tbody>\n",
       "</table>\n",
       "</div>"
      ],
      "text/plain": [
       "          Attrition\n",
       "JobLevel           \n",
       "1          0.263352\n",
       "2          0.097378\n",
       "3          0.146789\n",
       "4          0.047170\n",
       "5          0.072464"
      ]
     },
     "metadata": {},
     "output_type": "display_data"
    },
    {
     "data": {
      "text/html": [
       "<div>\n",
       "<style scoped>\n",
       "    .dataframe tbody tr th:only-of-type {\n",
       "        vertical-align: middle;\n",
       "    }\n",
       "\n",
       "    .dataframe tbody tr th {\n",
       "        vertical-align: top;\n",
       "    }\n",
       "\n",
       "    .dataframe thead th {\n",
       "        text-align: right;\n",
       "    }\n",
       "</style>\n",
       "<table border=\"1\" class=\"dataframe\">\n",
       "  <thead>\n",
       "    <tr style=\"text-align: right;\">\n",
       "      <th></th>\n",
       "      <th>Attrition</th>\n",
       "    </tr>\n",
       "    <tr>\n",
       "      <th>JobRole</th>\n",
       "      <th></th>\n",
       "    </tr>\n",
       "  </thead>\n",
       "  <tbody>\n",
       "    <tr>\n",
       "      <th>Healthcare Representative</th>\n",
       "      <td>0.068702</td>\n",
       "    </tr>\n",
       "    <tr>\n",
       "      <th>Human Resources</th>\n",
       "      <td>0.230769</td>\n",
       "    </tr>\n",
       "    <tr>\n",
       "      <th>Laboratory Technician</th>\n",
       "      <td>0.239382</td>\n",
       "    </tr>\n",
       "    <tr>\n",
       "      <th>Manager</th>\n",
       "      <td>0.049020</td>\n",
       "    </tr>\n",
       "    <tr>\n",
       "      <th>Manufacturing Director</th>\n",
       "      <td>0.068966</td>\n",
       "    </tr>\n",
       "    <tr>\n",
       "      <th>Research Director</th>\n",
       "      <td>0.025000</td>\n",
       "    </tr>\n",
       "    <tr>\n",
       "      <th>Research Scientist</th>\n",
       "      <td>0.160959</td>\n",
       "    </tr>\n",
       "    <tr>\n",
       "      <th>Sales Executive</th>\n",
       "      <td>0.174847</td>\n",
       "    </tr>\n",
       "    <tr>\n",
       "      <th>Sales Representative</th>\n",
       "      <td>0.397590</td>\n",
       "    </tr>\n",
       "  </tbody>\n",
       "</table>\n",
       "</div>"
      ],
      "text/plain": [
       "                           Attrition\n",
       "JobRole                             \n",
       "Healthcare Representative   0.068702\n",
       "Human Resources             0.230769\n",
       "Laboratory Technician       0.239382\n",
       "Manager                     0.049020\n",
       "Manufacturing Director      0.068966\n",
       "Research Director           0.025000\n",
       "Research Scientist          0.160959\n",
       "Sales Executive             0.174847\n",
       "Sales Representative        0.397590"
      ]
     },
     "metadata": {},
     "output_type": "display_data"
    },
    {
     "data": {
      "text/html": [
       "<div>\n",
       "<style scoped>\n",
       "    .dataframe tbody tr th:only-of-type {\n",
       "        vertical-align: middle;\n",
       "    }\n",
       "\n",
       "    .dataframe tbody tr th {\n",
       "        vertical-align: top;\n",
       "    }\n",
       "\n",
       "    .dataframe thead th {\n",
       "        text-align: right;\n",
       "    }\n",
       "</style>\n",
       "<table border=\"1\" class=\"dataframe\">\n",
       "  <thead>\n",
       "    <tr style=\"text-align: right;\">\n",
       "      <th></th>\n",
       "      <th>Attrition</th>\n",
       "    </tr>\n",
       "    <tr>\n",
       "      <th>JobSatisfaction</th>\n",
       "      <th></th>\n",
       "    </tr>\n",
       "  </thead>\n",
       "  <tbody>\n",
       "    <tr>\n",
       "      <th>1</th>\n",
       "      <td>0.228374</td>\n",
       "    </tr>\n",
       "    <tr>\n",
       "      <th>2</th>\n",
       "      <td>0.164286</td>\n",
       "    </tr>\n",
       "    <tr>\n",
       "      <th>3</th>\n",
       "      <td>0.165158</td>\n",
       "    </tr>\n",
       "    <tr>\n",
       "      <th>4</th>\n",
       "      <td>0.113290</td>\n",
       "    </tr>\n",
       "  </tbody>\n",
       "</table>\n",
       "</div>"
      ],
      "text/plain": [
       "                 Attrition\n",
       "JobSatisfaction           \n",
       "1                 0.228374\n",
       "2                 0.164286\n",
       "3                 0.165158\n",
       "4                 0.113290"
      ]
     },
     "metadata": {},
     "output_type": "display_data"
    },
    {
     "data": {
      "text/html": [
       "<div>\n",
       "<style scoped>\n",
       "    .dataframe tbody tr th:only-of-type {\n",
       "        vertical-align: middle;\n",
       "    }\n",
       "\n",
       "    .dataframe tbody tr th {\n",
       "        vertical-align: top;\n",
       "    }\n",
       "\n",
       "    .dataframe thead th {\n",
       "        text-align: right;\n",
       "    }\n",
       "</style>\n",
       "<table border=\"1\" class=\"dataframe\">\n",
       "  <thead>\n",
       "    <tr style=\"text-align: right;\">\n",
       "      <th></th>\n",
       "      <th>Attrition</th>\n",
       "    </tr>\n",
       "    <tr>\n",
       "      <th>MaritalStatus</th>\n",
       "      <th></th>\n",
       "    </tr>\n",
       "  </thead>\n",
       "  <tbody>\n",
       "    <tr>\n",
       "      <th>Divorced</th>\n",
       "      <td>0.100917</td>\n",
       "    </tr>\n",
       "    <tr>\n",
       "      <th>Married</th>\n",
       "      <td>0.124814</td>\n",
       "    </tr>\n",
       "    <tr>\n",
       "      <th>Single</th>\n",
       "      <td>0.255319</td>\n",
       "    </tr>\n",
       "  </tbody>\n",
       "</table>\n",
       "</div>"
      ],
      "text/plain": [
       "               Attrition\n",
       "MaritalStatus           \n",
       "Divorced        0.100917\n",
       "Married         0.124814\n",
       "Single          0.255319"
      ]
     },
     "metadata": {},
     "output_type": "display_data"
    },
    {
     "data": {
      "text/html": [
       "<div>\n",
       "<style scoped>\n",
       "    .dataframe tbody tr th:only-of-type {\n",
       "        vertical-align: middle;\n",
       "    }\n",
       "\n",
       "    .dataframe tbody tr th {\n",
       "        vertical-align: top;\n",
       "    }\n",
       "\n",
       "    .dataframe thead th {\n",
       "        text-align: right;\n",
       "    }\n",
       "</style>\n",
       "<table border=\"1\" class=\"dataframe\">\n",
       "  <thead>\n",
       "    <tr style=\"text-align: right;\">\n",
       "      <th></th>\n",
       "      <th>Attrition</th>\n",
       "    </tr>\n",
       "    <tr>\n",
       "      <th>Over18</th>\n",
       "      <th></th>\n",
       "    </tr>\n",
       "  </thead>\n",
       "  <tbody>\n",
       "    <tr>\n",
       "      <th>Y</th>\n",
       "      <td>0.161224</td>\n",
       "    </tr>\n",
       "  </tbody>\n",
       "</table>\n",
       "</div>"
      ],
      "text/plain": [
       "        Attrition\n",
       "Over18           \n",
       "Y        0.161224"
      ]
     },
     "metadata": {},
     "output_type": "display_data"
    },
    {
     "data": {
      "text/html": [
       "<div>\n",
       "<style scoped>\n",
       "    .dataframe tbody tr th:only-of-type {\n",
       "        vertical-align: middle;\n",
       "    }\n",
       "\n",
       "    .dataframe tbody tr th {\n",
       "        vertical-align: top;\n",
       "    }\n",
       "\n",
       "    .dataframe thead th {\n",
       "        text-align: right;\n",
       "    }\n",
       "</style>\n",
       "<table border=\"1\" class=\"dataframe\">\n",
       "  <thead>\n",
       "    <tr style=\"text-align: right;\">\n",
       "      <th></th>\n",
       "      <th>Attrition</th>\n",
       "    </tr>\n",
       "    <tr>\n",
       "      <th>OverTime</th>\n",
       "      <th></th>\n",
       "    </tr>\n",
       "  </thead>\n",
       "  <tbody>\n",
       "    <tr>\n",
       "      <th>No</th>\n",
       "      <td>0.104364</td>\n",
       "    </tr>\n",
       "    <tr>\n",
       "      <th>Yes</th>\n",
       "      <td>0.305288</td>\n",
       "    </tr>\n",
       "  </tbody>\n",
       "</table>\n",
       "</div>"
      ],
      "text/plain": [
       "          Attrition\n",
       "OverTime           \n",
       "No         0.104364\n",
       "Yes        0.305288"
      ]
     },
     "metadata": {},
     "output_type": "display_data"
    },
    {
     "data": {
      "text/html": [
       "<div>\n",
       "<style scoped>\n",
       "    .dataframe tbody tr th:only-of-type {\n",
       "        vertical-align: middle;\n",
       "    }\n",
       "\n",
       "    .dataframe tbody tr th {\n",
       "        vertical-align: top;\n",
       "    }\n",
       "\n",
       "    .dataframe thead th {\n",
       "        text-align: right;\n",
       "    }\n",
       "</style>\n",
       "<table border=\"1\" class=\"dataframe\">\n",
       "  <thead>\n",
       "    <tr style=\"text-align: right;\">\n",
       "      <th></th>\n",
       "      <th>Attrition</th>\n",
       "    </tr>\n",
       "    <tr>\n",
       "      <th>PerformanceRating</th>\n",
       "      <th></th>\n",
       "    </tr>\n",
       "  </thead>\n",
       "  <tbody>\n",
       "    <tr>\n",
       "      <th>3</th>\n",
       "      <td>0.160772</td>\n",
       "    </tr>\n",
       "    <tr>\n",
       "      <th>4</th>\n",
       "      <td>0.163717</td>\n",
       "    </tr>\n",
       "  </tbody>\n",
       "</table>\n",
       "</div>"
      ],
      "text/plain": [
       "                   Attrition\n",
       "PerformanceRating           \n",
       "3                   0.160772\n",
       "4                   0.163717"
      ]
     },
     "metadata": {},
     "output_type": "display_data"
    },
    {
     "data": {
      "text/html": [
       "<div>\n",
       "<style scoped>\n",
       "    .dataframe tbody tr th:only-of-type {\n",
       "        vertical-align: middle;\n",
       "    }\n",
       "\n",
       "    .dataframe tbody tr th {\n",
       "        vertical-align: top;\n",
       "    }\n",
       "\n",
       "    .dataframe thead th {\n",
       "        text-align: right;\n",
       "    }\n",
       "</style>\n",
       "<table border=\"1\" class=\"dataframe\">\n",
       "  <thead>\n",
       "    <tr style=\"text-align: right;\">\n",
       "      <th></th>\n",
       "      <th>Attrition</th>\n",
       "    </tr>\n",
       "    <tr>\n",
       "      <th>RelationshipSatisfaction</th>\n",
       "      <th></th>\n",
       "    </tr>\n",
       "  </thead>\n",
       "  <tbody>\n",
       "    <tr>\n",
       "      <th>1</th>\n",
       "      <td>0.206522</td>\n",
       "    </tr>\n",
       "    <tr>\n",
       "      <th>2</th>\n",
       "      <td>0.148515</td>\n",
       "    </tr>\n",
       "    <tr>\n",
       "      <th>3</th>\n",
       "      <td>0.154684</td>\n",
       "    </tr>\n",
       "    <tr>\n",
       "      <th>4</th>\n",
       "      <td>0.148148</td>\n",
       "    </tr>\n",
       "  </tbody>\n",
       "</table>\n",
       "</div>"
      ],
      "text/plain": [
       "                          Attrition\n",
       "RelationshipSatisfaction           \n",
       "1                          0.206522\n",
       "2                          0.148515\n",
       "3                          0.154684\n",
       "4                          0.148148"
      ]
     },
     "metadata": {},
     "output_type": "display_data"
    },
    {
     "data": {
      "text/html": [
       "<div>\n",
       "<style scoped>\n",
       "    .dataframe tbody tr th:only-of-type {\n",
       "        vertical-align: middle;\n",
       "    }\n",
       "\n",
       "    .dataframe tbody tr th {\n",
       "        vertical-align: top;\n",
       "    }\n",
       "\n",
       "    .dataframe thead th {\n",
       "        text-align: right;\n",
       "    }\n",
       "</style>\n",
       "<table border=\"1\" class=\"dataframe\">\n",
       "  <thead>\n",
       "    <tr style=\"text-align: right;\">\n",
       "      <th></th>\n",
       "      <th>Attrition</th>\n",
       "    </tr>\n",
       "    <tr>\n",
       "      <th>StandardHours</th>\n",
       "      <th></th>\n",
       "    </tr>\n",
       "  </thead>\n",
       "  <tbody>\n",
       "    <tr>\n",
       "      <th>80</th>\n",
       "      <td>0.161224</td>\n",
       "    </tr>\n",
       "  </tbody>\n",
       "</table>\n",
       "</div>"
      ],
      "text/plain": [
       "               Attrition\n",
       "StandardHours           \n",
       "80              0.161224"
      ]
     },
     "metadata": {},
     "output_type": "display_data"
    },
    {
     "data": {
      "text/html": [
       "<div>\n",
       "<style scoped>\n",
       "    .dataframe tbody tr th:only-of-type {\n",
       "        vertical-align: middle;\n",
       "    }\n",
       "\n",
       "    .dataframe tbody tr th {\n",
       "        vertical-align: top;\n",
       "    }\n",
       "\n",
       "    .dataframe thead th {\n",
       "        text-align: right;\n",
       "    }\n",
       "</style>\n",
       "<table border=\"1\" class=\"dataframe\">\n",
       "  <thead>\n",
       "    <tr style=\"text-align: right;\">\n",
       "      <th></th>\n",
       "      <th>Attrition</th>\n",
       "    </tr>\n",
       "    <tr>\n",
       "      <th>StockOptionLevel</th>\n",
       "      <th></th>\n",
       "    </tr>\n",
       "  </thead>\n",
       "  <tbody>\n",
       "    <tr>\n",
       "      <th>0</th>\n",
       "      <td>0.244057</td>\n",
       "    </tr>\n",
       "    <tr>\n",
       "      <th>1</th>\n",
       "      <td>0.093960</td>\n",
       "    </tr>\n",
       "    <tr>\n",
       "      <th>2</th>\n",
       "      <td>0.075949</td>\n",
       "    </tr>\n",
       "    <tr>\n",
       "      <th>3</th>\n",
       "      <td>0.176471</td>\n",
       "    </tr>\n",
       "  </tbody>\n",
       "</table>\n",
       "</div>"
      ],
      "text/plain": [
       "                  Attrition\n",
       "StockOptionLevel           \n",
       "0                  0.244057\n",
       "1                  0.093960\n",
       "2                  0.075949\n",
       "3                  0.176471"
      ]
     },
     "metadata": {},
     "output_type": "display_data"
    },
    {
     "data": {
      "text/html": [
       "<div>\n",
       "<style scoped>\n",
       "    .dataframe tbody tr th:only-of-type {\n",
       "        vertical-align: middle;\n",
       "    }\n",
       "\n",
       "    .dataframe tbody tr th {\n",
       "        vertical-align: top;\n",
       "    }\n",
       "\n",
       "    .dataframe thead th {\n",
       "        text-align: right;\n",
       "    }\n",
       "</style>\n",
       "<table border=\"1\" class=\"dataframe\">\n",
       "  <thead>\n",
       "    <tr style=\"text-align: right;\">\n",
       "      <th></th>\n",
       "      <th>Attrition</th>\n",
       "    </tr>\n",
       "    <tr>\n",
       "      <th>TrainingTimesLastYear</th>\n",
       "      <th></th>\n",
       "    </tr>\n",
       "  </thead>\n",
       "  <tbody>\n",
       "    <tr>\n",
       "      <th>0</th>\n",
       "      <td>0.277778</td>\n",
       "    </tr>\n",
       "    <tr>\n",
       "      <th>1</th>\n",
       "      <td>0.126761</td>\n",
       "    </tr>\n",
       "    <tr>\n",
       "      <th>2</th>\n",
       "      <td>0.179159</td>\n",
       "    </tr>\n",
       "    <tr>\n",
       "      <th>3</th>\n",
       "      <td>0.140530</td>\n",
       "    </tr>\n",
       "    <tr>\n",
       "      <th>4</th>\n",
       "      <td>0.211382</td>\n",
       "    </tr>\n",
       "    <tr>\n",
       "      <th>5</th>\n",
       "      <td>0.117647</td>\n",
       "    </tr>\n",
       "    <tr>\n",
       "      <th>6</th>\n",
       "      <td>0.092308</td>\n",
       "    </tr>\n",
       "  </tbody>\n",
       "</table>\n",
       "</div>"
      ],
      "text/plain": [
       "                       Attrition\n",
       "TrainingTimesLastYear           \n",
       "0                       0.277778\n",
       "1                       0.126761\n",
       "2                       0.179159\n",
       "3                       0.140530\n",
       "4                       0.211382\n",
       "5                       0.117647\n",
       "6                       0.092308"
      ]
     },
     "metadata": {},
     "output_type": "display_data"
    },
    {
     "data": {
      "text/html": [
       "<div>\n",
       "<style scoped>\n",
       "    .dataframe tbody tr th:only-of-type {\n",
       "        vertical-align: middle;\n",
       "    }\n",
       "\n",
       "    .dataframe tbody tr th {\n",
       "        vertical-align: top;\n",
       "    }\n",
       "\n",
       "    .dataframe thead th {\n",
       "        text-align: right;\n",
       "    }\n",
       "</style>\n",
       "<table border=\"1\" class=\"dataframe\">\n",
       "  <thead>\n",
       "    <tr style=\"text-align: right;\">\n",
       "      <th></th>\n",
       "      <th>Attrition</th>\n",
       "    </tr>\n",
       "    <tr>\n",
       "      <th>WorkLifeBalance</th>\n",
       "      <th></th>\n",
       "    </tr>\n",
       "  </thead>\n",
       "  <tbody>\n",
       "    <tr>\n",
       "      <th>1</th>\n",
       "      <td>0.312500</td>\n",
       "    </tr>\n",
       "    <tr>\n",
       "      <th>2</th>\n",
       "      <td>0.168605</td>\n",
       "    </tr>\n",
       "    <tr>\n",
       "      <th>3</th>\n",
       "      <td>0.142217</td>\n",
       "    </tr>\n",
       "    <tr>\n",
       "      <th>4</th>\n",
       "      <td>0.176471</td>\n",
       "    </tr>\n",
       "  </tbody>\n",
       "</table>\n",
       "</div>"
      ],
      "text/plain": [
       "                 Attrition\n",
       "WorkLifeBalance           \n",
       "1                 0.312500\n",
       "2                 0.168605\n",
       "3                 0.142217\n",
       "4                 0.176471"
      ]
     },
     "metadata": {},
     "output_type": "display_data"
    }
   ],
   "source": [
    "for col in cat_cols:\n",
    "    display(data[[col, \"Attrition\"]].groupby(col).mean())"
   ]
  },
  {
   "cell_type": "code",
   "execution_count": 96,
   "metadata": {},
   "outputs": [],
   "source": [
    "data = data.drop(columns=[\"Over18\", \"EmployeeCount\", \"EmployeeNumber\", \"StandardHours\"])\n",
    "\n",
    "cat_cols = [x for x in cat_cols if x not in [\"Over18\", \"EmployeeCount\", \"EmployeeNumber\", \"StandardHours\"]]\n",
    "numeric_cols = [x for x in numeric_cols if x not in [\"Over18\", \"EmployeeCount\", \"EmployeeNumber\", \"StandardHours\"]]"
   ]
  },
  {
   "cell_type": "code",
   "execution_count": 119,
   "metadata": {},
   "outputs": [
    {
     "data": {
      "image/png": "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\n",
      "text/plain": [
       "<Figure size 432x288 with 1 Axes>"
      ]
     },
     "metadata": {
      "needs_background": "light"
     },
     "output_type": "display_data"
    },
    {
     "data": {
      "image/png": "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\n",
      "text/plain": [
       "<Figure size 432x288 with 1 Axes>"
      ]
     },
     "metadata": {
      "needs_background": "light"
     },
     "output_type": "display_data"
    },
    {
     "data": {
      "image/png": "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\n",
      "text/plain": [
       "<Figure size 432x288 with 1 Axes>"
      ]
     },
     "metadata": {
      "needs_background": "light"
     },
     "output_type": "display_data"
    },
    {
     "data": {
      "image/png": "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\n",
      "text/plain": [
       "<Figure size 432x288 with 1 Axes>"
      ]
     },
     "metadata": {
      "needs_background": "light"
     },
     "output_type": "display_data"
    },
    {
     "data": {
      "image/png": "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\n",
      "text/plain": [
       "<Figure size 432x288 with 1 Axes>"
      ]
     },
     "metadata": {
      "needs_background": "light"
     },
     "output_type": "display_data"
    },
    {
     "data": {
      "image/png": "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\n",
      "text/plain": [
       "<Figure size 432x288 with 1 Axes>"
      ]
     },
     "metadata": {
      "needs_background": "light"
     },
     "output_type": "display_data"
    },
    {
     "data": {
      "image/png": "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\n",
      "text/plain": [
       "<Figure size 432x288 with 1 Axes>"
      ]
     },
     "metadata": {
      "needs_background": "light"
     },
     "output_type": "display_data"
    },
    {
     "data": {
      "image/png": "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\n",
      "text/plain": [
       "<Figure size 432x288 with 1 Axes>"
      ]
     },
     "metadata": {
      "needs_background": "light"
     },
     "output_type": "display_data"
    },
    {
     "data": {
      "image/png": "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\n",
      "text/plain": [
       "<Figure size 432x288 with 1 Axes>"
      ]
     },
     "metadata": {
      "needs_background": "light"
     },
     "output_type": "display_data"
    },
    {
     "data": {
      "image/png": "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\n",
      "text/plain": [
       "<Figure size 432x288 with 1 Axes>"
      ]
     },
     "metadata": {
      "needs_background": "light"
     },
     "output_type": "display_data"
    },
    {
     "data": {
      "image/png": "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\n",
      "text/plain": [
       "<Figure size 432x288 with 1 Axes>"
      ]
     },
     "metadata": {
      "needs_background": "light"
     },
     "output_type": "display_data"
    },
    {
     "data": {
      "image/png": "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\n",
      "text/plain": [
       "<Figure size 432x288 with 1 Axes>"
      ]
     },
     "metadata": {
      "needs_background": "light"
     },
     "output_type": "display_data"
    },
    {
     "data": {
      "image/png": "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\n",
      "text/plain": [
       "<Figure size 432x288 with 1 Axes>"
      ]
     },
     "metadata": {
      "needs_background": "light"
     },
     "output_type": "display_data"
    },
    {
     "data": {
      "image/png": "iVBORw0KGgoAAAANSUhEUgAAAYgAAAETCAYAAAAs4pGmAAAABHNCSVQICAgIfAhkiAAAAAlwSFlzAAALEgAACxIB0t1+/AAAADh0RVh0U29mdHdhcmUAbWF0cGxvdGxpYiB2ZXJzaW9uMy4yLjIsIGh0dHA6Ly9tYXRwbG90bGliLm9yZy+WH4yJAAAgAElEQVR4nO3deZxVdf3H8debAYTEJRFNRYJMRJQYbVRySck0cIFySdRULOOHRmakgfXLULMoNcufCxkqZIEkBZFRbogbmqBBbmiAY4xkIK4IKMvn98c5M16GM3fuwNy5zPB+Ph73Mfd8t/M95945n/s9qyICMzOz2lqVugNmZrZlcoAwM7NMDhBmZpbJAcLMzDI5QJiZWSYHCDMzy+QAYRuRdKake/PkHyHpxSLMt6ukkNS6sdtuYD8GS3p0M+r/VdI5jdmnWu3nXU+SvidpbLHmn0+hyy7pMEn/krRC0hcbuQ8rJH2iMdvcWjlAtACSZkp6U9I2tdIrJX0+Z7qgDXBE/C4ijs2pF5I+mZP/SETs05jL0NgkjZK0Jt1YvCVplqTPFGk+v81Ni4j+ETG+sedVqIj4cUScV0hZSTtKuk3Sa5LelfSSpBEF1t2cZb8CuCEiOkTE1ELmV0cfZkraYFnTNhdtapv2IQeIZk5SV+AIIIABjdBeSX+9N7JJEdEB2Bl4ELirxP3ZEl0HdAD2BXYg+Q4tbIL5fhx4rgnmY5sjIvxqxi/gMuAx4OfA3TnpdwDrgVXACuC7wL9JAsmK9PUZYHBa/zrgDeBHadqjaTsPp3XeS+ucBhwFVOXMa19gJvAWyT/9gJy8ccCNwF+Ad4G/A3vVsSxd03kNAZYA/wG+k+Z9DFgJdMwp/2lgGdAmo61RwG9zpnumbXdKp3cAbk3n8Wq63GVpXs3yp9O/BBYD7wBPAUek6f2AD4A16bqZl6bPBM5L37cC/hd4BVgK/AbYodbynpN+Nq8D38+Z78HAnHS+/wV+XmC9mmXPt07T/GeBL+b5fm3Osn8SeAh4O+3jpDR9IRt+N7cBzgVeSL8ji4D/qdWPgcDctB8L0/lfBawDVqft3JCWDeCTOZ/zb0i+J6+kn0Wr3M8ZuAZ4E3gZ6F/q/+kt6VXyDvi1mR8gLAAuINlYrgF2zcmrBD6fM129sWidkzYYWAt8E2gNtGfjDWTNP1w6fRRpgADapH34HtAW+Fz6T75Pmj+OJPAcnLb/O+DOOpalun8TgW2BXuk/9ufT/OnA+TnlrwP+r462RvHhRrItMDrdSLVO06YCv0rnswvwZPVGKWP5vwJ0TPv/HeA1oF3t+eSUn8mHG8mvpuvnEyS/1P8I3FFreX+drvfewPvAvmn+48BZ6fsOQJ8C6+Uue33rdCxJUD8X2DtjPW7Osk8Evk8SJNsBh+f5bh4P7AUIOJLkx8CBad7BJEHmmLStPYAeteeX9X0lCQ5/ArZL18VLwNdyPuc1wNeBMuB8kiCqUv9fbykv72JqxiQdTjJU/31EPEXyy+qMTWhqSUT8X0SsjYhVDazbh2TjNToiPoiIGcDdwOk5Zf4YEU9GxFqSAFFeT5uXR8R7EfEMcHtOW+NJNlhIKkvT78jTzpclvUXyS/XrwCkRsVbSrkB/4KJ0PktJgs2grEYi4rcRsTxdP9eS/OIt9BjMmSS//BdFxArgUmBQrV15l0fEqoiYB8wj2eBDsvH6pKSdI2JFRDxRq+266mWpa51+k+QzGQY8L2mBpP6NtOxrSL6fu0fE6oio88B/RPwlIhZG4iHgXpJdpwBfA26LiPsiYn1EvBoR8+ubefodOQ24NCLejYhK4FrgrJxir0TEryNiHcn3azdg1wKXr8VzgGjezgHujYjX0+kJaVpDLd6MPuwOLI6I9Tlpr5D8yqv2Ws77lSQBpdD+vJLOA5Jfgj3TM1SOAd6OiCfztPP7iNiR5B/+WZJRFiQbrTbAf9ID2G+RjCZ2yWpE0nckvSDp7bTsDiTHNQqxe7oMucvTmg03QnWtn68B3YH5kmZLOqFW2w1Zr5nrNA0wP46IT5OMFH4P3CVpJ9jsZf8uyYjgSUnPSfpqXQUl9Zf0hKQ30vkclzOfPdm04yI7k4wea6//zO9mRKxM39b3/dxqtKQDklsVSe2BLwNlkqq/5NsAO0rqnf6qrH2r3rpu3bs5t/RdAuwpqVVOkOhCMpTfVHsC1b8Qu6TzICJWS/o9ya/yHuQfPdSIiNcl/Q8wW9IEko3l+8DO6aimTpKOAEYARwPPRcR6SW+SbPig/nW3hCQgVetCskvvv0Dnevr9L+B0Sa2Ak4DJkjrWM7+6ZK7TWvN7R9KPSUY53STtx2Yse0S8RjJyqx7t3i/p4YhYkFsuPfvuD8DZwJ8iYo2kqTnzWUyy+ylzNnm68DofjmKeT9O6kBxzsgJ4BNF8fZHkAF1Pkl025SQHix8h+UeDZCOUez74MpKDgw09R7x2O7n+TnIA+7uS2kg6CjgRuLOB88j1A0kfSTdQ5wKTcvJ+Q7LveADw24y6mdJdEvcA342I/5DswrhW0vaSWknaS9KRGVW3I9mgLwNaS7oM2D4n/79A13QjnmUi8G1J3SR1AH5McrA2b2ACkPQVSZ3SwPtWmryugMXNkrlOJf1A0kGS2kpqB3wrndeLbOaySzpVUnUQfJNkY57V/7YkP26WAWvTXVzH5uTfCpwr6ej0s9pDUo+cPmR+N9PdRr8HrpK0naSPA8NpwPdma+cA0XydA9weEf+OiNeqX8ANwJnpPu6fAP+b7ka5OB1CXwU8lqb1KXBeo4DxaZ0v52ZExAckG+v+JL/YbgLOLmQfcR4PkRzYfQC4JiJqLtqLiMdIgtzT6T7lhrgaGCJpF5Ig2pbkl+WbwGSS/c+13QP8lWRE9ArJGTO5u2uqT51dLunpjPq3kYx0HiY5S2Y1yX7/QvQDnpO0guRsokERsbrAurXVtU6D5JjE6ySjimOA49PjJZu77AcBf0/7Pw34VkS8XLtQRLwLXEiyMX+T5DjatJz8J0mC2nUkB6sf4sNR2S+BU9LrgK7P6MM3SX7ALCI5Y2kCyWdiBVCEHxhkzYukGcCEiCjJ1cLNSXqdzMskpwLXO2oxy+VjENasSDoIOJDkvHgzKyLvYrJmQ9J44H6S01PfLXV/zFo672IyM7NMHkGYmVkmBwgzM8vUog5S77zzztG1a9dSd8PMrNl46qmnXo+ITll5LSpAdO3alTlz5pS6G2ZmzYakV+rK8y4mMzPL5ABhZmaZHCDMzCxTizoGkWXNmjVUVVWxevWm3sLGGqpdu3Z07tyZNm3alLorZrYZWnyAqKqqYrvttqNr165Iqr+CbZaIYPny5VRVVdGtW7dSd8fMNkOL38W0evVqOnbs6ODQRCTRsWNHj9jMWoAWHyAAB4cm5vVt1jJsFQFiSzBlyhQkMX/+h49JmDt3LtOnT6+ZnjlzJrNmzaqzjWnTpjF69GgApk6dyvPPP1+Td9lll3H//fdvdj8fe+wxPvWpT3HQQQexYEHy4K+33nqLL3zhC/i+XWZblxZ/DKK2riP/0qjtVY4+vqByEydO5PDDD+fOO+9k1KhRQBIg5syZw3HHHQckAaJDhw4ceuihG9Vfu3YtAwYMYMCAAUASIE444QR69uwJwBVXXNEISwPXXnstf/jDH6isrOTmm2/m2muv5corr+R73/ueRwZbg1E7FKHNtxu/TWsSHkE0gRUrVvDYY49x6623cuedyZM4P/jgAy677DImTZpEeXk5P/3pTxkzZgzXXXcd5eXlPPLIIwwePJjhw4fTt29fRowYwbhx4xg2bBizZs1i2rRpXHLJJZSXl7Nw4UIGDx7M5MmTAXjggQc44IAD6NWrF1/96ld5//33geRK8x/+8IcceOCB9OrVa4PRTLU2bdqwatUqVq5cSZs2bVi4cCGvvvoqRx6Z9TROM2vJtroRRClMnTqVfv360b17d3baaSeefvppDjzwQK644grmzJnDDTfcAMCqVavo0KEDF198MQC33norL730Evfffz9lZWWMGzcOgEMPPZQBAwZwwgkncMopp2wwr9WrVzN48GAeeOABunfvztlnn83NN9/MRRddBMDOO+/M008/zU033cQ111zD2LEbPpTt0ksvZciQIbRv35477riDiy++mCuvvLLIa8jMtkQeQTSBiRMnMmjQIAAGDRrExIkTC6576qmnUlZWVnD5F198kW7dutG9e3cAzjnnHB5++OGa/JNOOgmAT3/601RWVm5Uv7y8nCeeeIIHH3yQRYsWsfvuuxMRnHbaaXzlK1/hv//9b8F9MbPmzSOIIlu+fDkzZszg2WefRRLr1q1DEj/72c8Kqr/ttts2aH71HUjeZpttACgrK2Pt2rofURwR/OhHP2LSpEkMGzaMyy+/nMrKSq6//nquuuqqBvXJzJqnoo4gJPWT9KKkBZJGZuQPlPRPSXMlzZF0eKF1m4vJkydz9tln88orr1BZWcnixYvp1q0bjz76KNtttx3vvvvhkzNrT+dTV9kePXpQWVlZcwbSHXfcsUnHD8aPH8/xxx/PRz/6UVauXEmrVq1o1aoVK1eubHBbZtY8FS1ASCoDbgT6Az2B0yX1rFXsAaB3RJQDXwXGNqBuszBx4kS+9KUvbZB28sknM2HCBPr27cvzzz9PeXk5kyZN4sQTT2TKlCk1B6nzGTRoEFdffTUHHHAACxcurElv164dt99+O6eeeiq9evWiVatWDB06tEF9XrlyJePHj+eCCy4AYPjw4Zx88slceumlnH/++Q1qy8yar6I9k1rSZ4BREfGFdPpSgIj4SZ7yt0XEvg2tW62ioiJqPw/ihRdeYN99993cxbEG8npvpnya61ZH0lMRUZGVV8xdTHsAi3Omq9K0DUj6kqT5wF9IRhEF103rD0l3T81ZtmxZo3TczMyKGyCyrqraaLgSEVMiogfwRaD6fMqC6qb1b4mIioio6NQp86l5Zma2CYoZIKqAPXOmOwNL6iocEQ8De0nauaF1zcys8RUzQMwG9pbUTVJbYBAwLbeApE8qvX+DpAOBtsDyQuqamVlxFe06iIhYK2kYcA9QRnIA+jlJQ9P8McDJwNmS1gCrgNMiOWqeWbdYfTUzs40V9UK5iJgOTK+VNibn/U+BnxZa18ysWWnss8Ka+Iww32qjCZSVlVFeXs5+++1H7969+fnPf8769esBmDNnDhdeeGGddSsrK5kwYUKd+UuWLKm5H1P1zfwaYty4cSxZ8uHhnfPOO2+D24ib2dZr67vVRgkievv27Zk7dy4AS5cu5YwzzuDtt9/m8ssvp6KigoqKzFOQgQ8DxBlnnLFR3tq1a9l9991r7uK6KcaNG8f+++/P7rvvDrDRzfvMbOvlEUQT22WXXbjlllu44YYbiAhmzpzJCSecAMBDDz1EeXk55eXlHHDAAbz77ruMHDmSRx55hPLycq677jrGjRvHqaeeyoknnsixxx5LZWUl+++/f037ixcvpl+/fuyzzz5cfvnlABuVueaaaxg1ahSTJ09mzpw5nHnmmZSXl7Nq1SqOOuooqi82nDhxIr169WL//fdnxIgRNfU7dOjA97//fXr37k2fPn18Az+zFsoBogQ+8YlPsH79epYuXbpB+jXXXMONN97I3LlzeeSRR2jfvj2jR4/miCOOYO7cuXz7298G4PHHH2f8+PHMmDFjo7affPJJfve73zF37lzuuusual9ZnuuUU06hoqKipnz79u1r8pYsWcKIESOYMWMGc+fOZfbs2UydOhWA9957jz59+jBv3jw++9nP8utf/7oxVouZbWEcIEok6xYnhx12GMOHD+f666/nrbfeonXr7D2AxxxzDDvttFOdeR07dqR9+/acdNJJPProo5vUv9mzZ3PUUUfRqVMnWrduzZlnnllz2/C2bdvWjHrqum24mTV/DhAlsGjRIsrKythll102SB85ciRjx45l1apV9OnTJ/OJb5D/FuC1HwsqidatW9ccFIfkoUL1yXePrjZt2tTMp77bhptZ8+UA0cSWLVvG0KFDGTZs2EYb84ULF9KrVy9GjBhBRUUF8+fPb9AtwAHuu+8+3njjDVatWsXUqVM57LDD2HXXXVm6dCnLly/n/fff5+67764pX1f7hxxyCA899BCvv/4669atY+LEiX7sqNlWZus7i6kEVq1aRXl5OWvWrKF169acddZZDB8+fKNyv/jFL3jwwQcpKyujZ8+e9O/fn1atWtG6dWt69+7N4MGD+ehHP5p3XocffjhnnXUWCxYs4Iwzzqg5Q+qyyy7jkEMOoVu3bvTo0aOm/ODBgxk6dCjt27fn8ccfr0nfbbfd+MlPfkLfvn2JCI477jgGDhzYSGvEzJqDot3uuxR8u+8th9d7M+XbfTeuZnChXKlu921mZs2YA4SZmWVygDAzs0xbRYBoScdZmgOvb7OWocUHiHbt2rF8+XJvtJpIRLB8+XLatWtX6q6Y2WZq8ae5du7cmaqqKvy86qbTrl07OnfuXOpumNlmavEBok2bNnTr1q3U3TAza3Za/C4mMzPbNA4QZmaWyQHCzMwyOUCYmVkmBwgzM8vkAGFmZpkcIMzMLJMDhJmZZSpqgJDUT9KLkhZIGpmRf6akf6avWZJ65+RVSnpG0lxJc2rXNTOz4iraldSSyoAbgWOAKmC2pGkR8XxOsZeBIyPiTUn9gVuAQ3Ly+0bE68Xqo5mZ1a2YI4iDgQURsSgiPgDuBDZ4ZmVEzIqIN9PJJwDfwMfMbAtRzACxB7A4Z7oqTavL14C/5kwHcK+kpyQNKUL/zMwsj2LerE8ZaZn33JbUlyRAHJ6TfFhELJG0C3CfpPkR8XBG3SHAEIAuXbpsfq/NzAwo7giiCtgzZ7ozsKR2IUmfAsYCAyNieXV6RCxJ/y4FppDsstpIRNwSERURUdGpU6dG7L6Z2datmAFiNrC3pG6S2gKDgGm5BSR1Af4InBURL+Wkbytpu+r3wLHAs0Xsq5mZ1VK0XUwRsVbSMOAeoAy4LSKekzQ0zR8DXAZ0BG6SBLA2IiqAXYEpaVprYEJE/K1YfTUzs40V9YFBETEdmF4rbUzO+/OA8zLqLQJ61043M7Om4yupzcwskwOEmZllcoAwM7NMDhBmZpbJAcLMzDI5QJiZWSYHCDMzy+QAYWZmmRwgzMwskwOEmZllcoAwM7NMDhBmZpbJAcLMzDI5QJiZWSYHCDMzy+QAYWZmmRwgzMwskwOEmZllcoAwM7NMDhBmZpbJAcLMzDI5QJiZWSYHCDMzy9S61B3Y0nUd+ZdGba9y9PGN2p6ZWbEUNUBI6gf8EigDxkbE6Fr5ZwIj0skVwPkRMa+QumYAjNqhCG2+3fhtmjVDRdvFJKkMuBHoD/QETpfUs1axl4EjI+JTwJXALQ2oa2ZmRVRwgJDUSdKPJF0r6ZMFVDkYWBARiyLiA+BOYGBugYiYFRFvppNPAJ0LrWtmZsXVkBHEtcDDwN+AiQWU3wNYnDNdlabV5WvAXzexrpmZNbI6A4Skv0k6IiepLVCZvrYpoG1lpEUd8+pLEiCqj0c0pO4QSXMkzVm2bFkB3TIzs0LkG0GcBgyUNEHSXsAPgMuA0cAFBbRdBeyZM90ZWFK7kKRPAWOBgRGxvCF1ASLiloioiIiKTp06FdAtMzMrRJ1nMUXE28DFkj4BXAW8CnwjTS/EbGBvSd3SuoOAM3ILSOoC/BE4KyJeakhdMzMrrjoDRBoYzgfWAN8B9gJ+L+lu4KaIWJev4YhYK2kYcA/Jqaq3RcRzkoam+WNIRiQdgZskAaxNRwOZdTdzWc3MrAHyXQcxEfgesC1wR0QcDXxB0jnAvcDR9TUeEdOB6bXSxuS8Pw84r9C6ZmbWdPIFiHYk1ylsC3ykOjEixkv6fbE7ZmZmpZUvQJwPXA18AAzNzYiIVcXslJmZlV6+g9SzgFlN2BczM9uC+GZ9Tc33DjKzZsK3+zYzs0wOEGZmlqneXUySugOXAB/PLR8Rnytiv8zMrMQKOQZxFzAG+DWQ9+I4MzNrOQoJEGsj4uai98TMzLYohRyD+LOkCyTtJmmn6lfRe2ZmZiVVyAjinPTvJTlpAXyi8btjZmZbinoDRER0a4qOmJnZlqWQs5jakNx247Np0kzgVxGxpoj9MjOzEitkF9PNQBvgpnT6rDQt8y6sZmbWMhQSIA6KiN450zMkzStWh8zMbMtQyFlM69JHjgI1DxLy9RBmZi1cISOIS4AHJS0CRHJF9blF7ZWZmZVcIWcxPSBpb2AfkgAxPyLeL3rPzMyspPI9k/pzETFD0km1svaSRET8sch9MzOzEso3gjgSmAGcmJEXgAOEmVkLlu+Jcj9M314RES/n5knyxXNmZi1cIWcx/SEjbXJjd8TMzLYs+Y5B9AD2A3aodRxie6BdsTtmZmalle8YxD7ACcCObHgc4l3g68XslJmZlV6+YxB/Av4k6TMR8fimNC6pH/BLoAwYGxGja+X3AG4HDgS+HxHX5ORVkgSjdSTPpKjYlD6YmdmmybeL6bsR8TPgDEmn186PiAvzNSypDLgROAaoAmZLmhYRz+cUewO4EPhiHc30jYjX61kGs61S15F/afQ2K73z2HLk28X0Qvp3zia2fTCwICIWAUi6ExgI1ASIiFgKLJV0/CbOw8zMiiTfLqY/p6OA/SPikrrK5bEHsDhnugo4pAH1A7hXUpDcXvyWTeiDmZltory32oiIdZI+vYltK6vJBtQ/LCKWSNoFuE/S/Ih4eKOZSEOAIQBdunTZtJ6amdlGCrlZ3z8kTQPuAt6rTizgVhtVwJ45052BJYV2LCKWpH+XSppCsstqowCRjixuAaioqGhIALIm5n3mtiXz93NjhQSInYDlwOdy0gq51cZsYO/0qutXgUHAGYV0StK2QKuIeDd9fyxwRSF1zcyscRQSIMZGxGO5CZIOq69SRKyVNAy4h+Q019si4jlJQ9P8MZI+RnIQfHtgvaSLgJ7AzsAUSdV9nBARf2vAcpmZ2WYqJED8H8l1CvWlbSQipgPTa6WNyXn/Gsmup9reAXpnpJuZWRPJdx3EZ4BDgU6ShudkbU8yIjAzsxYs3wiiLdAhLbNdTvo7wCnF7JSZmZVevusgHgIekrQqvaK6hqRTgX8Vu3NmZlY6hdzue1BG2qWN3REzM9uy5DsG0R84DthD0vU5WdsDa4vdMTMzK618xyCWkJyCOgB4Kif9XeCiYnbKzMxKL98xiHnAPEkTImJNdbqkw4GrgG80Qf/MzKxE6r0OIiLWSConuQr6y8DL1H8VtZmZNXP5jkF0JzlAfTrJrTYmAYqIvk3UNzMzK6F8I4j5wCPAiRGxAEDSt5ukV2ZmVnL5TnM9GXgNeFDSryUdTfYtvM3MrAWqM0BExJSIOA3oAcwEvg3sKulmScc2Uf/MzKxE6r1QLiLei4jfRcQJJDfWmwuMLHrPzMyspAq5krpGRLwREb+KiM/VX9rMzJqzBgUIMzPbejhAmJlZJgcIMzPL5ABhZmaZHCDMzCyTA4SZmWVygDAzs0wOEGZmlskBwszMMjlAmJlZpqIGCEn9JL0oaYGkje7fJKmHpMclvS/p4obUNTOz4ipagJBUBtwI9Ad6AqdL6lmr2BvAhcA1m1DXzMyKqJgjiIOBBRGxKCI+AO4EBuYWiIilETEbWNPQumZmVlzFDBB7AItzpqvStGLXNTOzRlDMAJH19Llo7LqShkiaI2nOsmXLCu6cmZnlV8wAUQXsmTPdGVjS2HUj4paIqIiIik6dOm1SR83MbGPFDBCzgb0ldZPUFhgETGuCumZm1ghaF6vhiFgraRhwD1AG3BYRz0kamuaPkfQxYA6wPbBe0kVAz4h4J6tusfpqZmYbK1qAAIiI6cD0Wmljct6/RrL7qKC6ZmbWdHwltZmZZXKAMDOzTA4QZmaWyQHCzMwyOUCYmVkmBwgzM8vkAGFmZpkcIMzMLJMDhJmZZXKAMDOzTA4QZmaWyQHCzMwyOUCYmVkmBwgzM8vkAGFmZpkcIMzMLJMDhJmZZXKAMDOzTA4QZmaWyQHCzMwyOUCYmVkmBwgzM8vkAGFmZpkcIMzMLFNRA4SkfpJelLRA0siMfEm6Ps3/p6QDc/IqJT0jaa6kOcXsp5mZbax1sRqWVAbcCBwDVAGzJU2LiOdzivUH9k5fhwA3p3+r9Y2I14vVRzMzq1sxRxAHAwsiYlFEfADcCQysVWYg8JtIPAHsKGm3IvbJzMwKVMwAsQewOGe6Kk0rtEwA90p6StKQovXSzMwyFW0XE6CMtGhAmcMiYomkXYD7JM2PiIc3mkkSPIYAdOnSZXP6a2ZmOYo5gqgC9syZ7gwsKbRMRFT/XQpMIdlltZGIuCUiKiKiolOnTo3UdTMzK2aAmA3sLambpLbAIGBarTLTgLPTs5n6AG9HxH8kbStpOwBJ2wLHAs8Wsa9mZlZL0XYxRcRaScOAe4Ay4LaIeE7S0DR/DDAdOA5YAKwEzk2r7wpMkVTdxwkR8bdi9dXMzDZWzGMQRMR0kiCQmzYm530A38iotwjoXcy+mZlZfr6S2szMMjlAmJlZJgcIMzPL5ABhZmaZHCDMzCyTA4SZmWVygDAzs0wOEGZmlskBwszMMjlAmJlZJgcIMzPL5ABhZmaZHCDMzCyTA4SZmWVygDAzs0wOEGZmlskBwszMMjlAmJlZJgcIMzPL5ABhZmaZHCDMzCyTA4SZmWVygDAzs0wOEGZmlskBwszMMhU1QEjqJ+lFSQskjczIl6Tr0/x/Sjqw0LpmZlZcRQsQksqAG4H+QE/gdEk9axXrD+ydvoYANzegrpmZFVExRxAHAwsiYlFEfADcCQysVWYg8JtIPAHsKGm3AuuamVkRtS5i23sAi3Omq4BDCiizR4F1AZA0hGT0AbBC0oub0eeiE+wMvN6ojV6uRm2uOfH6bFxen42r0ddncdblx+vKKGaAyFqSKLBMIXWTxIhbgFsa1rXSkTQnIipK3Y+WwuuzcXl9Nq7mvj6LGSCqgD1zpjsDSwos07aAumZmVkTFPAYxG9hbUjdJbYFBwLRaZaYBZ6dnM/UB3o6I/xRY18zMiqhoI4iIWCtpGHAPUAbcFhHPSRqa5o8BpgPHAQuAlcC5+eoWqyzFK3gAAAaySURBVK9NrNnsDmsmvD4bl9dn42rW61MRmbv2zcxsK+crqc3MLJMDhJmZZXKAMDOzTA4Q1qxI6iHpaEkdaqX3K1WfmjNJB0s6KH3fU9JwSceVul8tgaTflLoPm8sHqUtI0rkRcXup+9FcSLoQ+AbwAlAOfCsi/pTmPR0RB+arbxuS9EOS+521Bu4juVvBTODzwD0RcVXpete8SKp9Gr6AvsAMgIgY0OSdagQOECUk6d8R0aXU/WguJD0DfCYiVkjqCkwG7oiIX0r6R0QcUNIONjPp+iwHtgFeAzpHxDuS2gN/j4hPlbSDzYikp4HngbF8eDeIiSTXcBERD5Wud5uumFdSGyDpn3VlAbs2ZV9agLKIWAEQEZWSjgImS/o42bdnsfzWRsQ6YKWkhRHxDkBErJK0vsR9a24qgG8B3wcuiYi5klY118BQzQGi+HYFvgC8WStdwKym706z9pqk8oiYC5COJE4AbgN6lbZrzdIHkj4SESuBT1cnStoBcIBogIhYD1wn6a70739pAdvXZr8AzcDdQIfqjVouSTObvjvN2tnA2tyEiFhLcruWX5WmS83aZyPifajZwFVrA5xTmi41bxFRBZwq6XjgnVL3Z3P5GISZmWXyaa5mZpbJAcLMzDI5QFjJSFonaa6kZyX9WdKO9ZQfJeniesp8Mff55ZKukPT5RuzzUZLuriNvbH3PTpfUR9Lf0+V+QdKoesqX5164JmmApJH11Jko6Z+Svp2vXEa9HSVdkDO9u6TJDWnDWhYfg7CSkbQiIjqk78cDL+W7OCvdmK6IiGvylBkH3B0RRdmwpafWXhwRJ2xi/ReBL0fEPEllwD4R8Xye8oOBiogYVmD7HyO5hqHOx0jmqduVZN3t39C61jJ5BGFbisdJnkWOpL0k/U3SU5IekdSjdmFJX5c0W9I8SX+Q9BFJhwIDgKvTX+h7SRon6ZS0ztGS/iHpGUm3SdomTa+UdLmkp9O8Hmn6kWk7c9N626Wz7yBpsqT5kn4nSWn5mZIq0vcrJF2btvmApE5p3V2A/wBExLrq4JDe8mJWOp9ZkvZR8rCsK4DT0j6cJmmwpBvSOqemo695kh5O278X2CUtf0TWekrr7ippSpo+L113o4G90rpXS+oq6dm0fDtJt6fr5x+S+qbpgyX9Mf28/iXpZ43xZbAtRET45VdJXiSjAUgeCnUX0C+dfgDYO31/CDAjfT+K5Nc7QMecdn4EfDN9Pw44JSdvHHAK0A5YDHRP038DXJS+r8ypfwEwNn3/Z+Cw9H0HktPCjwLeJnkMbiuSwHZ4WmYmya99SK6mPTN9fxlwQ877N4EpwP8A7dL07YHW6fvPA39I3w+urlt7GngG2CN9v2P6tyvwbE75utbTpJzlLwN2yKhbMw18B7g9fd8D+He6TgcDi9L67YBXgD1L/d3yq3FeHkFYKbWXNBdYDuwE3KfkJnyHAneleb8Cdsuou386ungGOBPYr5557QO8HBEvpdPjgc/m5P8x/fsUyYYR4DHg50ruAbVjJNdcADwZEVWRXDswN6d8rvUkG2GA3wKHA0TEFSRX3d4LnAH8LS2zQ7rMzwLXFbA81f0bJ+nrJBv5LHWtp88BN6d9WhcRb9czr8OBO9Ly80kCQfc074GIeDsiVpPcbqLBu7dsy+QAYaW0KiLKSTYobUluxNcKeCsiynNe+2bUHQcMi4hewOUkv17zqe9WHO+nf9eRXkAaEaOB84D2wBM5u7rez6lXU74eNQf7ImJhRNwMHA30ltQRuBJ4MJL9/ydS//IQEUOB/wX2BOam7dQ2joatp7rkW3+bsj6sGXCAsJJLf71eCFwMrAJelnQqgBK9M6ptB/xHUhuSX8bV3k3zapsPdJX0yXT6LCDvfXIk7RURz0TET4E5JLtWCtWKZNcWJCOFR9M2j68+ZgHsTbJBfYtkBPFqmj64gOWp7t/fI+Iy4HWSQFFbXevpAeD8tJ0ySdvnmxfwcHV9Sd2BLsCLdZS1FsIBwrYIEfEPYB7J3S/PBL4maR7wHDAwo8oPgL+T3KZ6fk76ncAl6YHUvXLaXw2cS7Ib5xmSXUBj6unWRdUHgUkC118bsEjvAftJeopkd84VafpZwIvp7rM7SI5TrAN+BvxE0mNsuLvoQaBn9UHqWvO4Oj1o/CzJBnxeRj/qWk/fAvqm6+IpYL+IWA48li7z1bXauQkoS8tPAgZHepsOa7l8mqtZESjnFF6z5sojCDMzy+QRhJmZZfIIwszMMjlAmJlZJgcIMzPL5ABhZmaZHCDMzCyTA4SZmWX6f9ROJ3Rb9vlgAAAAAElFTkSuQmCC\n",
      "text/plain": [
       "<Figure size 432x288 with 1 Axes>"
      ]
     },
     "metadata": {
      "needs_background": "light"
     },
     "output_type": "display_data"
    },
    {
     "data": {
      "image/png": "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\n",
      "text/plain": [
       "<Figure size 432x288 with 1 Axes>"
      ]
     },
     "metadata": {
      "needs_background": "light"
     },
     "output_type": "display_data"
    },
    {
     "data": {
      "image/png": "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\n",
      "text/plain": [
       "<Figure size 432x288 with 1 Axes>"
      ]
     },
     "metadata": {
      "needs_background": "light"
     },
     "output_type": "display_data"
    },
    {
     "data": {
      "image/png": "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\n",
      "text/plain": [
       "<Figure size 432x288 with 1 Axes>"
      ]
     },
     "metadata": {
      "needs_background": "light"
     },
     "output_type": "display_data"
    }
   ],
   "source": [
    "for col in cat_cols:\n",
    "    table = pd.crosstab(data[col], data.Attrition)\n",
    "    table = pd.DataFrame(table.div(table.sum(1).astype(float), axis=0)[1])\n",
    "    table[\"dist\"] = data[col].value_counts().div(sum(data[col].value_counts()))\n",
    "    table.columns = [\"Attrition %\", \"Distribution\"]\n",
    "    table.plot(kind='bar')\n",
    "    plt.title('Attrition by '+col)\n",
    "    plt.xlabel(col)\n",
    "    plt.ylabel('Attrition %')\n",
    "    plt.show()"
   ]
  },
  {
   "cell_type": "code",
   "execution_count": 115,
   "metadata": {},
   "outputs": [
    {
     "data": {
      "image/png": "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\n",
      "text/plain": [
       "<Figure size 432x288 with 1 Axes>"
      ]
     },
     "metadata": {
      "needs_background": "light"
     },
     "output_type": "display_data"
    },
    {
     "data": {
      "image/png": "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\n",
      "text/plain": [
       "<Figure size 432x288 with 1 Axes>"
      ]
     },
     "metadata": {
      "needs_background": "light"
     },
     "output_type": "display_data"
    },
    {
     "data": {
      "image/png": "iVBORw0KGgoAAAANSUhEUgAAAXoAAAFHCAYAAACvRIfjAAAABHNCSVQICAgIfAhkiAAAAAlwSFlzAAALEgAACxIB0t1+/AAAADh0RVh0U29mdHdhcmUAbWF0cGxvdGxpYiB2ZXJzaW9uMy4yLjIsIGh0dHA6Ly9tYXRwbG90bGliLm9yZy+WH4yJAAAgAElEQVR4nO3de5xVZfn38c+XAYWUPIGaIkEeUlIZEQ+ppVQaeMzMNE2l8kfUQz5mlnR4TLSesEz7mRg/MsVM0dI0UvJ8FlHQ8Hx4gDBGVBTFVFBBruePew1shoHZA7PXrFl836/Xfs3a63jtNXtf+973utd9KyIwM7Py6tTeAZiZWW050ZuZlZwTvZlZyTnRm5mVnBO9mVnJOdGbmZWcE72tQNLxkm5dzfJPSXquBsftIykkdW7rfa/ieDV5HWZF5ETfwUm6W9IbktZvMn+2pM9VPK8qkUbElRFxUMV2IWm7iuX3RcTH2/I1tDVJZ0laLOmt7PG8pIskfaRxnWpfR7avP9U24pZl/+d3Jb1d8fhkjY/Z7HtG0nhJP6vlsa1tOdF3YJL6AJ8CAji8DfaXS2k6J9dERHdgU+BIYEvgkcpk3wGNiIgNKx4PVi4s2f/P2pATfcd2IjAFGA+c1DhT0hVAb+DvWcnvB8C92eIFjaVBSUMlPSDpAkmvA2dl8+7P9tO4zWPZNsdIOkBSQ8WxdspKmwskPSXp8Ipl4yWNkXRTVrJ+SNK2Lbymr0uaK+klSd/L9rOlpIWSNqvY9+6SXpXUZXU7i4jFEfEUcAzwKtC4z6av4wxJL2ZxPifps5IGAz8Cjsle/2PZul+T9Ey27ixJ36zYzwGSGiR9T9K87HV8rWJ5N0m/lvSCpDcl3S+pW7Zsb0mTs3P5mKQDWjhXjb/czpD0OPCOpM6SDs/+Fwuy/81OTdb/vqTHJb0j6Q+StpD0j+z13C5pk5aO2ySGNjvempwDq0JE+NFBH8AM4NvA7sBiYIuKZbOBz1U870Mq+XeumDcUWAJ8B+gMdMvm3V+xTgDbVTw/AGjIprtkMfwIWA/4DPAW8PFs+XjgdWDPbP9XAlev4rU0xjcB2ADYhZSYP5ctnwR8q2L9C4DfrmJfZwF/amb+2cBDzbyOjwNzgK0qYtl2VfsCDgG2BQTsDywEBlTsd0l2rC7AwdnyTbLlY4C7ga2BOmAfYP3s+fxs/U7Agdnzntl2dwMnN/OaZgPTgW2y/98OwDvZ9l2AH2T/o/Uq1p8CbJEdcx7wKLBbFsedwE9X9Z6p+L/+LJtuy+Ot9hz4seYPl+g7KEn7AR8F/hwRjwAzgePWYFdzI+K3EbEkIha1ctu9gQ2B0RHxfkTcCdwIfKVinb9GxMMRsYSU6Otb2OeoiHgnIp4ALqvY1+XAVwEk1WXzr2hlvHNJVTlNfUBKOv0kdYmI2RExc1U7iYibImJmJPcAt5Kq0BotBs6O9GtiEvA28HFJnYCvA/87Il6MiA8iYnJEvJe9tkkRMSkilkbEbcA0UtJrdGFW0l0g6dHK+RExJ/v/HQPcFBG3RcRi4DzSF8A+Fev/NiJeiYgXgftIX37/zOK4npSEK71WcdwFrPg+a8vjVXMObA040XdcJwG3RsRr2fOrqKi+aYU5axHDVsCciFhaMe8FUsms0csV0wtJXwzVxvNCdgyAv5ES8cdIJb03I+LhVsa7NekXxgoiYgZwKqn0Pk/S1ZK2arpeI0lDJE2R9HqW+A4GelSsMj/7YmvU+Lp7AF1JX8pNfRQ4uklC3Q+ovKZwSkRsnD0GVMyvPGdbkc5b42tbmi2v/J+8UjG9qJnnTf9HPSqOuzHpvVaL41VzDmwN+OJNB5TV6X4ZqJPUmEjXBzaW1D8iHiP95K60qm5K16b70rnANpI6VST73sDza7HPbYBnK/Y1FyAi3pX0Z+B4YEdaWZrPStOHAbc3tzwirgKukvRh4H+Ac4ETaHJ+lFo3XUe6PvK3iFgs6QZSNU5LXgPeJVX7PNZk2Rzgioj4r6pfVEX4FdNzSdVejfGKdE5fXIP9VqMtj7c258BWwyX6jukLpOqGfqSqkHpgJ9LP4hOzdV4BPlaxzavA0ibzqtF0P5UeItXP/kBSl+zC2WHA1a08RqX/I+lDkj4BfA24pmLZH0nXEA4HqmrymMW1E6nuf0vg/GbW+bikz2RJ/F1SKfODbPErQJ/siwLStYj1SedziaQhwEFN99mc7MvwUuB8SVtJqlO6KL5+9noOk/T5bH7X7MJur2r2XeHPwCHZxeQupIvP7wGTW7mf9jheW50Da8KJvmM6CbgsIv4dES83PoCLgOOVmtn9AvhJ9hP49IhYCPwceCCbt3eVxzoLuDzb5suVCyLifVLSHUIqrV4MnBgRz660l+rdQ7qYdwdwXkQsu3krIh4gfVk9GhGzW9jPMZLeBhYAE0kX9XaPiLnNrLs+MDp7DS8Dm5MuMAP8Jfs7X9KjEfEWcAopwb1Bqq+e2IrXdzrwBDCVVI10LtApIuYAR2THfZVUuv0+rfyMRsRzpLru32av5zDgsOx/1eba8nhtdQ5sZYrwwCPWcUi6E7gqIi5p71jMOgoneuswJO0B3AZsk5WszawK/klkHYKky0kXUk91kjdrHZfozcxKziV6M7OSc6I3Myu5Qt4w1aNHj+jTp097h2Fm1mE88sgjr0VEz+aWFTLR9+nTh2nTprV3GGZmHYakF1a1rKqqG0mDlbpunSFpZDPLj8i6IZ0uaVrW4VbjstmSnmhctmYvwczM1lSLJfqsp8AxpI6kGoCpkiZGxNMVq90BTIyIkLQr6a7BHSuWD6rofMvMzHJUTYl+T2BGRMzKbmu+mnSb8jIR8XYsb6e5AWvXUZaZmbWhaurot2bFblAbgL2ariTpSFL/KpuTBmZoFMCtkgL4n4gY19xBJA0DhgH07t27quDNrH0tXryYhoYG3n333fYOZZ3RtWtXevXqRZcuqx1cbQXVJPrmul9dqcQeEdcD10v6NHAO0Dgw9b4RMVfS5sBtkp6NiHub2X4cMA5g4MCB/kVg1gE0NDTQvXt3+vTpQ+qh2GopIpg/fz4NDQ307du36u2qqbppIPUv3agXWR/hqwjkXmBbST2y5439ic8jjSazZ9XRmVmhvfvuu2y22WZO8jmRxGabbdbqX1DVJPqpwPaS+kpaDziWJt2yStouG3AASQNIfXbPl7SBpO7Z/A1I/XY/2aoIzazQnOTztSbnu8VEnw2JNgK4BXiGNEbpU5KGSxqerXYU8KSk6aQWOsdkF2e3AO6X9BjwMGlsyZtbHaWZ2Wpcf/31SOLZZ5cPhTB9+nQmTZq07Pndd9/N5MmrHg9l4sSJjB49GoAbbriBp59e3rDwzDPP5Pbbmx2crFUeeOABdt11V/bYYw9mzJgBwIIFC/j85z9PLfsdq+qGqWyA40lN5o2tmD6XNIBC0+1mAf3XMsbWO2ujKtZ5s/ZxmK1j+oy8qU33N3v0IS2vBEyYMIH99tuPq6++mrPOOgtIiX7atGkcfHAaW/zuu+9mww03ZJ999llp+yVLlnD44Ydz+OGHAynRH3roofTr1w+As88+uw1eDfz617/muuuuY/bs2fzud7/j17/+Neeccw4/+tGPavrLyH3dmFmH9vbbb/PAAw/whz/8gauvTqNYvv/++5x55plcc8011NfXc+655zJ27FguuOAC6uvrue+++xg6dCinnXYagwYN4owzzmD8+PGMGDGCyZMnM3HiRL7//e9TX1/PzJkzGTp0KNdeey0Ad9xxB7vtthu77LILX//613nvvfeAdEf/T3/6UwYMGMAuu+yywq+LRl26dGHRokUsXLiQLl26MHPmTF588UX233//mp6jQnaBYGZWrRtuuIHBgwezww47sOmmm/Loo48yYMAAzj77bKZNm8ZFF10EwKJFi9hwww05/fTTAfjDH/7A888/z+23305dXR3jx48HYJ999uHwww/n0EMP5Utf+tIKx3r33XcZOnQod9xxBzvssAMnnngiv/vd7zj11FMB6NGjB48++igXX3wx5513HpdcsuJAaD/84Q8ZNmwY3bp144orruD000/nnHPOqfEZconezDq4CRMmcOyxxwJw7LHHMmHChKq3Pfroo6mrq6t6/eeee46+ffuyww47AHDSSSdx773LW4t/8YtfBGD33Xdn9uzZK21fX1/PlClTuOuuu5g1axZbbbUVEcExxxzDV7/6VV555ZWqY2kNl+jNrMOaP38+d955J08++SSS+OCDD5DEL3/5y6q232CDDVp1vJYumK6//voA1NXVsWTJktXu52c/+xnXXHMNI0aMYNSoUcyePZsLL7yQn//8562KqRou0ZtZh3Xttddy4okn8sILLzB79mzmzJlD3759uf/+++nevTtvvbV81Mmmz1dnVevuuOOOzJ49e1mLmSuuuGKN6tcvv/xyDjnkEDbZZBMWLlxIp06d6NSpEwsXLmz1vqrhRG9mHdaECRM48sgjV5h31FFHcdVVVzFo0CCefvpp6uvrueaaazjssMO4/vrrl12MXZ1jjz2WX/3qV+y2227MnDlz2fyuXbty2WWXcfTRR7PLLrvQqVMnhg8fvpo9rWzhwoVcfvnlfPvb3wbgtNNO46ijjuKHP/wh3/rWt1q1r2oVcszYgQMHxlr1R+/mlWa5eOaZZ9hpp53aO4x1TnPnXdIjETGwufVdojczKzknejOzknOiNzMrOSd6M7OSc6I3Mys5J3ozs5JzojezDq2uro76+no+8YlP0L9/f84//3yWLl0KwLRp0zjllFNWue3s2bO56qqrVrl87ty5y/q7aez0rDXGjx/P3LnLx2k6+eSTV+j+OC/uAsHM2k4197C0an8t3+/SrVs3pk+fDsC8efM47rjjePPNNxk1ahQDBw5k4MBmm5YDyxP9cccdt9KyJUuWsNVWWy3rtXJNjB8/np133pmtttoKYKVOzvLiEr2Zlcbmm2/OuHHjuOiii4gI7r77bg499FAA7rnnHurr66mvr2e33XbjrbfeYuTIkdx3333U19dzwQUXMH78eI4++mgOO+wwDjroIGbPns3OO++8bP9z5sxh8ODBfPzjH2fUqFEAK61z3nnncdZZZ3Httdcybdo0jj/+eOrr61m0aBEHHHAAjTeDTpgwgV122YWdd96ZM844Y9n2G264IT/+8Y/p378/e++9d5t0dOZEb2al8rGPfYylS5cyb968Feafd955jBkzhunTp3PffffRrVs3Ro8ezac+9SmmT5/Od7/7XQAefPBBLr/8cu68886V9v3www9z5ZVXMn36dP7yl7+wujv4v/SlLzFw4MBl63fr1m3Zsrlz53LGGWdw5513Mn36dKZOncoNN9wAwDvvvMPee+/NY489xqc//Wl+//vfr/U5caI3s9JprmuXfffdl9NOO40LL7yQBQsW0Llz8zXXBx54IJtuuukql2222WZ069aNL37xi9x///1rFN/UqVM54IAD6NmzJ507d+b4449f1t3xeuutt+xXyKq6O24tJ3ozK5VZs2ZRV1fH5ptvvsL8kSNHcskll7Bo0SL23nvvZkeAgtV3Xdx0uD9JdO7cednFX0iDk7RkdX2MdenSZdlxWuruuFpO9GZWGq+++irDhw9nxIgRKyXlmTNnsssuu3DGGWcwcOBAnn322VZ1XQxw22238frrr7No0SJuuOEG9t13X7bYYgvmzZvH/Pnzee+997jxxhuXrb+q/e+1117cc889vPbaa3zwwQdMmDChpsMJutWNmXVoixYtor6+nsWLF9O5c2dOOOEETjvttJXW+81vfsNdd91FXV0d/fr1Y8iQIXTq1InOnTvTv39/hg4dyiabbLLaY+23336ccMIJzJgxg+OOO25Zi54zzzyTvfbai759+7LjjjsuW3/o0KEMHz6cbt268eCDDy6b/5GPfIRf/OIXDBo0iIjg4IMP5ogjjmijM7KyqropljQY+G+gDrgkIkY3WX4EcA6wFFgCnBoR91ezbXPcTbFZx+BuittHm3dTLKkOGAMMAfoBX5HUr8lqdwD9I6Ie+DpwSSu2NTOzGqqmjn5PYEZEzIqI94GrgRV+Y0TE27H8p8EGQFS7rZmZ1VY1iX5rYE7F84Zs3gokHSnpWeAmUqm+6m2z7YdJmiZp2quvvlpN7GZmVoVqEr2ambdSxX5EXB8ROwJfINXXV71ttv24iBgYEQN79uxZRVhmVgRFHI60zNbkfFeT6BuAbSqe9wLmrmJdIuJeYFtJPVq7rZl1LF27dmX+/PlO9jmJCObPn0/Xrl1btV01zSunAttL6gu8CBwLrNADkKTtgJkREZIGAOsB84EFLW1rZh1Xr169aGhowNWt+enatSu9evVq1TYtJvqIWCJpBHALqYnkpRHxlKTh2fKxwFHAiZIWA4uAY7KLs81u26oIzaywunTpQt++fds7DGtBVTdMRcQkYFKTeWMrps8Fzq12WzMzy4+7QDAzKzknejOzknOiNzMrOSd6M7OSc6I3Mys5J3ozs5JzojczKzknejOzknOiNzMrOSd6M7OSc6I3Mys5J3ozs5JzojczK7mqeq80M+uo+oy8abXLZ48+JKdI2o9L9GZmJedEb2ZWck70ZmYl50RvZlZyTvRmZiXnRG9mVnJO9GZmJVdVopc0WNJzkmZIGtnM8uMlPZ49JkvqX7FstqQnJE2XNK0tgzczs5a1eMOUpDpgDHAg0ABMlTQxIp6uWO1fwP4R8YakIcA4YK+K5YMi4rU2jNvMzKpUTYl+T2BGRMyKiPeBq4EjKleIiMkR8Ub2dArQq23DNDOzNVVNot8amFPxvCGbtyrfAP5R8TyAWyU9ImlY60M0M7O1UU1fN2pmXjS7ojSIlOj3q5i9b0TMlbQ5cJukZyPi3ma2HQYMA+jdu3cVYZmZWTWqKdE3ANtUPO8FzG26kqRdgUuAIyJifuP8iJib/Z0HXE+qClpJRIyLiIERMbBnz57VvwIzM1utahL9VGB7SX0lrQccC0ysXEFSb+CvwAkR8XzF/A0kdW+cBg4Cnmyr4M3MrGUtVt1ExBJJI4BbgDrg0oh4StLwbPlY4ExgM+BiSQBLImIgsAVwfTavM3BVRNxck1diZmbNqqo/+oiYBExqMm9sxfTJwMnNbDcL6N90vpmZ5cd3xpqZlZwTvZlZyTnRm5mVnBO9mVnJOdGbmZWcE72ZWclV1bzSzKrTZ+RNLa4ze/QhOURitpxL9GZmJedEb2ZWcq66sdJoqdrEVSa2rnKJ3sys5JzozcxKzonezKzknOjNzErOF2PNrCZ8T0FxuERvZlZyTvRmZiXnRG9mVnJO9GZmJedEb2ZWck70ZmYl50RvZlZyVSV6SYMlPSdphqSRzSw/XtLj2WOypP7VbmtmZrXVYqKXVAeMAYYA/YCvSOrXZLV/AftHxK7AOcC4VmxrZmY1VE2Jfk9gRkTMioj3gauBIypXiIjJEfFG9nQK0Kvabc3MrLaqSfRbA3Mqnjdk81blG8A/WrutpGGSpkma9uqrr1YRlpmZVaOaRK9m5kWzK0qDSIn+jNZuGxHjImJgRAzs2bNnFWGZmVk1qunUrAHYpuJ5L2Bu05Uk7QpcAgyJiPmt2dbMzGqnmhL9VGB7SX0lrQccC0ysXEFSb+CvwAkR8XxrtjUzs9pqsUQfEUskjQBuAeqASyPiKUnDs+VjgTOBzYCLJQEsyaphmt22Rq/FzMyaUVV/9BExCZjUZN7YiumTgZOr3dbMzPLjO2PNzErOid7MrOSc6M3MSs6J3sys5JzozcxKzonezKzknOjNzErOid7MrOSc6M3MSs6J3sys5JzozcxKzonezKzknOjNzEquqt4rrQM7a6Mq1nmz9nGYWbtxid7MrOSc6M3MSs6J3sys5FxHb2ZWY31G3tTiOrNHH1Kz47tEb2ZWck70ZmYl56qbDq6ln4Szu+YUiJkVVlWJXtJg4L+BOuCSiBjdZPmOwGXAAODHEXFexbLZwFvAB8CSiBjYNqFbUbR3/aOZrV6LiV5SHTAGOBBoAKZKmhgRT1es9jpwCvCFVexmUES8trbBmplZ61VTR78nMCMiZkXE+8DVwBGVK0TEvIiYCiyuQYxmZrYWqqm62RqYU/G8AdirFccI4FZJAfxPRIxrbiVJw4BhAL17927F7s2sqRav3bgqbZ1STYlezcyLVhxj34gYAAwB/pekTze3UkSMi4iBETGwZ8+erdi9mZmtTjWJvgHYpuJ5L2ButQeIiLnZ33nA9aSqIDMzy0k1iX4qsL2kvpLWA44FJlazc0kbSOreOA0cBDy5psGamVnrtVhHHxFLJI0AbiE1r7w0Ip6SNDxbPlbSlsA04MPAUkmnAv2AHsD1khqPdVVE3Fybl2JmZs2pqh19REwCJjWZN7Zi+mVSlU5T/wH6r02AZma2dtwFgplZybkLhDXku0HNrKNwid7MrOQ6ZIneHXmZmVXPJXozs5JzojczKzknejOzknOiNzMruQ55MbbDOGujFpa/mU8cZrZOc4nezKzknOjNzErOid7MrOSc6M3MSs6J3sys5JzozcxKzonezKzknOjNzErOid7MrOSc6M3MSs6J3sys5JzozcxKrqpEL2mwpOckzZA0spnlO0p6UNJ7kk5vzbZmZlZbLSZ6SXXAGGAI0A/4iqR+TVZ7HTgFOG8NtjUzsxqqpkS/JzAjImZFxPvA1cARlStExLyImAosbu22ZmZWW9Uk+q2BORXPG7J51Vibbc3MrA1Uk+jVzLyocv9VbytpmKRpkqa9+uqrVe7ezMxaUk2ibwC2qXjeC5hb5f6r3jYixkXEwIgY2LNnzyp3b2ZmLakm0U8FtpfUV9J6wLHAxCr3vzbbmplZG2hxzNiIWCJpBHALUAdcGhFPSRqeLR8raUtgGvBhYKmkU4F+EfGf5rat1YsxM7OVVTU4eERMAiY1mTe2YvplUrVMVdvaOsgDpZu1G98Za2ZWck70ZmYl50RvZlZyTvRmZiXnRG9mVnJO9GZmJedEb2ZWck70ZmYl50RvZlZyTvRmZiXnRG9mVnJO9GZmJedEb2ZWck70ZmYl50RvZlZyTvRmZiXnRG9mVnJO9GZmJedEb2ZWck70ZmYl50RvZlZyVSV6SYMlPSdphqSRzSyXpAuz5Y9LGlCxbLakJyRNlzStLYM3M7OWdW5pBUl1wBjgQKABmCppYkQ8XbHaEGD77LEX8Lvsb6NBEfFam0VtZmZVazHRA3sCMyJiFoCkq4EjgMpEfwTwx4gIYIqkjSV9JCJeavOIzcza0lkbVbHOm7WPo4aqqbrZGphT8bwhm1ftOgHcKukRScPWNFAzM1sz1ZTo1cy8aMU6+0bEXEmbA7dJejYi7l3pIOlLYBhA7969qwjLzNbYOlCKteWqKdE3ANtUPO8FzK12nYho/DsPuJ5UFbSSiBgXEQMjYmDPnj2ri97MzFpUTaKfCmwvqa+k9YBjgYlN1pkInJi1vtkbeDMiXpK0gaTuAJI2AA4CnmzD+M3MrAUtVt1ExBJJI4BbgDrg0oh4StLwbPlYYBJwMDADWAh8Ldt8C+B6SY3Huioibm7zV2FWDVdX2Dqqmjp6ImISKZlXzhtbMR3A/2pmu1lA/7WM0czKqqUvX3/xtomqEr2ZmdVYDb/03AWCmVnJOdGbmZWcE72ZWcm5jt4sb74AaTlzid7MrOSc6M3MSs6J3sys5JzozcxKzonezKzknOjNzErOid7MrOSc6M3MSs6J3sys5JzozcxKzonezKzknOjNzErOid7MrOSc6M3MSs6J3sys5JzozcxKzonezKzkqkr0kgZLek7SDEkjm1kuSRdmyx+XNKDabc3MrLZaTPSS6oAxwBCgH/AVSf2arDYE2D57DAN+14ptzcyshqop0e8JzIiIWRHxPnA1cESTdY4A/hjJFGBjSR+pclszM6shRcTqV5C+BAyOiJOz5ycAe0XEiIp1bgRGR8T92fM7gDOAPi1tW7GPYaRfAwAfB55bi9fVA3htLbZvK0WIowgxQDHiKEIMUIw4ihADFCOOIsQAax/HRyOiZ3MLOlexsZqZ1/TbYVXrVLNtmhkxDhhXRTwtkjQtIga2xb46ehxFiKEocRQhhqLEUYQYihJHEWKodRzVJPoGYJuK572AuVWus14V25qZWQ1VU0c/FdheUl9J6wHHAhObrDMRODFrfbM38GZEvFTltmZmVkMtlugjYomkEcAtQB1waUQ8JWl4tnwsMAk4GJgBLAS+trpta/JKVtQmVUBtoAhxFCEGKEYcRYgBihFHEWKAYsRRhBighnG0eDHWzMw6Nt8Za2ZWck70ZmYl50RvZlZy1TSvLDRJ/2lpFeCliNihxnEMaHktFkfEE2WOIYvjwipW+09E/KSGMRTlfdHucRQhhqLEUYQY2iOODp/ogZkRsdvqVpD0zxziuIfUnLS5m8Qa9SXdLVzmGCB1c3FmC+uMBGqW6CnO+6IIcRQhhqLEUYQYco+jDIn+qDZaZ21NjYjPrG4FSXeuAzEAXBARl7cQxyY1jqEo74sixFGEGKo9hs9F69apSimbV0rqERFF6LvCCkDSpkBExBvtHQu0//tT0odJPc3Oau9zImlARDzanjG0tzzenx3+YqykIZL+Jel+SbtJegp4SFKDpM/mGMd6klTxfJCk70kaklcMq4jr2+103M9L+oakPk3mfz2n4/eWdLWkV4GHgKmS5mXz+qx+6zaNo93fn5L+JKlHNv154CngXGC6pKPziCE79oAmj92Bidl5qeb6UlvEsE32HrhP0o8kdalYdkMeMWTHyvf9GREd+gFMB3YCPgnMB/bO5u8EPJpjHI8Bm2TT3wcmk+qgbwN+kVMMpzV5fI/UG95pwGk5notfAPcCvwFmAt+pWJbL/wR4EDgGqKuYV0fqhmNKjuei3d+fwBMV05OBPtl0D+CxHM/F0uz4d1U8FmV/78wphtuA4UA98Nssns2yZf/M8Vzk+v7s8CV6YGlEPBMRDwILI/WHT0Q8Q76/WOpi+U+vY4DPRsTPSIOuHJJTDKOAvYANge7Z37psuntOMQAcCnwmIk4FdgeGSLogW7a6C8VtqUdEXBMRHzTOiIgPIuJqYLOcYoBivD87ZdU1kCkYnGoAABP0SURBVJLtv7MYXiPf63RfBhYDv4qIQRExCHg5m17ttaU21DMixkbE9Ij4DnAxcK+kbVlFz7o1kuv7swwXYxdI+ibwYeANSd8F/gx8Dng7xzj+I2nniHiSVIruSiqtdCa/D/QngPOBDYBREbFQ0kkRMSqn4zfqHBFLACJigaTDgHGS/kLq0TQPj0i6GLgcmJPN2wY4CcijVUWjIrw/RwF3SRoDPAD8RdLfgM8AN+cUAxFxraSbgXMkfY30izPvi4RdJHWNiHezmP4k6WVSf1wb5BhHru/PDn8xVtI2pCqSpaQ39FeAbwAvAKdnJac84tgVuIJUhQOwL6m5467A+RFxVR5xZLEcAfwAuAD4ZUR8LK9jZ8e/kVRqu6fJ/J8BP4qImn/xZb2lfoPU1HNr0i+JOcDfgT9ExHu1jiGLoyjvz+2A/wJ2IBU+GoAbIuKWPI7fTDz1pPfnJyJi8xyP+11SlVnT9+ZupM/KgTnFkev7s8Mn+iJRGiP3IFb8MN0SEQvaIZYPkVXlRMSncz52N4CIWNTMsq0j4sU847FiyhovdI+Ilm4esrVU6kQv6dCIuLG947BiKcr7oghxFCGGosRRhBhqFUcZLsauzh7tHQCApLMcQyKpCG2mC/G+oBhxFCEGKEYcRYgBahBHqUv0RSHpsIj4+7oeg5m1j1IkeklbAkTEy5J6Ap8Cnot8RrOyDkBSX2A34OmIeDbH4x4O3NrYyqO9SNoIGEy68BeksZtzv37U3p9VSb2BeRHxbnaNYCgwAHga+H1ja7GcYtmQ9D/ZBlgC/D/Se2VpWx+rw1fdZE3XHgSmSPoWcCOpHfdfJX0jxziOzG5lRlJPSX+U9ISkayT1yjGOQZIukvQ3SddJGp21uMhNEe4+rDxO1grpTuAw4G+ShuYRQ+YaoEHSFZIOzi7Y50rSicCjwAHAh0jNCAeRmvidmGMcRfisTmJ53htNusflIVJ1SW5DCkr6MulGscHACGBP4ATS3cq7tvkB87oTrFYP4AnSm3czUrvkLbP5mwDTc4zj6Yrpa4DvAr1IJYbbcophNHAZ8FXgWuBXpCZ1/wSOzvFctPvdh5XHyY7fN5vO+27Qf2bvxf8C7gBeAcYC++cYw3PAxs3M3wR4Psc42v2z2uRz+gjQqeJ5nu+Lx4EPZdM9SL+uIDXHntzWx+vwJXpS/+oLI2I+qevPlwEi3aWaZ71UZUltu4i4ICIaImI80DOnGA6JiK9FxJ9It1LvExG/J90Y89OcYoBi3H1YeZzOEfEvWHY3aJv/NF5dHBHxRkT8PiI+C/QnVROMljSnhW3bimj+vC8lvzuVoRif1TmSGu/CnU2qNkFSnndLQzrvjc2P3wE2B4iIx0k317WpMtwZu1RSl4hYTEVXA5K6km/V1N2Szib183K3pC9ExA2SBgFv5hTDUkmbRsTrwFZkXz4R8UZWH5mXItx92F9pcAcB60vaMlK98Hqs+KVcayuc9yy5XQhcKOmjOcXwc+BRSbey/C7M3sCBwDk5xQDF+KyeDPwxa4X2JqmqpPFX12k5xQCpCulmSfeQukn5CyzrybLNP6sd/mJsdnFlbjS5iCJpa2CniLg9pzi6AD8GGntn7EX6pv47MDIi/p1DDMcAvyT9VN8R+FZE3JRd9PrviDiu1jFkcRTi7sPmSNqY9L54MKfjHRARd+dxrBbi2AT4PMvvwmy8mS+3boqzz+pLWaKvnJ/rZzU75k6seGPj1KjBRdAWYjgY6EeqMrotm9cJ6BK+M7b4shYOnbOfqHkfe1PgY8CMaIc7cs2seMpQR184EfFmeyT57NivR8S0oiZ5SS0NMZhHDDUdM7daecVRhFZQRYmjCDG0RxxlqKO3juVk4OxaH0TSF1e1CNiy1scvWByXAtcBU0gdad2T3UA3H8jrOkFR4ihCDLnH4URvbU6rHuFeQLecwrgGuJLmW3N0zSmGosTRMyLGZtPfkfRVUiuow1cRV5njKEIMucdR2kQv6XJgITAmUh/xlp8FwB4R8UrTBTk2KXwcOK+5/72kz+UUQ1HiKEIrqKLEUYQYco+jzHX0FwG3k+42azeSnskeI9ahGP7Iqn9+5tUv/6nAqn5ZHJlTDEWJ4xLSyGPLZC1cjgbyLAQVIY4ixJB7HG51k4PsZoy9I+KmdTkGM2sfHT7RZ32HnExqt35zRDxQsewnkcZtba/YemR3YrbX8T8MbA/MyrO9tJkVSxmqbv4H2B+YT7rb8PyKZatq8dDmJA2R9C9J90vaTdJTwEOSGiR9NqcY/iSpRzb9eeAp4FzS3X9H5xGDmRVPGUr0j0fErtl0Z1K/Kj1IY3NOiYjdcopjenbMjUm98h0SEVOyO/CujIgBOcTwRETskk1PBo6LiNlZ8r8jIvrXOgYzK54ylOjXa5yIiCURMQyYTuqWdsMc41gaEc9kt9YvjIgpWUzPkN957pRV10DqsOrfWQyvUeIWVq0h6QhJe7W8ZvnjKEIMRYmjCDHUMo4yfPinSRocETc3zoiIsyXNBX6XYxwLlPrb/jDwRtbfy5+Bz5G6ZM3DKOAuSWOAB4C/SPobqffKm1e7ZQ4kPZNNjomIi9opjL2AXSR1jogh7RRDUeIoQgxFiaMIMdQsjg5fdVMUkrYBfkIqSY8iVeN8A3gBOD0r2ecRx3akvs8rO2y6ISJuyeP4LXHrH7P8dfhEr4IM1WarJ2lAROQ6MHhWjdUzImY2mb9r1u93XnG0+zB+kj4NvBIRz0naD9gbeCbPL1wVaBi/JnH934j4UTscN7f3ZxkS/SJSd8D/ACaQPkAftG9UK5J0aETcuK7EIKnphWcBfyMN5ac8Er7SUG2/AeYBXYChETE1W/ZoHhfHs2OdSBr05VbgxWx2L1Jf8KMi4o85xPAb0lB1nUl3Xn6W9HnZnzQS1/drHUMWx5PAnhGxUNK5wLbADaSqRSLi66vbvo1iuLDpLNJNlX/MYjil1jFkceT7/oychs6q1YMCDNVWRYyj1qUYSNVXk0ljYjY+FmV/78wphunAR7LpPYFngS82vmdyPBftPowfqZmtSMP4vcHyIey6AE/meC7afRg/UlXmn4ATgZOyx6uN0zmei1zfn2VodRPR/kO1rVZE5DmMXxFi+DKwGPhVRAyKiEHAy9n0Z1rYtq3URcRLABHxMGkw7B9LOoV8O68qwjB+ESmDNA6s0RjPUvJteVeEYfx2Al4jVaXdHhGXA29FxOXZdF5yfX+Woermn7GKtvKSPhoRL+QYy5aQhotTGtXpU8BzEfFUTscvTB2opA1Jw9T1Ar4H3B0RH8vx+JOBE6Ki/lNSd1JVwX4RsX5OcZwEnEmqullpGL9IYwrXOoZzgX1IvWXeTRp9bAqp6mZWRAyvdQxZHNuQqkjqSMP47cfyX+SnR8QdecSRxbI7cB5wEzAiIvrkdezs+Lm+P8uQ6A+IYgzV9k1gJKmUdi4pyT4F7EsaPu8POcTQ7nWgzcRUD1wAfCIiNs/xuP2BdyJiRpP5XYAvR8SVOcZShGH8Pkkq2U9RGqT9SNJ9FtdG/kPotfswflkcAr4NfDIivprzsXN9f3b4RF8p+0AtiYi32uHYT5DawHYjNancLivZbwLcFRH1OcTwdET0y6YfIXUVvDR7/li0052x2Qeqe0SsqhdHM6uhDl9HL2krSX+U9Cap7u0pSf+WdJYqhufKweKIWBhphJiZEfEyQFZqy+vbtAh1oCuJ5D9ZLIe2ZyxZDOPaOwYoRhxFiAGKEUcRYoDaxNHhEz3pCvqlEbERqS/n60gXXDoDY3KMY2nFF8shjTMldSW/83wy8H8k3UvqGmK6pDtJ/fKfllMMLdmjvQMgdYRXBEWIowgxQDHiKEIMUIM4OnzVTdMqCUmPRMTu2fSzEbFjTnH0BuY2veApaWtgp0iDCuSiKHWgZlYMZSjRvyrpq1kVzndIVRaN9cK5Nh1rrlVLRLzYmOSzmGqmcf+ROlf7W0RcFxEPVSb5WsdQcZwNJX1J0nclfUfSYEm5/T8k1Un6pqRzJO3bZNlPcoxj14rpLpJ+ImmipP8r6UM5xfDX7DOSZyd/zcXROfuf3CzpcUmPSfqHpOF5VbNK+pCkH0j6vqSukoZm/49f5nl+JI3Q8i7Ft5N0r6QFkh6StEtbH68Mif7rwOGk5mt7AY3D5W0K/DDHOO7KElrvypmS1pP0GaUxbE9aB2JovOvvLlJb5RGkG0JOIFUl7bq6bdtQIcYpAMZXTI8GtgN+TbpoP7a5DWpgL+ALwL8l/VnSkZLWa2mjGrgCqAfOAg4mVXGOIt378qecYhgPbAH0JTWtHEhqZiny7QTxW7F8UKL/Bi6IiI2BM6jF+6Kt78BaVx+kNsrfJvUaOZfUdn0WqQXO74H6dSGGLI7HWX73ZQ9SU0KAXYHJecVQMd0ZGAf8FViffO+M/WfF9HSgSzatyhjziAHoTvrCnUS6G/Qy4KAcz8Vzq1mW113C0yvO/8ssr77O7f/R9FyQqlYrl7V5HGXopniVlGP/LpE6VbsYuDj7GdoDWBQ5dlxVhBgyInV5AKkfos2z+B7X8v7ya22FcQqAYZLOJP9xCjaSdCTp1/P6EbE4iykk5XWBLLJjvkUqVV8haVPSHcwjSb+G8/CG0khn18XyZr+dSI0och3qMjv/kyLLrDn/PwCulTQeOBu4XtKppILIZ8nGkWhLpU70pBYeuXcmln2YX8r7uAWKYRJws6R7gCHAXwCy5JLXbf9FGafgHlLVIsAUSVtExCtKd1HnNZ7wSuMhRMTrpCqCvKqPAI4l3Ux4saTGxL4xqZrv2JximCZpw4h4OypuIFS6iSy3+28i4seShpI6YtyW9EtzGOkGx+Pb+ngdvtWNFZOkg4F+pM6qbsvmdSJVXbzXrsFZu8vu7VAsr6dud5IUJU2IpUj0KkB/37ZcNR+Y9vxQSTqw8cunPRUhjrxjUAHGCChCDHnH0eFb3Sj19/0ocACpG9YNSD3BPZIts/wVovXPatS836EqFSGO3GLIWmM9C1wn6SlJlTfPjV9XYmiPOMpQR/9jYPempXelPmYeIhtQwHI1mNTsdYKkvsACUougOtKFvwsiYnotA5A0cVWLgNy6hChCHEWIIfMj0mf1JUl7ki4K/ygi/kp+126KEEPucZQh0Rehv2+rUJDWP58CvsrKFyJFate/LsVRhBigSR/skgYBN0rqRX79QRUhhtzjKEOi/znwqKRm+/tut6gMaNfWP1OAhRFxT9MFkp5bx+IoQgwAb0natrFOOivNHkBqafKJdSiG3OMoy8XYdu/v28xWT6kP9oUR8f+azM9tjIAixNAecXT4RF/0Fh7WPoryvihCHEWIoShxFCGG9oijw7e6ofgtPKx9FOV9UYQ4ihBDUeIoQgy5x1GGEn1XUguP40kdFS0gdRjVidTCY0ytW3hY8azifVHZ8ieX90UR4ihCDEWJowgxtEccHT7RV2rHFh5WYEV5XxQhjiLEUJQ4ihBDXnGUKtGbmdnKylBHb2Zmq+FEb2ZWck70litJH0ianvXv8Zik05QNMShpoKQLV7NtH0nH5RhrH0mLsngbH206MpOk8ZK+1GTeSt0Km62NMtwZax3LooioB5C0OXAVsBHw04iYBkxbzbZ9gOOybfIyszHepiTVRcQHOcZitkZcord2ExHzSIMtjFBygKQbASTtX1GK/qek7qQxVz+VzftuVuK+T9Kj2WOfbNsDJN0t6VpJz0q6UkqDokvaQ9Lk7NfEw5K6Kw0k/itJU5UGrf7mqmLO9n2XpKuAJ5QGmL5M0hNZnIOy9YZKukHS3yX9S2kw6NOydaYoDcKyWtk5+ZWkJ7P9H1MRwz1K478+L2m0pOOz1/OE0iAaSOop6brsdU1Vk0HSbR0SOY2R6IcfEQHwdjPz3iAN2HwAcGM27+/Avtn0hqRfn8uWZ/M/BHTNprcHpmXTBwBvAr1IhZkHgf1IwwvOAvbI1vtwtt9hwE+yeeuTflX0Jf2CWEQa63U6MCbb9ztA32z97wGXZdM7koaB6woMBWaQxmntmcUzPFvvAuDUbHo88K+KY0xvPEfAUcBtpLbVW2T7/kgWw4Jsen3gRWBUts3/Bn6TTV8F7JdN9waeae//vx/t83DVjRVBc72MPgCcL+lK4K8R0ZAVyit1AS6SVA98AOxQsezhiGgAkDSdlLTfBF6KiKkAEfGfbPlBwK4VdeUbkb44nqdJ1Y1Sx1MPR8S/sln7Ab/N9vespBcq4rgr0jitb0l6k/TlBfAEaaD0Rt+PiGsrjtFYR78fMCFS9dArSkMz7gH8hzSg9EvZ+jNZPu7rE6TxGAA+B/SrOG8fltQ9i8nWIU701q4kfYyUpOcBOzXOj4jRkm4CDiaNtfq5Zjb/LvAK0J9Ucn+3YlnlcIUfkN7rq+rSWsB3IuKWJrH1WUXY7zTZdlUqY1ha8Xwp1X321nbfnYBPRsQibJ3mOnprN5J6kganvigiosmybSPiiYg4l1SVsiNp8ObuFattRCqhLwVOIFVxrM6zwFbKRvPJ6uc7A7cA38ruUETSDpI2qPJl3Es2mLOkHUhVJG3V9e+9wDHZNYSewKeBh1ux/a3AiMYn2S8fWwe5RG9565ZVpXQBlgBXAOc3s96p2YXND4CngX+QSqtLJD1Gqtu+mDQU29HAXaxY0l5JRLyfXdD8raRupPr3zwGXkKp2Hs0u2r4KfKHK13MxMFbSE9nrGRoR7zVTzbQmrgc+CTxG+iXyg4h4WdKOVW5/CjBG0uOkz/q9wPC2CMw6FneBYGZWcq66MTMrOSd6M7OSc6I3Mys5J3ozs5JzojczKzknejOzknOiNzMrOSd6M7OS+/8YG3lcD2YARAAAAABJRU5ErkJggg==\n",
      "text/plain": [
       "<Figure size 432x288 with 1 Axes>"
      ]
     },
     "metadata": {
      "needs_background": "light"
     },
     "output_type": "display_data"
    },
    {
     "data": {
      "image/png": "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\n",
      "text/plain": [
       "<Figure size 432x288 with 1 Axes>"
      ]
     },
     "metadata": {
      "needs_background": "light"
     },
     "output_type": "display_data"
    },
    {
     "data": {
      "image/png": "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\n",
      "text/plain": [
       "<Figure size 432x288 with 1 Axes>"
      ]
     },
     "metadata": {
      "needs_background": "light"
     },
     "output_type": "display_data"
    },
    {
     "data": {
      "image/png": "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\n",
      "text/plain": [
       "<Figure size 432x288 with 1 Axes>"
      ]
     },
     "metadata": {
      "needs_background": "light"
     },
     "output_type": "display_data"
    },
    {
     "data": {
      "image/png": "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\n",
      "text/plain": [
       "<Figure size 432x288 with 1 Axes>"
      ]
     },
     "metadata": {
      "needs_background": "light"
     },
     "output_type": "display_data"
    },
    {
     "data": {
      "image/png": "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\n",
      "text/plain": [
       "<Figure size 432x288 with 1 Axes>"
      ]
     },
     "metadata": {
      "needs_background": "light"
     },
     "output_type": "display_data"
    },
    {
     "data": {
      "image/png": "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\n",
      "text/plain": [
       "<Figure size 432x288 with 1 Axes>"
      ]
     },
     "metadata": {
      "needs_background": "light"
     },
     "output_type": "display_data"
    },
    {
     "data": {
      "image/png": "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\n",
      "text/plain": [
       "<Figure size 432x288 with 1 Axes>"
      ]
     },
     "metadata": {
      "needs_background": "light"
     },
     "output_type": "display_data"
    },
    {
     "data": {
      "image/png": "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\n",
      "text/plain": [
       "<Figure size 432x288 with 1 Axes>"
      ]
     },
     "metadata": {
      "needs_background": "light"
     },
     "output_type": "display_data"
    },
    {
     "data": {
      "image/png": "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\n",
      "text/plain": [
       "<Figure size 432x288 with 1 Axes>"
      ]
     },
     "metadata": {
      "needs_background": "light"
     },
     "output_type": "display_data"
    },
    {
     "data": {
      "image/png": "iVBORw0KGgoAAAANSUhEUgAAAXoAAAFLCAYAAADYhkeYAAAABHNCSVQICAgIfAhkiAAAAAlwSFlzAAALEgAACxIB0t1+/AAAADh0RVh0U29mdHdhcmUAbWF0cGxvdGxpYiB2ZXJzaW9uMy4yLjIsIGh0dHA6Ly9tYXRwbG90bGliLm9yZy+WH4yJAAAgAElEQVR4nO3debxVdb3/8debAwgpjuCASJA5hBpHxCGH0spyJssBNZVr/si65DWvXW34GWr90jLtetO8poWWAmXJ5So5izMJGA6YGiIGoqLklKCCfH5/fL8Ht4cz7APnrLPP4v18PM7j7P39ruGz1977s9f6ru/6LkUEZmZWXt06OwAzM+tYTvRmZiXnRG9mVnJO9GZmJedEb2ZWck70ZmYl50S/lpB0nKRbW6jfR9JTHbDeQZJCUvf2XnatkzRb0r4t1E+VdHKBIdlayom+RuUk8KqkdRqVz5P02YrnVSXSiLg2Ij5XMV9I+mhF/b0RsV17vob2JGl/SS9J6ltRto6kv0r6agHr3yJvs80qyr7bTNnNABGxQ0RMzeVjJf22jevsmef7m6S38nv/K0mD2uVFpXWMyq/hokblX8jl49prXdZ5nOhrUP4i7wMEcFg7LK/L701HxG3AjcB/VhR/D3gBuKI91tHSdoqIF4A5wCcrij8JPNlE2T3tEQ9wPen9PxbYABgKzAQ+09YFNfXaKsqeAY5uNM0JwNNtXU9nK8NnvUNEhP9q7A84G7gfuAi4saL8N8AKYCnwT+A/gL+TfhD+mf8+AYzK818M/AP4QS67Ly/nnjzPW3meo4F9gQUV6/oYMBV4DZgNHFZRNw64FLgJeBP4M7B1M69lUF7XaGAhKTH/e67bHFgCbFIx/S7Ay0CPJpa1AbAAOBjYEXgV2DqXX5WX/Xx+vXV5nq2BO4HFwCvAtcCGFcucB5wJPAq8A3TPz5/Pr+0p4DN52quA/8qP64BFwCmNyt4A9q5Y9meBA4B3gWV5ez+S66cC5+X36k3gVqBvrvtsfp+3auFzMg/4bMXzscBvG233r5A+I/fQwucCuBk4OM+7MfAi8BNgXMXyf5/LX8/L26HazwTpB3p+3j4zgX0q6noDV+f386+kz3XlZ7E/8If8uXgWOLXRa74e+G1e9smd/f2txb9OD8B/Tbwpac/x66SktwzYrKKu8Ze74QvdvaJsFLAc+AYpcfWmItHnaQL4aMXzfRu+XECPHMN3gJ7Ap/OXd7tcPy4nit3y8q8FJjTzWhriGw+sC+yUv7CfzfVTgK9VTH8xOXE2s7xDc8J4CDgtl00C/jsvf9Nc99Vc91Fgf2AdoF9OUD9rtD1nAVvl7bRdXn7/ivi3zo9P5P0kPTwva5tGZUuBno3fKyqScMW6p5L2prfN654KnJ/rzgfubuVz0vizsHIdFdv9mrxdGj4DTX4uSEcNE/O8X8/b8wd8MNGfBPTJ2/JnwKyKuhY/E8CXgU1y3b+TfjB6Vb5WYCNgAOlHt+Gz2I30w3A26bP4EWAu8PmK17wM+EKetndnf39r8c9NNzVG0t7Ah4HfRcRMUiI4djUWtTAi/isilkfE0jbOuwewHinpvBsRd5KaTY6pmOaPEfFQRCwnfanrW1nmORHxVkQ8Bvy6YllXk5IAkupy+W+aW0hE/C8wjfSlviS3jx9ISvpvRcQi0o/FyDz9nIi4LSLeiYiXSUdJn2q02EsiYn7eTu+REtkQST0iYl5EPJOnuxvYUdJGpKa1eyPib0DfirJpEfFuK9ui0q8j4um87t/x/nbchHSEsqbG5u3S8Blo7nNxA7CvpA1IzTbXNF5QRPwqIt6MiHdICXZonr5Bs5+JiPhtRCzO6/0paRs3nBM6Cvh/EfFqRCwALqlY5q5Av4g4N38W5wK/JL+/2YMRMSkiVqzGZ32t4ERfe04Ebo2IV/Lz63JZW81fgxj6A/MjYkVF2XPAlhXPX6x4vIT0w1BtPM/ldQD8DympfoS05/16RDzUyrJmA0/m+D5MOgJ5QdJrkl4j7Y1uCiBpU0kTJD0v6Q3SIX7fRstbGVtEzAFOIyWyRXne/rluHqnpaG9SW/y9ebYHK8ra2j7f3HZcDGzRxmU1pfHnoMnPRU6QN5HOe/SNiPsr6yXVSTpf0jN5O87LVZXbstnPhKR/zyfOX8/v0QYV8/ZvFFfl4w8D/Rve2zzvd4DNmpnemuBEX0Mk9Sbt3XxK0ouSXgS+SdpzGponazzcaHPDj67JsKQLga0kVX4+BpLarVfXVo2WtRAgIt4m7ckeBxxPC3vzzZhPalvvGxEb5r/1I2KHXP8j0rb4eESsTzp6UKNlfGBbRcR1EdFwZBXABRXV95IS+ieABxqV7U3zib6t78ftwG6SBrQwzVvAhyqeb17FeluK4xpSs0pT78GxwAjSuYMNSE1DsOq2XIWkfUjnPY4CNoqIDUnt/A3zvkBqsmlQ+VmZDzxb8d5uGBF9IuKgKl+T4URfa75AajoYQjrsrSedFL2XdDgN8BKpnbLBy6QTtJVl1Wi8nEp/JiWR/5DUI/cFPxSY0MZ1VPq/kj4kaQfgX4CJFXXXkNqKDyPtcVctUm+YW4GfSlpfUjdJW0tqaJ7pQzoB+pqkLYFvtbQ8SdtJ+nTu1vo2qc39vYpJ7iG9Fwsj4o1cdl8u24C0d9+Ul4BBjX48W3pdtwO3ATdI2kVSd0l9JJ0i6aQ82SxgZH6PhgNHVLPsFtxNOqr6rybq+pB+UBeTflz+XxuW24d0buBloLuks4H1K+p/B3xb0kb5PRpTUfcQ8IakMyX1zkcWO0ratQ3rX+s50deWE0lttn+PiBcb/oCfA8flrmM/Ar6XD2PPiIglwA+B+3PZHlWuayxwdZ7nqMqK3MZ8GKnt+xXgMuCEiHhyDV7b3aQTvHcAF0bEyou3cjPBCuDh3DzSVieQTtQ9Qeq5cT3vN3ucAwwj7UHeBPyxlWWtQzo5+AqpKWJTUlNB5evYlJTcG8windicmd+Ppvw+/18s6eHWXxKQEvcU0o/i68DjpBO+t+f6/0vqVfQq6XVeV+VymxTJHRHxjyaqryE1uT1P2s7T2rDoW4A/kbprPkf6Aa1sbjmX1CT2LOm1XU/6USEi3iPtZNTn+leAK0k/qlYlRfioxzqfpDuB6yLiys6OxTqXpK8BIyOi8UlzW03eo7dOlw/Dh/HB5hxbS+SrjvfKzW7bkc4T3NDZcZWJryKzTiXpatK5iX+LiDc7Ox7rFD1JPaUGky7Qm0BqLrR24qYbM7OSc9ONmVnJOdGbmZVcTbbR9+3bNwYNGtTZYZiZdRkzZ858JSL6NVVXk4l+0KBBzJgxo7PDMDPrMiQ911ydm27MzErOid7MrOSc6M3MSq4m2+jNrGtYtmwZCxYs4O233+7sUNYavXr1YsCAAfTo0aPqeZzozWy1LViwgD59+jBo0CCkVkcstjUUESxevJgFCxYwePDgqudz042Zrba3336bTTbZxEm+IJLYZJNN2nwE5URvZmvESb5Yq7O9nejNrMu74YYbkMSTT75/y4RZs2YxZcqUlc+nTp3KAw880NTsAEyePJnzzz8fgEmTJvHEE0+srDv77LO5/fbbm5u1avfffz8f//jH2XXXXZkzZw4Ar732Gp///OfpyHHH3Ebfkca2cm+Esa8XE4dZQQaddVO7Lm/e+QdXNd348ePZe++9mTBhAmPHjgVSop8xYwYHHZTuOjh16lTWW2899txzz1XmX758OYcddhiHHXYYkBL9IYccwpAhQwA499xz2+HVwE9/+lP+8Ic/MG/ePH7xi1/w05/+lPPOO4/vfOc7HXpk5D16M+vS/vnPf3L//fdz1VVXMWFCutvlu+++y9lnn83EiROpr6/nggsu4PLLL+fiiy+mvr6ee++9l1GjRnH66aez3377ceaZZzJu3DjGjBnDAw88wOTJk/nWt75FfX09zzzzDKNGjeL6668H4I477mDnnXdmp5124qSTTuKdd94B0hX93//+9xk2bBg77bTTB44uGvTo0YOlS5eyZMkSevTowTPPPMPzzz/Ppz7VsfdY8R69mXVpkyZN4oADDmDbbbdl44035uGHH2bYsGGce+65zJgxg5///OcALF26lPXWW48zzjgDgKuuuoqnn36a22+/nbq6OsaNGwfAnnvuyWGHHcYhhxzCEUd88Da8b7/9NqNGjeKOO+5g22235YQTTuAXv/gFp512GgB9+/bl4Ycf5rLLLuPCCy/kyis/eMO0b3/724wePZrevXvzm9/8hjPOOIPzzjuvg7eQ9+jNrIsbP348I0eOBGDkyJGMHz++6nmPPPJI6urqqp7+qaeeYvDgwWy77bYAnHjiidxzzz0r67/4xS8CsMsuuzBv3rxV5q+vr2fatGncddddzJ07l/79+xMRHH300Xz5y1/mpZdeqjqWtvAevZl1WYsXL+bOO+/k8ccfRxLvvfcekvjxj39c1fzrrrtum9bX2gnTddZZB4C6ujqWL1/e4nJ+8IMfMHHiRMaMGcM555zDvHnzuOSSS/jhD3/Yppiq4T16M+uyrr/+ek444QSee+455s2bx/z58xk8eDD33Xcfffr04c033787ZePnLWlu2u2335558+at7DHzm9/8ZrXa16+++moOPvhgNtpoI5YsWUK3bt3o1q0bS5YsafOyquFEb2Zd1vjx4zn88MM/UPalL32J6667jv32248nnniC+vp6Jk6cyKGHHsoNN9yw8mRsS0aOHMlPfvITdt55Z5555pmV5b169eLXv/41Rx55JDvttBPdunXjlFNOaVPMS5Ys4eqrr+brX/86AKeffjpf+tKX+Pa3v83Xvva1Ni2rWjV5z9jhw4dHKcajd/dKK7m//vWvfOxjH+vsMNY6TW13STMjYnhT03uP3sys5JzozcxKzonezKzknOjNzErOid7MrOSc6M3MSs6J3sy6tLq6Ourr69lhhx0YOnQoF110EStWrABgxowZnHrqqc3OO2/ePK677rpm6xcuXLhyvJuGQc/aYty4cSxcuHDl85NPPvkDwx8XxUMgmFn7ae3akTYvr/VrTXr37s2sWbMAWLRoEcceeyyvv/4655xzDsOHD2f48Ca7lgPvJ/pjjz12lbrly5fTv3//laNWro5x48ax44470r9/f4BVBjkrSlV79JIOkPSUpDmSzmqifoSkRyXNkjRD0t7Vzmtm1l423XRTrrjiCn7+858TEUydOpVDDjkEgLvvvpv6+nrq6+vZeeedefPNNznrrLO49957qa+v5+KLL2bcuHEceeSRHHrooXzuc59j3rx57LjjjiuXP3/+fA444AC22247zjnnHIBVprnwwgsZO3Ys119/PTNmzOC4446jvr6epUuXsu+++9JwMej48ePZaaed2HHHHTnzzDNXzr/eeuvx3e9+l6FDh7LHHnu0y0BnrSZ6SXXApcCBwBDgGElDGk12BzA0IuqBk4Ar2zCvmVm7+chHPsKKFStYtGjRB8ovvPBCLr30UmbNmsW9995L7969Of/889lnn32YNWsW3/zmNwF48MEHufrqq7nzzjtXWfZDDz3Etddey6xZs/j9739PS1fwH3HEEQwfPnzl9L17915Zt3DhQs4880zuvPNOZs2axfTp05k0aRIAb731FnvssQePPPIIn/zkJ/nlL3+5xtukmj363YA5ETE3It4FJgAjKieIiH/G+2MprAtEtfOambW3poZ22WuvvTj99NO55JJLeO211+jevemW6/3335+NN9642bpNNtmE3r1788UvfpH77rtvteKbPn06++67L/369aN79+4cd9xxK4c77tmz58qjkOaGO26rahL9lsD8iucLctkHSDpc0pPATaS9+qrnNTNrL3PnzqWuro5NN930A+VnnXUWV155JUuXLmWPPfZo8g5Q0PLQxY1v9yeJ7t27rzz5C+nmJK1paYyxHj16rFxPa8MdV6uaRN/UjQxXiTIiboiI7YEvAA23TKlqXgBJo3P7/oyXX365irDMzD7o5Zdf5pRTTmHMmDGrJOVnnnmGnXbaiTPPPJPhw4fz5JNPtmnoYoDbbruNf/zjHyxdupRJkyax1157sdlmm7Fo0SIWL17MO++8w4033rhy+uaWv/vuu3P33Xfzyiuv8N577zF+/PgOvZ1gNb1uFgBbVTwfACxsZloi4h5JW0vq25Z5I+IK4ApIo1dWEZeZGUuXLqW+vp5ly5bRvXt3jj/+eE4//fRVpvvZz37GXXfdRV1dHUOGDOHAAw+kW7dudO/enaFDhzJq1Cg22mijFte19957c/zxxzNnzhyOPfbYlT16zj77bHbffXcGDx7M9ttvv3L6UaNGccopp9C7d28efPDBleVbbLEFP/rRj9hvv/2ICA466CBGjOi4Vu1WhymW1B14GvgM8DwwHTg2ImZXTPNR4JmICEnDgP8lJfW61uZtiocpNusaPExx52jrMMWt7tFHxHJJY4BbSIn7VxExW9Ipuf5y4EvACZKWAUuBo/PJ2SbnXf2XZ2ZmbVXVBVMRMQWY0qjs8orHFwAXVDuvmZkVx0MgmJmVnBO9ma2RWrwdaZmtzvZ2ojez1darVy8WL17sZF+QiGDx4sX06tWrTfN5UDMzW20DBgxgwYIF+NqX4vTq1YsBAwa0aR4nejNbbT169GDw4MGdHYa1oksm+kFn3dRi/bzzDy4oEjOz2uc2ejOzknOiNzMrOSd6M7OSc6I3Mys5J3ozs5JzojczKzknejOzknOiNzMrOSd6M7OSc6I3Mys5J3ozs5JzojczKzknejOzknOiNzMrOSd6M7OSc6I3Myu5qhK9pAMkPSVpjqSzmqg/TtKj+e8BSUMr6uZJekzSLEkz2jN4MzNrXat3mJJUB1wK7A8sAKZLmhwRT1RM9izwqYh4VdKBwBXA7hX1+0XEK+0Yt5mZVamaPfrdgDkRMTci3gUmACMqJ4iIByLi1fx0GtC2O9eamVmHqSbRbwnMr3i+IJc15yvAnyqeB3CrpJmSRrc9RDMzWxPV3BxcTZRFkxNK+5ES/d4VxXtFxEJJmwK3SXoyIu5pYt7RwGiAgQMHVhGWmZlVo5o9+gXAVhXPBwALG08k6ePAlcCIiFjcUB4RC/P/RcANpKagVUTEFRExPCKG9+vXr/pXYGZmLaom0U8HtpE0WFJPYCQwuXICSQOBPwLHR8TTFeXrSurT8Bj4HPB4ewVvZmata7XpJiKWSxoD3ALUAb+KiNmSTsn1lwNnA5sAl0kCWB4Rw4HNgBtyWXfguoi4uUNeiZmZNamaNnoiYgowpVHZ5RWPTwZObmK+ucDQxuVmZlYcXxlrZlZyTvRmZiXnRG9mVnJO9GZmJedEb2ZWck70ZmYl50RvZlZyVfWj73LGblDFNK93fBxmZjXAe/RmZiXnRG9mVnJO9GZmJedEb2ZWck70ZmYl50RvZlZy5exeadYUd7u1tZT36M3MSs6J3sys5JzozcxKzonezKzknOjNzErOid7MrOSc6M3MSq6qRC/pAElPSZoj6awm6o+T9Gj+e0DS0GrnNTOzjtVqopdUB1wKHAgMAY6RNKTRZM8Cn4qIjwPnAVe0YV4zM+tA1ezR7wbMiYi5EfEuMAEYUTlBRDwQEa/mp9OAAdXOa2ZmHauaRL8lML/i+YJc1pyvAH9azXnNzKydVTPWjZooiyYnlPYjJfq9V2Pe0cBogIEDB1YRlplZ6waddVOL9fPOP7igSDpPNXv0C4CtKp4PABY2nkjSx4ErgRERsbgt8wJExBURMTwihvfr16+a2M3MrArVJPrpwDaSBkvqCYwEJldOIGkg8Efg+Ih4ui3zmplZx2q16SYilksaA9wC1AG/iojZkk7J9ZcDZwObAJdJAlie986bnLeDXouZmTWhqvHoI2IKMKVR2eUVj08GTq52XjMzK46vjDUzKzknejOzknOiNzMrOSd6M7OSc6I3Mys5J3ozs5JzojczKzknejOzknOiNzMrOSd6M7OSc6I3Mys5J3ozs5JzojczKzknejOzknOiNzMrOSd6M7OSc6I3Mys5J3ozs5JzojczKzknejOzknOiNzMrOSd6M7OSc6I3Myu5qhK9pAMkPSVpjqSzmqjfXtKDkt6RdEajunmSHpM0S9KM9grczMyq0721CSTVAZcC+wMLgOmSJkfEExWT/QM4FfhCM4vZLyJeWdNgzcys7arZo98NmBMRcyPiXWACMKJygohYFBHTgWUdEKOZma2BahL9lsD8iucLclm1ArhV0kxJo5ubSNJoSTMkzXj55ZfbsHgzM2tJNYleTZRFG9axV0QMAw4E/lXSJ5uaKCKuiIjhETG8X79+bVi8mZm1pJpEvwDYquL5AGBhtSuIiIX5/yLgBlJTkJmZFaSaRD8d2EbSYEk9gZHA5GoWLmldSX0aHgOfAx5f3WDNzKztWu11ExHLJY0BbgHqgF9FxGxJp+T6yyVtDswA1gdWSDoNGAL0BW6Q1LCu6yLi5o55KWZm1pRWEz1AREwBpjQqu7zi8YukJp3G3gCGrkmAtWrQWTe1Os28XgUEYmbWCl8Za2ZWck70ZmYlV1XTjVlLqmrGOv/gAiIxs6Z4j97MrOSc6M3MSs6J3sys5JzozcxKzonezKzknOjNzErO3SutNFrr5ukrlW1t5T16M7OSc6I3Mys5J3ozs5JzojczKzknejOzknOiNzMrOXev7OJa7VLoUSPN1nreozczKzknejOzknOiNzMrOSd6M7OSc6I3Myu5qhK9pAMkPSVpjqSzmqjfXtKDkt6RdEZb5jUzs47VaqKXVAdcChwIDAGOkTSk0WT/AE4FLlyNec3MrANVs0e/GzAnIuZGxLvABGBE5QQRsSgipgPL2jqvmZl1rGoS/ZbA/IrnC3JZNdZkXjMzawfVXBmrJsqiyuVXPa+k0cBogIEDB1a5eLPa0tqVyuCrla141ezRLwC2qng+AFhY5fKrnjciroiI4RExvF+/flUu3szMWlNNop8ObCNpsKSewEhgcpXLX5N5zcysHbTadBMRyyWNAW4B6oBfRcRsSafk+sslbQ7MANYHVkg6DRgSEW80NW9HvRgzM1tVVaNXRsQUYEqjsssrHr9Iapapal4zMyuOr4w1Mys5J3ozs5LzjUfKbuwGVUzzesfHYWadxnv0ZmYl50RvZlZyTvRmZiXnRG9mVnJO9GZmJedEb2ZWck70ZmYl50RvZlZyTvRmZiXnRG9mVnJO9GZmJedEb2ZWck70ZmYl50RvZlZyTvRmZiXnRG9mVnK+8YhZ0Vq7GYxvBGPtzHv0ZmYl50RvZlZyVSV6SQdIekrSHElnNVEvSZfk+kclDauomyfpMUmzJM1oz+DNzKx1rbbRS6oDLgX2BxYA0yVNjognKiY7ENgm/+0O/CL/b7BfRLzSblGbmVnVqtmj3w2YExFzI+JdYAIwotE0I4BrIpkGbChpi3aO1czMVkM1iX5LYH7F8wW5rNppArhV0kxJo1c3UDMzWz3VdK9UE2XRhmn2ioiFkjYFbpP0ZETcs8pK0o/AaICBAwdWEZaZmVWjmj36BcBWFc8HAAurnSYiGv4vAm4gNQWtIiKuiIjhETG8X79+1UVvZmatqibRTwe2kTRYUk9gJDC50TSTgRNy75s9gNcj4gVJ60rqAyBpXeBzwOPtGL+ZmbWi1aabiFguaQxwC1AH/CoiZks6JddfDkwBDgLmAEuAf8mzbwbcIKlhXddFxM3t/irM7AMGnXVTi/Xzzj+4oEisFlQ1BEJETCEl88qyyyseB/CvTcw3Fxi6hjGamdka8JWxZmYl50RvZlZyTvRmZiXnRG9mVnJO9GZmJedEb2ZWck70ZmYl50RvZlZyTvRmZiXnRG9mVnJO9GZmJedEb2ZWck70ZmYlV9XolWZmHWLsBq3Uv15MHCXnRG/F8BfarNO46cbMrOSc6M3MSs5NN2Zro9aa0sDNaSXiPXozs5JzojczKzknejOzknOiNzMrOZ+MNbO121pwYrqqRC/pAOA/gTrgyog4v1G9cv1BwBJgVEQ8XM28ZmZGh15U2GrTjaQ64FLgQGAIcIykIY0mOxDYJv+NBn7RhnnNzKwDVdNGvxswJyLmRsS7wARgRKNpRgDXRDIN2FDSFlXOa2ZmHUgR0fIE0hHAARFxcn5+PLB7RIypmOZG4PyIuC8/vwM4ExjU2rwVyxhNOhoA2A54ag1eV1/glTWYv73UQhy1EAPURhy1EAPURhy1EAPURhy1EAOseRwfjoh+TVVU00avJsoa/zo0N00186bCiCuAK6qIp1WSZkTE8PZYVlePoxZiqJU4aiGGWomjFmKolThqIYaOjqOaRL8A2Kri+QBgYZXT9KxiXjMz60DVtNFPB7aRNFhST2AkMLnRNJOBE5TsAbweES9UOa+ZmXWgVvfoI2K5pDHALaQukr+KiNmSTsn1lwNTSF0r55C6V/5LS/N2yCv5oHZpAmoHtRBHLcQAtRFHLcQAtRFHLcQAtRFHLcQAHRhHqydjzcysa/MQCGZmJedEb2ZWck70ZmYl1+UHNZN0SRWTvRER3+vgOIZVMdmyiHiszDHUShy1EEOOo9M/n5LeaG0S4IWI2LajYqiVOGohhs6Io8ufjJX0HHB2K5OdFREf6+A43iR1J23qIrEGgyNiUJljqJU4aiGGHEenfz4l/SUidl7TacoQRy3E0BlxdPk9euDiiLi6pQkkbVRAHNMj4tOtxHHnWhBDrcRRCzFAbXw+v9RO06ypWoijFmKodh3tFkeX36M3s+rlH5XlEfFmDcSyPmnE27kR8Wpnx9NZJG0MREdugy5/MlbSRZL26uw4miLp650dQwNJ2xe8voGSNsyPB0k6QtKORcbQKJ71JA1riKngdX9e0lckDWpUflJB6+8v6RpJr5MGzZot6e+SxkrqUUQMOY7fSuqbH38emA1cAMySdGRBMWwv6U+SbpK0taRxkl6T9JCkDm3ebRTHQEkTJL0M/BmYLmlRLhvU7iuMiC79B7wMzACeA34M7NxJcZze6O/fSV+q04HTa2A7/b3AdZ0FPAs8CZyc/19F+mIXsi2Ayyoe7w38HbgLmA8cVOC2+BFwD/Az4BngGxV1DxcUw53AvvnxF4GLgXWBHwBXFLgtHqt4/KxafwMAABVnSURBVAAwKD/uCzxSUAz3AIcCx+ScMZJ0HudQ4I4Ct8WDwNFAXUVZXY5nWnuvr8s33TScsJC0DWkjjSRtsPHA+Ih4uqA43iQNBTGb908Ankb6ghMR5xQQQ3M9PAScGBHrd3QMOY7ZwHDgQ8A84CMR8bKkdYE/R0SH79lLejgihuXHdwH/HhEPS/oI8LsoaLRCSY+Rdj6W56OJ64CnIuKbRZz0yzE8EhFDK57PjIhd8uMnI6KQo738ufhERLwh6T7gkxGxoqEuInYoIIaV21zSnIj4aEXdys9MAXH8LSK2aWvd6uryTTfkYY8j4m8RcV7+sBwF9CIl3qLsQPqBWRf4SU7sr0bEOUUk+exfgMeBmY3+ZgDvFhQDwHsRsRR4DVgKLAaIiLcKjKHS+pFvbRkRc0nvU1G6R8TyvO7XSHuO60v6PWl01yK8LOnLuQnnG6Qf34ZbgBaZA84B7spNVvcDv5d0gqRxwM0FxVD53l/UqK6o9wNgpqTLJO2e35f++fFlwF/ae2Wl2aPv7DgaSBoB/Afp8PjHEfGRAtd9J/C9iHigibpnI2JwQXGMI31p1iUNcrec9EX+NNAnIo4qIIYlpEH2RLoBzsCIeFVSN+DRIo4qchw3kn74725U/gPgOxHR4YlW0kDgQtLtPGcB34qIFyRtQmrS+UNHx1ARy0eB/wNsS+r1twCYFBG3FLT+rwLXRsQ/m4hrTEScVlAcPYGvkO64tyXpczof+F/gqoh4p13XV4JEv17jN62zSfoQae9l94j4ZIHr3Rh4OyKWFLXOZuLoDhxJOtq6nnRLyWNJ7eSXFrFnL+nDjYoWRsSyfDLwkxHxx46OIcfRGyAf4TSu2zIini8iDlu7dflEb2arT9IhEXGj46iNGDoqjjK00TdL0sOdHQOApLGOIamFOGohBqiZz+eunR1AVgtx1EIM0AFxeI++AJIOjYj/XdtjqJU4aiEGsyI50ZsVpIgrINtK0v4RcVuB69scICJelNQP2IfU3bSIO881Fc9gYGfgiYh4ssD1HgbcGhFvF7G+sjfddOjIhI3WJUlHSToyP/6MpEskfT339Cgihr6Nnn85xzA6d6UrhKTDc1JDUr98VeZjkiZKGlBQDBtLOlvSyfn9+K6kGyX9RMWMfdQQR7FXQLbdVUWtKPd4eRCYJulrwI3AIcAfJX2loBgmVTweQbqY7FDgfySNKiKGbCKwQNJvJB0kqUO7/Hb5PXpJX2yuCrg8IvoVFMdlwKakboVvAOuQukodBLwUEf9WQAyVFwl9j7S3dB3py7QgIr7Z0THkdT8REUPy44nANOD3wGeB4yJi/wJimAI8BqwPfCw//h2wPzA0IkZ0dAw5jgdJF81dHxHv5bI6Uq+k0yJijwJimNxcFfDpiFi3o2PIcTwG7A70Jl2V+tG8Z78RcFdE1BcQQ+UFUw+QPo/P5p2kOyovLOvoOEjdjY8gXeS5I3AD6SLPu1uad3WUYfTKicC15AunGulVYBz7RMROSmOHvAhsERHvSrqODrgAohmVe+1fzDG9lWMo8sRf5d7JRyPi6Px4nKRC+ikD/SPioHwksyAi9s3l90qaVVAMAH0jYmJlQU74EySdV1AM+wBfBhp3Qxap62tRluWuv0skPRMRLwLk6xuK2uOsXE/3iHg2x/CKpBUFxZBXGa8CvwR+mZu0jgLOlzQgIrZqz5WVIdE/ClwYEY83rpD02QLjaLj6cZmk6RHxbn6+XNJ7BcXQW9LOpCa5uob+6jmmomIAmCrpXNI4L1MlfSEiJknaD3i9oBi65T3FPsB6kgZFxLx8kVDhV0ACV5MuiAHYCjiR4nYApgFLmtpTlPRUQTEArJDUIyKWAQdXxNCL4pqRhyrd9EPAOpI2z0cVPSn2iukPNKXmH71LgEuauAZkjZUh0Z9GaippyuEFxvGi8sVbEXFAQ2H+pS5q+IEXeP+y7n9I2qLiCsjlBcUAMAb4LtCQRL4p6S1SU9bxBcXwI9JgagAnAVfmvcYhpIvZinIC6QrIc2jiCsgiAoiIA1uoK+yCPtJRZsOQJQsqyjchDQLY4SKiuWT+IeCrRcSQNduMGhHPtffKunwbfa1TGshr3YhY1Ikx1AHrdMYVs5I2IB0iL+6EddeRPuPLla7WrQeej4gXio7FrDOVutdNLYiItzozyecY3uusYREi4vXOSPJ53e9VDCi2PCJm1FKSl9TaLQaLiKGwnmktqYU4aiEG6Jg4ytB0Y9ZVnQyc29EraaVn2uYdvf5aiqMWYuiMOJzozTpQPvHXZBWpm2ERaqVnWi3EUQsxFB5Hadvo88UQL0bEnzs7Flt7Sfo7sGtEvNRE3fz27kbXTAwzSTeeaapnWiEx1EoctRBDZ8RR5jb63YHvSfpTZwYh6a/5b8zaHEOtxNEJMVwDNNdd7rqCYqiVnmm1EEctxFB4HKXdo68luXvjHhFx09ocQ46jL2mc/rV+W5gVpcsnehU8OFBXI2lY5Nvore0k9Y2IVzo7DrOilaHpptDBgZoj6R+SrlQazKywAcQaxTCs0d8uwGRJO0sq5KbHrSmqC5ukAyU9K+m+/PpnA3+WtEDSZ4qIwaxWlGGPvtDBgVqI4yngv4BjSPcovT7HMK3AGFaQLnevvN/kHrksIuLTBcXR6QPN5fFsjgE2JI2SeHBETJP0MdI9Q2vih8+sCGVI9A9XfmkrBgc6Bmj3wYGqiUPpZswj89+GwISI+E4BMRwBfAO4ICKm5LJno6CbglfEsYzmu44dERF9Coih8v34QC8GSbOKGCmx1tVKz7RaiKMWYujIOMrQj77QwYGqiSMi/g78GPixpO1ICb/DRcT1km4GzpP0L6TxQzrjl7wWBpp7TWn88/WBVyV9kzRM8WdZdRTHwkn6a354aUT8vJPC2B3YSVL3lsbDWUviqIUYOiyOMuzR7xsRU2sgjosi4vTOjqOBpHrgYmCHiNi04HXvAzyXf/Aa1w2PiBkFxLAV8D1gBWlAsWNIg4s9B5wREX9tYfZCuPePFaXLJ3prXj4p3Ccimuuva2sJSesD/SLimUblH4+IRwuMYz3gANJQzcuBv5F6zRUyFnxuVl0UEW/n78coYBjwBPDLhrGRCoqlsNsqlqHXTbNqaJCiQzpjvZG80ZkxNFYLcRQZg6STKh4PkHSHpNckPSBp24JiOIo0ZPMfJM2WtGtF9bgiYqiI4y5Soh9DuunJ8cAsSR8vKIwpvJ/3zieNi/9nYFfgioJiKPy2il2+jb5WBilqxa6kN3JtjwFqI44iYxgD/Co/voj3b2c4AvgFUERXz+8Au+R7E+wG/EbSdyLijzQ6x9XBvkdqqlqSL5y7NiI+n5P85cCeBcTQrWIk18+ShqdYAfxW0iMFrL/BGGAHmrmtIu18r4Iun+ipnUGKmhUR33cMSS3E0YkxbBsRR+XHN6i4YYrrGoZnjoiHlO70daPSjdqLbLsVsDQ/fot0j2Ui4tHctFSE+ZI+HRF3AvNITUjP5fMlRSr0toplSPS10MOjRZL2j4jbClpXYe1+bYhpMLAz8EREPNna9O20zlppix0g6RJSkuun92+lB9CjoBjelLR1Q/t83rPfF5hE2qssyhTgZkl3AweSbhiPpI0p7sjiZOAaSWNJt7Wcla/F2QgosjNFobdV7PInY2uhh0drJP09IgYWsJ6vAmeRvjQXkJLbbGAv4McRUcit6yRNiogv5McjgJ8BU0mH5j+KiHEFxPA4sFtuJrgA2JqU2D4NEBEntTR/O8ZxYqOiyXmvbXPg1IKurxgKvBURcxqV9wCOiohrOzqGinUeRLqd4yMNOz+SugE9IuKdFmdu3zg+BmxL2tldAEwv6oRwXv9AYGHjHQ5JWwIfi4jb23V9XT3R1wpJk5urAj4dEesWEMNjpH64Tbb7FXWRkKS/RMTO+fEDwHER8Wxul70jIoYWEMMTETEkP57J+22xSHqkiBjMakUZmm6Q9HngC6SbLwewEPifiLi5wDD2Ab7MqhfjiNS7oAiFtvu1oHJd3SPi2RzHK0rDNBShVtpimyXpkIjo1BPTkq6IiNGdGUOtxFELMXRUHF0+0Uv6GekQ7BrSIRjAAOBUSQdGxL8VFMo0YElT4+sojYNThELb/VowVOnOSgLWkbR5PrLoCRQ16FyttMW2pBZ6IP13J6+/QS3EUQsxQAfE0eWbbiQ9HRGr9EfOJ+CejohtOiGsTlF0u19bSdowx/Fggevs1LZYs1pQhkT/KHByRDzUqHw34KqI2KmgOBStbMxqpunqMdRKHLUQQ8V6Pgm8FBFPSdqbNKLoX4sa+kBSd9LwD4cD/alo3iR9R5a1MHshimo2kfQhUh/2II02OxL4IumCsnMjopBxkFRxRXI+KX4mqYn3ceAHFX3922d9JUj0w0gXnvTh/aabrUi36fp6RMwsKI6pwB9I5wb+XlHeE9gbOJF0QnRcmWOolThqIYa8vp+RvsDdgVtIF0j9CfgU8JeI+FZHrj/HMB54DbiaDzZvnghsHBFHd3QMOY6Nm6si9cIZUEAMvwPmkzosbAf8lXQR26HA5hFxfEfHkOOoHF31p8AmwK9J5xo3iYgT2nV9XT3RN8jd1bYkfWgWNJyILHD9vYCTgOOAwaQvVi9Sm/StpFEKZ5U9hlqJoxZiyHHMJt0joTfwPLBl7vLZg5TodywghqciYrtm6pps+uygON4j9Qar7DMf+fmWEdGzgBhmRUR9btp9AdgiIiI/fyQiChmKoVHPtFmkXmHLOiqOLn8ytkFO7IUm90brfxu4DLgsf4n7Aksj4rW1KYZaiaMWYng/lIiK3kYNe1YrKO4E+auSjgT+UNHFtBtwJPBqQTEAzAU+08w1L/MLjIP8nkxpaLrLz4vc691A0uGkz8A6Dc1nHRVHaRJ9U9TopiRFyW/aC0Wvt9ZiqJU4OjmGmyTdSzqauBL4naRppKabewqKYSTpArrLJDUk9g1JY6oUcq+E7GekXk+rJHrS/RuKMEPSehHxz6i4aE7S1sCbBcUAcDdwWH48TdJmEfFSbplo9/sal6bpxqxWSfoEaWdtWk4oh5OS3fVF9wDK1xEofJP0VRR1cr4zlCrR55M9ERFFHo6aNauWev80s+7CxmGq9ThqIYaOiqPLj0cvaaCkCZJeJo0rPV3Solw2qHOjM+MuSd/I1zisJKmnpE9LuprU+6WzFDL+URVqIY5aiAE6II4ytNFPJLX9HRcR7wFIqiOdaJpA6rNs1lkOIPX+Ga80iudrpB443Ui9fy4uoAdSS+MwFTYkRC3EUQsxdEYcXb7pRtLfmrv6taU6s6J1Vu+ffAK2uXGYJkbEZmtLHLUQQ2fEUYY9+pmSLiNdDNLQRWsr0uHwXzotKrNGOrH3Ty2Mw1QrcdRCDIXHUYY9+p6ky7tHUHHBFDCZdHl3YWNcm5nVoi6f6M2sZbXS86cW4qiFGDojji7f66Ypkh7u7BjMakit9PyphThqIYbC4yjlHn3lOBJma7saGven0+OohRg6I46yJvofRMT3OjsOs1rTyeP+1FQctRBDUXF0+URfK21uZma1qgxt9LXS5mZmVpPKsEffVFtX5ZWHhbS5mZnVqi6f6CvVSpubmVktKVWiNzOzVZWhjd7MzFrgRG9mVnJO9NZulNwn6cCKsqMk3dzO6xkhaVLF829LmlPx/FBJkyX1l3R9LquXdFDFNGMlndHM8jfP9zN4RtITkqZIWqMbaEsaJ2mJpD4VZf8pKST1XZNlm7XGid7aTb5W4RTgIkm9JK0L/BD419VZXr6vQFMeAD5R8fwTwBuSNs3P9wTuj4iFEXFELqsHDqIVkgTcAEyNiK0jYgjwHaDqYWMbx13xfA5p8L2Gm3PvBzxf7XKL0sJ2ty7Kid7aVUQ8DvwvcCbwfeC3wHclTZf0F0kNiW6QpHslPZz/9szl+0q6S9J1wGOS1pV0k6RHJD0u6eiIeBl4XdJH82q3BP5ASvDk/w/kdTyeRzg9Fzha0ixJR+fphkiaKmmupFNz2X7Asoi4vOI1zYqIe3NsNzaUS/q5pFH58TxJZ0u6Dziy8fM8y3igYd37AvcDyyuWN0nSTEmzJY2uKP+npB/mbTBN0ma5/FBJf87b9faK8n6Sbsvb9b8lPddw1CDpy5IeytvhvxuSel7HuZL+zAd/RK0EnOitI5wDHAscSBq/486I2JWURH+S9/QXAftHxDBS8rukYv7dgO/mvekDgIURMTQidgQamoEeAPaUtB3wN9L43ntK6g58HJjesLCIeBc4m3RDh/qImJirtgc+n9f3/dw9d0dg5mq+7rcjYu+ImNDM878B/SRtBBxDugNapZMiYhdgOHCq0o28AdYFpkXEUOAe4P/k8vuAPfK4ThOA/8jl3ydt82Gko5OBAJI+RtrWe0VEPfAe6fqThnU8HhG7R8R9q/n6rUaV4cYjVmMi4i1JE0l3zzkKOLSiPbwXKfEsBH4uqSHhVLaBPxQRz+bHjwEXSroAuDEi7s3l95P23OuAB4GHSMl8Z+CpiHg7tcK06KZ8v4J3JC2iDc0zzZjYynOAPwIjgd2BrzaqO1XS4fnxVsA2wGLgXaDhSGImsH9+PACYKGkLoCfQsM32Bg4HiIible5mBPAZYBfSfZUhXVi4KNe9RzoqshJyoreOsiL/CfhSRHzgrjmSxgIvAUNJR5ZvV1S/1fAgIp6WtAupff1Hkm6NiHNJe/TfICX6X0bEm/kq6X1JPwLVqLwpzXuk78Ns4IimJ2c5HzwK7tWo/q1WnkPa834YuDoiVjT8GEnaF/gs8ImIWCJpasXyl1WM1dQQJ8B/ARdFxOQ8/9hc3twvnPJ6v91E3dsN91y28nHTjXW0W4Bv5JOcSGoYPnoD4IWIWAEcT0rYq5DUn3TLtd8CFwLDctUTQH9gH96/ZeQs0sngB5pY1JtAnybKG7sTWEdSQ/MIknaV9CngOVK7/jqSNiDtIbdJRPwd+C5wWaOqDYBXc5Lfnupuar8B75/MrRzP6T7SkRSSPgdslMvvAI5oOGktaWNJH27ra7Cux4neOtp5QA/gUUmP5+eQEt2JkqaRmm2a2vsF2Al4SNIsUoL8Aazs4fNn4JV8L1ZITTgfoelEfxcpSVeejF1FXu7hwP65e+Vs0p7ywoiYD/wOeBS4ltW8J3FE/HdEPNOo+Gagu6RHSdtoWhWLGgv8XtK9wCsV5ecAn1O6Ac+BpPvUvhkRTwDfA27N67kN2GJ1XoN1LR4CwaxkJK0DvBcRyyV9AvhFPvlqaym30ZuVz0Dgd7mv/ru830vH1lLeozczKzm30ZuZlZwTvZlZyTnRm5mVnBO9mVnJOdGbmZWcE72ZWcn9f+B0YboEjIoFAAAAAElFTkSuQmCC\n",
      "text/plain": [
       "<Figure size 432x288 with 1 Axes>"
      ]
     },
     "metadata": {
      "needs_background": "light"
     },
     "output_type": "display_data"
    }
   ],
   "source": [
    "for col in numeric_cols:\n",
    "    table=pd.crosstab(pd.cut(data[col], 10), data.Attrition)\n",
    "    table = pd.DataFrame(table.div(table.sum(1).astype(float), axis=0)[1])\n",
    "    table[\"dist\"] = pd.cut(data[col], 10).value_counts().div(sum(pd.cut(data[col], 10).value_counts()))\n",
    "    table.columns = [\"Attrition %\", \"Distribution\"]\n",
    "    table.plot(kind='bar')\n",
    "    plt.title('Attrition by '+col)\n",
    "    plt.xlabel(col)\n",
    "    plt.show()"
   ]
  },
  {
   "cell_type": "markdown",
   "metadata": {},
   "source": [
    "### Create Features"
   ]
  },
  {
   "cell_type": "code",
   "execution_count": null,
   "metadata": {},
   "outputs": [],
   "source": [
    "for var in cat_vars:\n",
    "    cat_list='var'+'_'+var\n",
    "    cat_list = pd.get_dummies(data[var], prefix=var)\n",
    "    data1=data.join(cat_list)\n",
    "    data=data1"
   ]
  },
  {
   "cell_type": "code",
   "execution_count": 142,
   "metadata": {},
   "outputs": [
    {
     "data": {
      "text/html": [
       "<div>\n",
       "<style scoped>\n",
       "    .dataframe tbody tr th:only-of-type {\n",
       "        vertical-align: middle;\n",
       "    }\n",
       "\n",
       "    .dataframe tbody tr th {\n",
       "        vertical-align: top;\n",
       "    }\n",
       "\n",
       "    .dataframe thead th {\n",
       "        text-align: right;\n",
       "    }\n",
       "</style>\n",
       "<table border=\"1\" class=\"dataframe\">\n",
       "  <thead>\n",
       "    <tr style=\"text-align: right;\">\n",
       "      <th></th>\n",
       "      <th>BusinessTravel_Non-Travel</th>\n",
       "      <th>BusinessTravel_Travel_Frequently</th>\n",
       "      <th>BusinessTravel_Travel_Rarely</th>\n",
       "    </tr>\n",
       "  </thead>\n",
       "  <tbody>\n",
       "    <tr>\n",
       "      <th>0</th>\n",
       "      <td>0</td>\n",
       "      <td>0</td>\n",
       "      <td>1</td>\n",
       "    </tr>\n",
       "    <tr>\n",
       "      <th>1</th>\n",
       "      <td>0</td>\n",
       "      <td>1</td>\n",
       "      <td>0</td>\n",
       "    </tr>\n",
       "    <tr>\n",
       "      <th>2</th>\n",
       "      <td>0</td>\n",
       "      <td>0</td>\n",
       "      <td>1</td>\n",
       "    </tr>\n",
       "    <tr>\n",
       "      <th>3</th>\n",
       "      <td>0</td>\n",
       "      <td>1</td>\n",
       "      <td>0</td>\n",
       "    </tr>\n",
       "    <tr>\n",
       "      <th>4</th>\n",
       "      <td>0</td>\n",
       "      <td>0</td>\n",
       "      <td>1</td>\n",
       "    </tr>\n",
       "    <tr>\n",
       "      <th>...</th>\n",
       "      <td>...</td>\n",
       "      <td>...</td>\n",
       "      <td>...</td>\n",
       "    </tr>\n",
       "    <tr>\n",
       "      <th>1465</th>\n",
       "      <td>0</td>\n",
       "      <td>1</td>\n",
       "      <td>0</td>\n",
       "    </tr>\n",
       "    <tr>\n",
       "      <th>1466</th>\n",
       "      <td>0</td>\n",
       "      <td>0</td>\n",
       "      <td>1</td>\n",
       "    </tr>\n",
       "    <tr>\n",
       "      <th>1467</th>\n",
       "      <td>0</td>\n",
       "      <td>0</td>\n",
       "      <td>1</td>\n",
       "    </tr>\n",
       "    <tr>\n",
       "      <th>1468</th>\n",
       "      <td>0</td>\n",
       "      <td>1</td>\n",
       "      <td>0</td>\n",
       "    </tr>\n",
       "    <tr>\n",
       "      <th>1469</th>\n",
       "      <td>0</td>\n",
       "      <td>0</td>\n",
       "      <td>1</td>\n",
       "    </tr>\n",
       "  </tbody>\n",
       "</table>\n",
       "<p>1470 rows × 3 columns</p>\n",
       "</div>"
      ],
      "text/plain": [
       "      BusinessTravel_Non-Travel  BusinessTravel_Travel_Frequently  \\\n",
       "0                             0                                 0   \n",
       "1                             0                                 1   \n",
       "2                             0                                 0   \n",
       "3                             0                                 1   \n",
       "4                             0                                 0   \n",
       "...                         ...                               ...   \n",
       "1465                          0                                 1   \n",
       "1466                          0                                 0   \n",
       "1467                          0                                 0   \n",
       "1468                          0                                 1   \n",
       "1469                          0                                 0   \n",
       "\n",
       "      BusinessTravel_Travel_Rarely  \n",
       "0                                1  \n",
       "1                                0  \n",
       "2                                1  \n",
       "3                                0  \n",
       "4                                1  \n",
       "...                            ...  \n",
       "1465                             0  \n",
       "1466                             1  \n",
       "1467                             1  \n",
       "1468                             0  \n",
       "1469                             1  \n",
       "\n",
       "[1470 rows x 3 columns]"
      ]
     },
     "execution_count": 142,
     "metadata": {},
     "output_type": "execute_result"
    }
   ],
   "source": [
    "cat_list = pd.get_dummies(data[\"BusinessTravel\"], prefix=\"BusinessTravel\")\n",
    "cat_list"
   ]
  },
  {
   "cell_type": "code",
   "execution_count": 140,
   "metadata": {},
   "outputs": [],
   "source": [
    "data_mod = pd.DataFrame\n",
    "\n",
    "\n"
   ]
  },
  {
   "cell_type": "markdown",
   "metadata": {},
   "source": [
    "### Create Model"
   ]
  },
  {
   "cell_type": "code",
   "execution_count": 120,
   "metadata": {},
   "outputs": [],
   "source": [
    "feature_cols = ['MonthlyIncome', 'BusinessTravel', 'OverTime', 'MaritalStatus', 'JobInvolvement']\n",
    "\n",
    "x = data[feature_cols] # Features\n",
    "y = data.Attrition # Target variable"
   ]
  },
  {
   "cell_type": "code",
   "execution_count": 121,
   "metadata": {},
   "outputs": [],
   "source": [
    "x_train,x_test,y_train,y_test = train_test_split(x,y,test_size=0.25,random_state=0)"
   ]
  },
  {
   "cell_type": "code",
   "execution_count": 122,
   "metadata": {},
   "outputs": [
    {
     "ename": "ValueError",
     "evalue": "could not convert string to float: 'Divorced'",
     "output_type": "error",
     "traceback": [
      "\u001b[1;31m---------------------------------------------------------------------------\u001b[0m",
      "\u001b[1;31mValueError\u001b[0m                                Traceback (most recent call last)",
      "\u001b[1;32m<ipython-input-122-1f2141518d20>\u001b[0m in \u001b[0;36m<module>\u001b[1;34m\u001b[0m\n\u001b[0;32m      3\u001b[0m \u001b[1;33m\u001b[0m\u001b[0m\n\u001b[0;32m      4\u001b[0m \u001b[1;31m# fit the model with data\u001b[0m\u001b[1;33m\u001b[0m\u001b[1;33m\u001b[0m\u001b[1;33m\u001b[0m\u001b[0m\n\u001b[1;32m----> 5\u001b[1;33m \u001b[0mmodel\u001b[0m\u001b[1;33m.\u001b[0m\u001b[0mfit\u001b[0m\u001b[1;33m(\u001b[0m\u001b[0mx_train\u001b[0m\u001b[1;33m,\u001b[0m\u001b[0my_train\u001b[0m\u001b[1;33m)\u001b[0m\u001b[1;33m\u001b[0m\u001b[1;33m\u001b[0m\u001b[0m\n\u001b[0m\u001b[0;32m      6\u001b[0m \u001b[1;33m\u001b[0m\u001b[0m\n\u001b[0;32m      7\u001b[0m \u001b[1;31m#\u001b[0m\u001b[1;33m\u001b[0m\u001b[1;33m\u001b[0m\u001b[1;33m\u001b[0m\u001b[0m\n",
      "\u001b[1;32m~\\anaconda3\\envs\\msca\\lib\\site-packages\\sklearn\\linear_model\\_logistic.py\u001b[0m in \u001b[0;36mfit\u001b[1;34m(self, X, y, sample_weight)\u001b[0m\n\u001b[0;32m   1342\u001b[0m         X, y = self._validate_data(X, y, accept_sparse='csr', dtype=_dtype,\n\u001b[0;32m   1343\u001b[0m                                    \u001b[0morder\u001b[0m\u001b[1;33m=\u001b[0m\u001b[1;34m\"C\"\u001b[0m\u001b[1;33m,\u001b[0m\u001b[1;33m\u001b[0m\u001b[1;33m\u001b[0m\u001b[0m\n\u001b[1;32m-> 1344\u001b[1;33m                                    accept_large_sparse=solver != 'liblinear')\n\u001b[0m\u001b[0;32m   1345\u001b[0m         \u001b[0mcheck_classification_targets\u001b[0m\u001b[1;33m(\u001b[0m\u001b[0my\u001b[0m\u001b[1;33m)\u001b[0m\u001b[1;33m\u001b[0m\u001b[1;33m\u001b[0m\u001b[0m\n\u001b[0;32m   1346\u001b[0m         \u001b[0mself\u001b[0m\u001b[1;33m.\u001b[0m\u001b[0mclasses_\u001b[0m \u001b[1;33m=\u001b[0m \u001b[0mnp\u001b[0m\u001b[1;33m.\u001b[0m\u001b[0munique\u001b[0m\u001b[1;33m(\u001b[0m\u001b[0my\u001b[0m\u001b[1;33m)\u001b[0m\u001b[1;33m\u001b[0m\u001b[1;33m\u001b[0m\u001b[0m\n",
      "\u001b[1;32m~\\anaconda3\\envs\\msca\\lib\\site-packages\\sklearn\\base.py\u001b[0m in \u001b[0;36m_validate_data\u001b[1;34m(self, X, y, reset, validate_separately, **check_params)\u001b[0m\n\u001b[0;32m    430\u001b[0m                 \u001b[0my\u001b[0m \u001b[1;33m=\u001b[0m \u001b[0mcheck_array\u001b[0m\u001b[1;33m(\u001b[0m\u001b[0my\u001b[0m\u001b[1;33m,\u001b[0m \u001b[1;33m**\u001b[0m\u001b[0mcheck_y_params\u001b[0m\u001b[1;33m)\u001b[0m\u001b[1;33m\u001b[0m\u001b[1;33m\u001b[0m\u001b[0m\n\u001b[0;32m    431\u001b[0m             \u001b[1;32melse\u001b[0m\u001b[1;33m:\u001b[0m\u001b[1;33m\u001b[0m\u001b[1;33m\u001b[0m\u001b[0m\n\u001b[1;32m--> 432\u001b[1;33m                 \u001b[0mX\u001b[0m\u001b[1;33m,\u001b[0m \u001b[0my\u001b[0m \u001b[1;33m=\u001b[0m \u001b[0mcheck_X_y\u001b[0m\u001b[1;33m(\u001b[0m\u001b[0mX\u001b[0m\u001b[1;33m,\u001b[0m \u001b[0my\u001b[0m\u001b[1;33m,\u001b[0m \u001b[1;33m**\u001b[0m\u001b[0mcheck_params\u001b[0m\u001b[1;33m)\u001b[0m\u001b[1;33m\u001b[0m\u001b[1;33m\u001b[0m\u001b[0m\n\u001b[0m\u001b[0;32m    433\u001b[0m             \u001b[0mout\u001b[0m \u001b[1;33m=\u001b[0m \u001b[0mX\u001b[0m\u001b[1;33m,\u001b[0m \u001b[0my\u001b[0m\u001b[1;33m\u001b[0m\u001b[1;33m\u001b[0m\u001b[0m\n\u001b[0;32m    434\u001b[0m \u001b[1;33m\u001b[0m\u001b[0m\n",
      "\u001b[1;32m~\\anaconda3\\envs\\msca\\lib\\site-packages\\sklearn\\utils\\validation.py\u001b[0m in \u001b[0;36minner_f\u001b[1;34m(*args, **kwargs)\u001b[0m\n\u001b[0;32m     71\u001b[0m                           FutureWarning)\n\u001b[0;32m     72\u001b[0m         \u001b[0mkwargs\u001b[0m\u001b[1;33m.\u001b[0m\u001b[0mupdate\u001b[0m\u001b[1;33m(\u001b[0m\u001b[1;33m{\u001b[0m\u001b[0mk\u001b[0m\u001b[1;33m:\u001b[0m \u001b[0marg\u001b[0m \u001b[1;32mfor\u001b[0m \u001b[0mk\u001b[0m\u001b[1;33m,\u001b[0m \u001b[0marg\u001b[0m \u001b[1;32min\u001b[0m \u001b[0mzip\u001b[0m\u001b[1;33m(\u001b[0m\u001b[0msig\u001b[0m\u001b[1;33m.\u001b[0m\u001b[0mparameters\u001b[0m\u001b[1;33m,\u001b[0m \u001b[0margs\u001b[0m\u001b[1;33m)\u001b[0m\u001b[1;33m}\u001b[0m\u001b[1;33m)\u001b[0m\u001b[1;33m\u001b[0m\u001b[1;33m\u001b[0m\u001b[0m\n\u001b[1;32m---> 73\u001b[1;33m         \u001b[1;32mreturn\u001b[0m \u001b[0mf\u001b[0m\u001b[1;33m(\u001b[0m\u001b[1;33m**\u001b[0m\u001b[0mkwargs\u001b[0m\u001b[1;33m)\u001b[0m\u001b[1;33m\u001b[0m\u001b[1;33m\u001b[0m\u001b[0m\n\u001b[0m\u001b[0;32m     74\u001b[0m     \u001b[1;32mreturn\u001b[0m \u001b[0minner_f\u001b[0m\u001b[1;33m\u001b[0m\u001b[1;33m\u001b[0m\u001b[0m\n\u001b[0;32m     75\u001b[0m \u001b[1;33m\u001b[0m\u001b[0m\n",
      "\u001b[1;32m~\\anaconda3\\envs\\msca\\lib\\site-packages\\sklearn\\utils\\validation.py\u001b[0m in \u001b[0;36mcheck_X_y\u001b[1;34m(X, y, accept_sparse, accept_large_sparse, dtype, order, copy, force_all_finite, ensure_2d, allow_nd, multi_output, ensure_min_samples, ensure_min_features, y_numeric, estimator)\u001b[0m\n\u001b[0;32m    801\u001b[0m                     \u001b[0mensure_min_samples\u001b[0m\u001b[1;33m=\u001b[0m\u001b[0mensure_min_samples\u001b[0m\u001b[1;33m,\u001b[0m\u001b[1;33m\u001b[0m\u001b[1;33m\u001b[0m\u001b[0m\n\u001b[0;32m    802\u001b[0m                     \u001b[0mensure_min_features\u001b[0m\u001b[1;33m=\u001b[0m\u001b[0mensure_min_features\u001b[0m\u001b[1;33m,\u001b[0m\u001b[1;33m\u001b[0m\u001b[1;33m\u001b[0m\u001b[0m\n\u001b[1;32m--> 803\u001b[1;33m                     estimator=estimator)\n\u001b[0m\u001b[0;32m    804\u001b[0m     \u001b[1;32mif\u001b[0m \u001b[0mmulti_output\u001b[0m\u001b[1;33m:\u001b[0m\u001b[1;33m\u001b[0m\u001b[1;33m\u001b[0m\u001b[0m\n\u001b[0;32m    805\u001b[0m         y = check_array(y, accept_sparse='csr', force_all_finite=True,\n",
      "\u001b[1;32m~\\anaconda3\\envs\\msca\\lib\\site-packages\\sklearn\\utils\\validation.py\u001b[0m in \u001b[0;36minner_f\u001b[1;34m(*args, **kwargs)\u001b[0m\n\u001b[0;32m     71\u001b[0m                           FutureWarning)\n\u001b[0;32m     72\u001b[0m         \u001b[0mkwargs\u001b[0m\u001b[1;33m.\u001b[0m\u001b[0mupdate\u001b[0m\u001b[1;33m(\u001b[0m\u001b[1;33m{\u001b[0m\u001b[0mk\u001b[0m\u001b[1;33m:\u001b[0m \u001b[0marg\u001b[0m \u001b[1;32mfor\u001b[0m \u001b[0mk\u001b[0m\u001b[1;33m,\u001b[0m \u001b[0marg\u001b[0m \u001b[1;32min\u001b[0m \u001b[0mzip\u001b[0m\u001b[1;33m(\u001b[0m\u001b[0msig\u001b[0m\u001b[1;33m.\u001b[0m\u001b[0mparameters\u001b[0m\u001b[1;33m,\u001b[0m \u001b[0margs\u001b[0m\u001b[1;33m)\u001b[0m\u001b[1;33m}\u001b[0m\u001b[1;33m)\u001b[0m\u001b[1;33m\u001b[0m\u001b[1;33m\u001b[0m\u001b[0m\n\u001b[1;32m---> 73\u001b[1;33m         \u001b[1;32mreturn\u001b[0m \u001b[0mf\u001b[0m\u001b[1;33m(\u001b[0m\u001b[1;33m**\u001b[0m\u001b[0mkwargs\u001b[0m\u001b[1;33m)\u001b[0m\u001b[1;33m\u001b[0m\u001b[1;33m\u001b[0m\u001b[0m\n\u001b[0m\u001b[0;32m     74\u001b[0m     \u001b[1;32mreturn\u001b[0m \u001b[0minner_f\u001b[0m\u001b[1;33m\u001b[0m\u001b[1;33m\u001b[0m\u001b[0m\n\u001b[0;32m     75\u001b[0m \u001b[1;33m\u001b[0m\u001b[0m\n",
      "\u001b[1;32m~\\anaconda3\\envs\\msca\\lib\\site-packages\\sklearn\\utils\\validation.py\u001b[0m in \u001b[0;36mcheck_array\u001b[1;34m(array, accept_sparse, accept_large_sparse, dtype, order, copy, force_all_finite, ensure_2d, allow_nd, ensure_min_samples, ensure_min_features, estimator)\u001b[0m\n\u001b[0;32m    597\u001b[0m                     \u001b[0marray\u001b[0m \u001b[1;33m=\u001b[0m \u001b[0marray\u001b[0m\u001b[1;33m.\u001b[0m\u001b[0mastype\u001b[0m\u001b[1;33m(\u001b[0m\u001b[0mdtype\u001b[0m\u001b[1;33m,\u001b[0m \u001b[0mcasting\u001b[0m\u001b[1;33m=\u001b[0m\u001b[1;34m\"unsafe\"\u001b[0m\u001b[1;33m,\u001b[0m \u001b[0mcopy\u001b[0m\u001b[1;33m=\u001b[0m\u001b[1;32mFalse\u001b[0m\u001b[1;33m)\u001b[0m\u001b[1;33m\u001b[0m\u001b[1;33m\u001b[0m\u001b[0m\n\u001b[0;32m    598\u001b[0m                 \u001b[1;32melse\u001b[0m\u001b[1;33m:\u001b[0m\u001b[1;33m\u001b[0m\u001b[1;33m\u001b[0m\u001b[0m\n\u001b[1;32m--> 599\u001b[1;33m                     \u001b[0marray\u001b[0m \u001b[1;33m=\u001b[0m \u001b[0mnp\u001b[0m\u001b[1;33m.\u001b[0m\u001b[0masarray\u001b[0m\u001b[1;33m(\u001b[0m\u001b[0marray\u001b[0m\u001b[1;33m,\u001b[0m \u001b[0morder\u001b[0m\u001b[1;33m=\u001b[0m\u001b[0morder\u001b[0m\u001b[1;33m,\u001b[0m \u001b[0mdtype\u001b[0m\u001b[1;33m=\u001b[0m\u001b[0mdtype\u001b[0m\u001b[1;33m)\u001b[0m\u001b[1;33m\u001b[0m\u001b[1;33m\u001b[0m\u001b[0m\n\u001b[0m\u001b[0;32m    600\u001b[0m             \u001b[1;32mexcept\u001b[0m \u001b[0mComplexWarning\u001b[0m\u001b[1;33m:\u001b[0m\u001b[1;33m\u001b[0m\u001b[1;33m\u001b[0m\u001b[0m\n\u001b[0;32m    601\u001b[0m                 raise ValueError(\"Complex data not supported\\n\"\n",
      "\u001b[1;32m~\\anaconda3\\envs\\msca\\lib\\site-packages\\numpy\\core\\_asarray.py\u001b[0m in \u001b[0;36masarray\u001b[1;34m(a, dtype, order)\u001b[0m\n\u001b[0;32m     83\u001b[0m \u001b[1;33m\u001b[0m\u001b[0m\n\u001b[0;32m     84\u001b[0m     \"\"\"\n\u001b[1;32m---> 85\u001b[1;33m     \u001b[1;32mreturn\u001b[0m \u001b[0marray\u001b[0m\u001b[1;33m(\u001b[0m\u001b[0ma\u001b[0m\u001b[1;33m,\u001b[0m \u001b[0mdtype\u001b[0m\u001b[1;33m,\u001b[0m \u001b[0mcopy\u001b[0m\u001b[1;33m=\u001b[0m\u001b[1;32mFalse\u001b[0m\u001b[1;33m,\u001b[0m \u001b[0morder\u001b[0m\u001b[1;33m=\u001b[0m\u001b[0morder\u001b[0m\u001b[1;33m)\u001b[0m\u001b[1;33m\u001b[0m\u001b[1;33m\u001b[0m\u001b[0m\n\u001b[0m\u001b[0;32m     86\u001b[0m \u001b[1;33m\u001b[0m\u001b[0m\n\u001b[0;32m     87\u001b[0m \u001b[1;33m\u001b[0m\u001b[0m\n",
      "\u001b[1;31mValueError\u001b[0m: could not convert string to float: 'Divorced'"
     ]
    }
   ],
   "source": [
    "# initiate the model (using the default parameters)\n",
    "model = LogisticRegression()\n",
    "\n",
    "# fit the model with data\n",
    "model.fit(x_train,y_train)\n",
    "\n",
    "#\n",
    "y_pred = model.predict(x_test)"
   ]
  },
  {
   "cell_type": "code",
   "execution_count": null,
   "metadata": {},
   "outputs": [],
   "source": [
    "`"
   ]
  },
  {
   "cell_type": "code",
   "execution_count": null,
   "metadata": {},
   "outputs": [],
   "source": [
    "from sklearn import metrics\n",
    "cnf_matrix = metrics.confusion_matrix(y_test, y_pred)\n",
    "cnf_matrix"
   ]
  },
  {
   "cell_type": "code",
   "execution_count": null,
   "metadata": {},
   "outputs": [],
   "source": [
    "data.Attrition.describe()"
   ]
  },
  {
   "cell_type": "code",
   "execution_count": null,
   "metadata": {},
   "outputs": [],
   "source": [
    "# import required modules\n",
    "import numpy as np\n",
    "import matplotlib.pyplot as plt\n",
    "import seaborn as sns\n",
    "%matplotlib inline\n",
    "\n",
    "\n",
    "class_names=[0,1] # name  of classes\n",
    "fig, ax = plt.subplots()\n",
    "tick_marks = np.arange(len(class_names))\n",
    "plt.xticks(tick_marks, class_names)\n",
    "plt.yticks(tick_marks, class_names)\n",
    "# create heatmap\n",
    "sns.heatmap(pd.DataFrame(cnf_matrix), annot=True, cmap=\"YlGnBu\" ,fmt='g')\n",
    "ax.xaxis.set_label_position(\"top\")\n",
    "plt.tight_layout()\n",
    "plt.title('Confusion matrix', y=1.1)\n",
    "plt.ylabel('Actual label')\n",
    "plt.xlabel('Predicted label')"
   ]
>>>>>>> Stashed changes
  }
 ],
 "metadata": {
  "kernelspec": {
   "display_name": "Python [conda env:msca]",
   "language": "python",
   "name": "conda-env-msca-py"
  },
  "language_info": {
   "codemirror_mode": {
    "name": "ipython",
    "version": 3
   },
   "file_extension": ".py",
   "mimetype": "text/x-python",
   "name": "python",
   "nbconvert_exporter": "python",
   "pygments_lexer": "ipython3",
   "version": "3.6.10"
  }
 },
 "nbformat": 4,
 "nbformat_minor": 4
}
