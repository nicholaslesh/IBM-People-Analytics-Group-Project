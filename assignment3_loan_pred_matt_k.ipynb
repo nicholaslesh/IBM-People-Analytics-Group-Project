{
 "cells": [
  {
   "cell_type": "markdown",
   "metadata": {},
   "source": [
    "### Step 0: Loading libraries and data"
   ]
  },
  {
   "cell_type": "code",
   "execution_count": 1,
   "metadata": {},
   "outputs": [],
   "source": [
    "%matplotlib inline\n",
    "import numpy as np\n",
    "import pandas as pd\n",
    "from scipy import stats\n",
    "import matplotlib.pyplot as plt\n",
    "import seaborn as sns\n",
    "\n",
    "from sklearn.model_selection import train_test_split\n",
    "import sklearn.model_selection as cv\n",
    "from sklearn.model_selection import cross_val_score\n",
    "from sklearn.metrics import mean_squared_error as MSE\n",
    "from sklearn.metrics import accuracy_score\n",
    "\n",
    "from sklearn.tree import DecisionTreeRegressor\n",
    "from sklearn.ensemble import RandomForestRegressor\n",
    "from sklearn.ensemble import GradientBoostingRegressor\n",
    "from sklearn.ensemble import BaggingRegressor"
   ]
  },
  {
   "cell_type": "code",
   "execution_count": 2,
   "metadata": {},
   "outputs": [
    {
     "name": "stderr",
     "output_type": "stream",
     "text": [
      "C:\\Users\\mattk\\anaconda3\\envs\\msca\\lib\\site-packages\\IPython\\core\\interactiveshell.py:3063: DtypeWarning: Columns (15) have mixed types.Specify dtype option on import or set low_memory=False.\n",
      "  interactivity=interactivity, compiler=compiler, result=result)\n"
     ]
    }
   ],
   "source": [
    "df_train = pd.read_csv(\"Data for Cleaning & Modeling.csv\")\n",
    "df_test = pd.read_csv(\"Holdout for Testing.csv\")"
   ]
  },
  {
   "cell_type": "code",
   "execution_count": 3,
   "metadata": {},
   "outputs": [],
   "source": [
    "#Creating a flag to identify test and train data\n",
    "df_train[\"Test_Flag\"] = 0\n",
    "df_test[\"Test_Flag\"] = 1\n",
    "\n",
    "#Then appending the data so that cleaning and feature generation is applied uniformly\n",
    "df = df_train.append(df_test)"
   ]
  },
  {
   "cell_type": "markdown",
   "metadata": {},
   "source": [
    "### Step 1: Cleaning and preparing data"
   ]
  },
  {
   "cell_type": "markdown",
   "metadata": {},
   "source": [
    "Taking a look at the first 5 records of every column"
   ]
  },
  {
   "cell_type": "code",
   "execution_count": 4,
   "metadata": {},
   "outputs": [
    {
     "data": {
      "text/html": [
       "<div>\n",
       "<style scoped>\n",
       "    .dataframe tbody tr th:only-of-type {\n",
       "        vertical-align: middle;\n",
       "    }\n",
       "\n",
       "    .dataframe tbody tr th {\n",
       "        vertical-align: top;\n",
       "    }\n",
       "\n",
       "    .dataframe thead th {\n",
       "        text-align: right;\n",
       "    }\n",
       "</style>\n",
       "<table border=\"1\" class=\"dataframe\">\n",
       "  <thead>\n",
       "    <tr style=\"text-align: right;\">\n",
       "      <th></th>\n",
       "      <th>0</th>\n",
       "      <th>1</th>\n",
       "      <th>2</th>\n",
       "      <th>3</th>\n",
       "      <th>4</th>\n",
       "    </tr>\n",
       "  </thead>\n",
       "  <tbody>\n",
       "    <tr>\n",
       "      <th>X1</th>\n",
       "      <td>11.89%</td>\n",
       "      <td>10.71%</td>\n",
       "      <td>16.99%</td>\n",
       "      <td>13.11%</td>\n",
       "      <td>13.57%</td>\n",
       "    </tr>\n",
       "    <tr>\n",
       "      <th>X2</th>\n",
       "      <td>54734</td>\n",
       "      <td>55742</td>\n",
       "      <td>57167</td>\n",
       "      <td>57245</td>\n",
       "      <td>57416</td>\n",
       "    </tr>\n",
       "    <tr>\n",
       "      <th>X3</th>\n",
       "      <td>80364</td>\n",
       "      <td>114426</td>\n",
       "      <td>137225</td>\n",
       "      <td>138150</td>\n",
       "      <td>139635</td>\n",
       "    </tr>\n",
       "    <tr>\n",
       "      <th>X4</th>\n",
       "      <td>$25,000</td>\n",
       "      <td>$7,000</td>\n",
       "      <td>$25,000</td>\n",
       "      <td>$1,200</td>\n",
       "      <td>$10,800</td>\n",
       "    </tr>\n",
       "    <tr>\n",
       "      <th>X5</th>\n",
       "      <td>$25,000</td>\n",
       "      <td>$7,000</td>\n",
       "      <td>$25,000</td>\n",
       "      <td>$1,200</td>\n",
       "      <td>$10,800</td>\n",
       "    </tr>\n",
       "    <tr>\n",
       "      <th>X6</th>\n",
       "      <td>$19,080</td>\n",
       "      <td>$673</td>\n",
       "      <td>$24,725</td>\n",
       "      <td>$1,200</td>\n",
       "      <td>$10,692</td>\n",
       "    </tr>\n",
       "    <tr>\n",
       "      <th>X7</th>\n",
       "      <td>36 months</td>\n",
       "      <td>36 months</td>\n",
       "      <td>36 months</td>\n",
       "      <td>36 months</td>\n",
       "      <td>36 months</td>\n",
       "    </tr>\n",
       "    <tr>\n",
       "      <th>X8</th>\n",
       "      <td>B</td>\n",
       "      <td>B</td>\n",
       "      <td>D</td>\n",
       "      <td>C</td>\n",
       "      <td>C</td>\n",
       "    </tr>\n",
       "    <tr>\n",
       "      <th>X9</th>\n",
       "      <td>B4</td>\n",
       "      <td>B5</td>\n",
       "      <td>D3</td>\n",
       "      <td>C2</td>\n",
       "      <td>C3</td>\n",
       "    </tr>\n",
       "    <tr>\n",
       "      <th>X10</th>\n",
       "      <td>NaN</td>\n",
       "      <td>CNN</td>\n",
       "      <td>Web Programmer</td>\n",
       "      <td>city of beaumont texas</td>\n",
       "      <td>State Farm Insurance</td>\n",
       "    </tr>\n",
       "    <tr>\n",
       "      <th>X11</th>\n",
       "      <td>&lt; 1 year</td>\n",
       "      <td>&lt; 1 year</td>\n",
       "      <td>1 year</td>\n",
       "      <td>10+ years</td>\n",
       "      <td>6 years</td>\n",
       "    </tr>\n",
       "    <tr>\n",
       "      <th>X12</th>\n",
       "      <td>RENT</td>\n",
       "      <td>RENT</td>\n",
       "      <td>RENT</td>\n",
       "      <td>OWN</td>\n",
       "      <td>RENT</td>\n",
       "    </tr>\n",
       "    <tr>\n",
       "      <th>X13</th>\n",
       "      <td>85000</td>\n",
       "      <td>65000</td>\n",
       "      <td>70000</td>\n",
       "      <td>54000</td>\n",
       "      <td>32000</td>\n",
       "    </tr>\n",
       "    <tr>\n",
       "      <th>X14</th>\n",
       "      <td>VERIFIED - income</td>\n",
       "      <td>not verified</td>\n",
       "      <td>VERIFIED - income</td>\n",
       "      <td>not verified</td>\n",
       "      <td>not verified</td>\n",
       "    </tr>\n",
       "    <tr>\n",
       "      <th>X15</th>\n",
       "      <td>Aug-09</td>\n",
       "      <td>May-08</td>\n",
       "      <td>Aug-14</td>\n",
       "      <td>Mar-10</td>\n",
       "      <td>Nov-09</td>\n",
       "    </tr>\n",
       "    <tr>\n",
       "      <th>X16</th>\n",
       "      <td>Due to a lack of personal finance education an...</td>\n",
       "      <td>Just want to pay off the last bit of credit ca...</td>\n",
       "      <td>Trying to pay a friend back for apartment brok...</td>\n",
       "      <td>If funded, I would use this loan consolidate t...</td>\n",
       "      <td>I currently have a personal loan with Citifina...</td>\n",
       "    </tr>\n",
       "    <tr>\n",
       "      <th>X17</th>\n",
       "      <td>debt_consolidation</td>\n",
       "      <td>credit_card</td>\n",
       "      <td>debt_consolidation</td>\n",
       "      <td>debt_consolidation</td>\n",
       "      <td>debt_consolidation</td>\n",
       "    </tr>\n",
       "    <tr>\n",
       "      <th>X18</th>\n",
       "      <td>Debt consolidation for on-time payer</td>\n",
       "      <td>Credit Card payoff</td>\n",
       "      <td>mlue</td>\n",
       "      <td>zxcvb</td>\n",
       "      <td>Nicolechr1978</td>\n",
       "    </tr>\n",
       "    <tr>\n",
       "      <th>X19</th>\n",
       "      <td>941xx</td>\n",
       "      <td>112xx</td>\n",
       "      <td>100xx</td>\n",
       "      <td>777xx</td>\n",
       "      <td>067xx</td>\n",
       "    </tr>\n",
       "    <tr>\n",
       "      <th>X20</th>\n",
       "      <td>CA</td>\n",
       "      <td>NY</td>\n",
       "      <td>NY</td>\n",
       "      <td>TX</td>\n",
       "      <td>CT</td>\n",
       "    </tr>\n",
       "    <tr>\n",
       "      <th>X21</th>\n",
       "      <td>19.48</td>\n",
       "      <td>14.29</td>\n",
       "      <td>10.5</td>\n",
       "      <td>5.47</td>\n",
       "      <td>11.63</td>\n",
       "    </tr>\n",
       "    <tr>\n",
       "      <th>X22</th>\n",
       "      <td>0</td>\n",
       "      <td>0</td>\n",
       "      <td>0</td>\n",
       "      <td>0</td>\n",
       "      <td>0</td>\n",
       "    </tr>\n",
       "    <tr>\n",
       "      <th>X23</th>\n",
       "      <td>Feb-94</td>\n",
       "      <td>Oct-00</td>\n",
       "      <td>Jun-00</td>\n",
       "      <td>Jan-85</td>\n",
       "      <td>Dec-96</td>\n",
       "    </tr>\n",
       "    <tr>\n",
       "      <th>X24</th>\n",
       "      <td>0</td>\n",
       "      <td>0</td>\n",
       "      <td>0</td>\n",
       "      <td>0</td>\n",
       "      <td>1</td>\n",
       "    </tr>\n",
       "    <tr>\n",
       "      <th>X25</th>\n",
       "      <td>NaN</td>\n",
       "      <td>NaN</td>\n",
       "      <td>41</td>\n",
       "      <td>64</td>\n",
       "      <td>58</td>\n",
       "    </tr>\n",
       "    <tr>\n",
       "      <th>X26</th>\n",
       "      <td>NaN</td>\n",
       "      <td>NaN</td>\n",
       "      <td>NaN</td>\n",
       "      <td>NaN</td>\n",
       "      <td>NaN</td>\n",
       "    </tr>\n",
       "    <tr>\n",
       "      <th>X27</th>\n",
       "      <td>10</td>\n",
       "      <td>7</td>\n",
       "      <td>10</td>\n",
       "      <td>5</td>\n",
       "      <td>14</td>\n",
       "    </tr>\n",
       "    <tr>\n",
       "      <th>X28</th>\n",
       "      <td>0</td>\n",
       "      <td>0</td>\n",
       "      <td>0</td>\n",
       "      <td>0</td>\n",
       "      <td>0</td>\n",
       "    </tr>\n",
       "    <tr>\n",
       "      <th>X29</th>\n",
       "      <td>28854</td>\n",
       "      <td>33623</td>\n",
       "      <td>19878</td>\n",
       "      <td>2584</td>\n",
       "      <td>3511</td>\n",
       "    </tr>\n",
       "    <tr>\n",
       "      <th>X30</th>\n",
       "      <td>52.10%</td>\n",
       "      <td>76.70%</td>\n",
       "      <td>66.30%</td>\n",
       "      <td>40.40%</td>\n",
       "      <td>25.60%</td>\n",
       "    </tr>\n",
       "    <tr>\n",
       "      <th>X31</th>\n",
       "      <td>42</td>\n",
       "      <td>7</td>\n",
       "      <td>17</td>\n",
       "      <td>31</td>\n",
       "      <td>40</td>\n",
       "    </tr>\n",
       "    <tr>\n",
       "      <th>X32</th>\n",
       "      <td>f</td>\n",
       "      <td>f</td>\n",
       "      <td>f</td>\n",
       "      <td>f</td>\n",
       "      <td>f</td>\n",
       "    </tr>\n",
       "    <tr>\n",
       "      <th>Test_Flag</th>\n",
       "      <td>0</td>\n",
       "      <td>0</td>\n",
       "      <td>0</td>\n",
       "      <td>0</td>\n",
       "      <td>0</td>\n",
       "    </tr>\n",
       "  </tbody>\n",
       "</table>\n",
       "</div>"
      ],
      "text/plain": [
       "                                                           0  \\\n",
       "X1                                                    11.89%   \n",
       "X2                                                     54734   \n",
       "X3                                                     80364   \n",
       "X4                                                   $25,000   \n",
       "X5                                                   $25,000   \n",
       "X6                                                   $19,080   \n",
       "X7                                                 36 months   \n",
       "X8                                                         B   \n",
       "X9                                                        B4   \n",
       "X10                                                      NaN   \n",
       "X11                                                 < 1 year   \n",
       "X12                                                     RENT   \n",
       "X13                                                    85000   \n",
       "X14                                        VERIFIED - income   \n",
       "X15                                                   Aug-09   \n",
       "X16        Due to a lack of personal finance education an...   \n",
       "X17                                       debt_consolidation   \n",
       "X18                     Debt consolidation for on-time payer   \n",
       "X19                                                    941xx   \n",
       "X20                                                       CA   \n",
       "X21                                                    19.48   \n",
       "X22                                                        0   \n",
       "X23                                                   Feb-94   \n",
       "X24                                                        0   \n",
       "X25                                                      NaN   \n",
       "X26                                                      NaN   \n",
       "X27                                                       10   \n",
       "X28                                                        0   \n",
       "X29                                                    28854   \n",
       "X30                                                   52.10%   \n",
       "X31                                                       42   \n",
       "X32                                                        f   \n",
       "Test_Flag                                                  0   \n",
       "\n",
       "                                                           1  \\\n",
       "X1                                                    10.71%   \n",
       "X2                                                     55742   \n",
       "X3                                                    114426   \n",
       "X4                                                    $7,000   \n",
       "X5                                                    $7,000   \n",
       "X6                                                      $673   \n",
       "X7                                                 36 months   \n",
       "X8                                                         B   \n",
       "X9                                                        B5   \n",
       "X10                                                      CNN   \n",
       "X11                                                 < 1 year   \n",
       "X12                                                     RENT   \n",
       "X13                                                    65000   \n",
       "X14                                             not verified   \n",
       "X15                                                   May-08   \n",
       "X16        Just want to pay off the last bit of credit ca...   \n",
       "X17                                              credit_card   \n",
       "X18                                       Credit Card payoff   \n",
       "X19                                                    112xx   \n",
       "X20                                                       NY   \n",
       "X21                                                    14.29   \n",
       "X22                                                        0   \n",
       "X23                                                   Oct-00   \n",
       "X24                                                        0   \n",
       "X25                                                      NaN   \n",
       "X26                                                      NaN   \n",
       "X27                                                        7   \n",
       "X28                                                        0   \n",
       "X29                                                    33623   \n",
       "X30                                                   76.70%   \n",
       "X31                                                        7   \n",
       "X32                                                        f   \n",
       "Test_Flag                                                  0   \n",
       "\n",
       "                                                           2  \\\n",
       "X1                                                    16.99%   \n",
       "X2                                                     57167   \n",
       "X3                                                    137225   \n",
       "X4                                                   $25,000   \n",
       "X5                                                   $25,000   \n",
       "X6                                                   $24,725   \n",
       "X7                                                 36 months   \n",
       "X8                                                         D   \n",
       "X9                                                        D3   \n",
       "X10                                           Web Programmer   \n",
       "X11                                                   1 year   \n",
       "X12                                                     RENT   \n",
       "X13                                                    70000   \n",
       "X14                                        VERIFIED - income   \n",
       "X15                                                   Aug-14   \n",
       "X16        Trying to pay a friend back for apartment brok...   \n",
       "X17                                       debt_consolidation   \n",
       "X18                                                     mlue   \n",
       "X19                                                    100xx   \n",
       "X20                                                       NY   \n",
       "X21                                                     10.5   \n",
       "X22                                                        0   \n",
       "X23                                                   Jun-00   \n",
       "X24                                                        0   \n",
       "X25                                                       41   \n",
       "X26                                                      NaN   \n",
       "X27                                                       10   \n",
       "X28                                                        0   \n",
       "X29                                                    19878   \n",
       "X30                                                   66.30%   \n",
       "X31                                                       17   \n",
       "X32                                                        f   \n",
       "Test_Flag                                                  0   \n",
       "\n",
       "                                                           3  \\\n",
       "X1                                                    13.11%   \n",
       "X2                                                     57245   \n",
       "X3                                                    138150   \n",
       "X4                                                    $1,200   \n",
       "X5                                                    $1,200   \n",
       "X6                                                    $1,200   \n",
       "X7                                                 36 months   \n",
       "X8                                                         C   \n",
       "X9                                                        C2   \n",
       "X10                                   city of beaumont texas   \n",
       "X11                                                10+ years   \n",
       "X12                                                      OWN   \n",
       "X13                                                    54000   \n",
       "X14                                             not verified   \n",
       "X15                                                   Mar-10   \n",
       "X16        If funded, I would use this loan consolidate t...   \n",
       "X17                                       debt_consolidation   \n",
       "X18                                                    zxcvb   \n",
       "X19                                                    777xx   \n",
       "X20                                                       TX   \n",
       "X21                                                     5.47   \n",
       "X22                                                        0   \n",
       "X23                                                   Jan-85   \n",
       "X24                                                        0   \n",
       "X25                                                       64   \n",
       "X26                                                      NaN   \n",
       "X27                                                        5   \n",
       "X28                                                        0   \n",
       "X29                                                     2584   \n",
       "X30                                                   40.40%   \n",
       "X31                                                       31   \n",
       "X32                                                        f   \n",
       "Test_Flag                                                  0   \n",
       "\n",
       "                                                           4  \n",
       "X1                                                    13.57%  \n",
       "X2                                                     57416  \n",
       "X3                                                    139635  \n",
       "X4                                                   $10,800  \n",
       "X5                                                   $10,800  \n",
       "X6                                                   $10,692  \n",
       "X7                                                 36 months  \n",
       "X8                                                         C  \n",
       "X9                                                        C3  \n",
       "X10                                     State Farm Insurance  \n",
       "X11                                                  6 years  \n",
       "X12                                                     RENT  \n",
       "X13                                                    32000  \n",
       "X14                                             not verified  \n",
       "X15                                                   Nov-09  \n",
       "X16        I currently have a personal loan with Citifina...  \n",
       "X17                                       debt_consolidation  \n",
       "X18                                            Nicolechr1978  \n",
       "X19                                                    067xx  \n",
       "X20                                                       CT  \n",
       "X21                                                    11.63  \n",
       "X22                                                        0  \n",
       "X23                                                   Dec-96  \n",
       "X24                                                        1  \n",
       "X25                                                       58  \n",
       "X26                                                      NaN  \n",
       "X27                                                       14  \n",
       "X28                                                        0  \n",
       "X29                                                     3511  \n",
       "X30                                                   25.60%  \n",
       "X31                                                       40  \n",
       "X32                                                        f  \n",
       "Test_Flag                                                  0  "
      ]
     },
     "execution_count": 4,
     "metadata": {},
     "output_type": "execute_result"
    }
   ],
   "source": [
    "df.head().T"
   ]
  },
  {
   "cell_type": "markdown",
   "metadata": {},
   "source": [
    "Looking at rows and column counts"
   ]
  },
  {
   "cell_type": "code",
   "execution_count": 5,
   "metadata": {},
   "outputs": [
    {
     "data": {
      "text/plain": [
       "(480000, 33)"
      ]
     },
     "execution_count": 5,
     "metadata": {},
     "output_type": "execute_result"
    }
   ],
   "source": [
    "df.shape"
   ]
  },
  {
   "cell_type": "markdown",
   "metadata": {},
   "source": [
    "Checking frequency counts for each column to get a feel for the data"
   ]
  },
  {
   "cell_type": "code",
   "execution_count": 6,
   "metadata": {},
   "outputs": [
    {
     "data": {
      "text/plain": [
       "10.99%    11082\n",
       "12.99%     9951\n",
       "15.61%     9869\n",
       "8.90%      9656\n",
       "7.90%      8569\n",
       "          ...  \n",
       "16.01%        1\n",
       "17.44%        1\n",
       "18.72%        1\n",
       "22.64%        1\n",
       "18.36%        1\n",
       "Name: X1, Length: 482, dtype: int64"
      ]
     },
     "metadata": {},
     "output_type": "display_data"
    },
    {
     "data": {
      "text/plain": [
       "41226252.0    1\n",
       "42875140.0    1\n",
       "12429337.0    1\n",
       "22242694.0    1\n",
       "4798128.0     1\n",
       "             ..\n",
       "1393998.0     1\n",
       "22304010.0    1\n",
       "22304063.0    1\n",
       "22304081.0    1\n",
       "40355978.0    1\n",
       "Name: X2, Length: 479999, dtype: int64"
      ]
     },
     "metadata": {},
     "output_type": "display_data"
    },
    {
     "data": {
      "text/plain": [
       "395163.0      1\n",
       "30595133.0    1\n",
       "5010493.0     1\n",
       "17792818.0    1\n",
       "876617.0      1\n",
       "             ..\n",
       "5687296.0     1\n",
       "5687306.0     1\n",
       "5687316.0     1\n",
       "5687321.0     1\n",
       "25816248.0    1\n",
       "Name: X3, Length: 479999, dtype: int64"
      ]
     },
     "metadata": {},
     "output_type": "display_data"
    },
    {
     "data": {
      "text/plain": [
       "$10,000    33797\n",
       "$12,000    26512\n",
       "$15,000    24323\n",
       "$20,000    23865\n",
       "$35,000    17524\n",
       "           ...  \n",
       "$33,675        1\n",
       "$26,175        1\n",
       "$30,775        1\n",
       "$34,525        1\n",
       "$33,475        1\n",
       "Name: X4, Length: 1346, dtype: int64"
      ]
     },
     "metadata": {},
     "output_type": "display_data"
    },
    {
     "data": {
      "text/plain": [
       "$10,000    33704\n",
       "$12,000    26421\n",
       "$15,000    24211\n",
       "$20,000    23684\n",
       "$35,000    17386\n",
       "           ...  \n",
       "$32,150        1\n",
       "$30,525        1\n",
       "$34,450        1\n",
       "$33,675        1\n",
       "$34,525        1\n",
       "Name: X5, Length: 1349, dtype: int64"
      ]
     },
     "metadata": {},
     "output_type": "display_data"
    },
    {
     "data": {
      "text/plain": [
       "$10,000    29476\n",
       "$12,000    22690\n",
       "$15,000    20291\n",
       "$20,000    19139\n",
       "$35,000    13952\n",
       "           ...  \n",
       "$13,685        1\n",
       "$11,548        1\n",
       "$9,760         1\n",
       "$3,589         1\n",
       "$22,446        1\n",
       "Name: X6, Length: 7036, dtype: int64"
      ]
     },
     "metadata": {},
     "output_type": "display_data"
    },
    {
     "data": {
      "text/plain": [
       " 36 months    345999\n",
       " 60 months    134000\n",
       "Name: X7, dtype: int64"
      ]
     },
     "metadata": {},
     "output_type": "display_data"
    },
    {
     "data": {
      "text/plain": [
       "B    122977\n",
       "C    112940\n",
       "D     68611\n",
       "A     67494\n",
       "E     32222\n",
       "F     11629\n",
       "G      2857\n",
       "Name: X8, dtype: int64"
      ]
     },
     "metadata": {},
     "output_type": "display_data"
    },
    {
     "data": {
      "text/plain": [
       "B3    28355\n",
       "B4    27427\n",
       "C1    24273\n",
       "C2    24185\n",
       "B2    23777\n",
       "C3    22878\n",
       "B5    22858\n",
       "C4    21815\n",
       "B1    20560\n",
       "A5    20170\n",
       "C5    19789\n",
       "D1    17246\n",
       "A4    17185\n",
       "D2    15164\n",
       "D3    13259\n",
       "D4    12510\n",
       "A3    11084\n",
       "D5    10432\n",
       "A2     9868\n",
       "A1     9187\n",
       "E1     8250\n",
       "E2     7765\n",
       "E3     6337\n",
       "E4     5357\n",
       "E5     4513\n",
       "F1     3492\n",
       "F2     2624\n",
       "F3     2347\n",
       "F4     1805\n",
       "F5     1361\n",
       "G1      967\n",
       "G2      728\n",
       "G3      519\n",
       "G4      354\n",
       "G5      289\n",
       "Name: X9, dtype: int64"
      ]
     },
     "metadata": {},
     "output_type": "display_data"
    },
    {
     "data": {
      "text/plain": [
       "Teacher                                     5779\n",
       "Manager                                     4687\n",
       "Registered Nurse                            2369\n",
       "RN                                          2306\n",
       "Supervisor                                  2079\n",
       "                                            ... \n",
       "Baptist Retirement                             1\n",
       "Accuvant LABS                                  1\n",
       "CUNY-CCNY                                      1\n",
       "Education Link/First Choice Students Inc       1\n",
       "Senior Iteration Manager                       1\n",
       "Name: X10, Length: 208142, dtype: int64"
      ]
     },
     "metadata": {},
     "output_type": "display_data"
    },
    {
     "data": {
      "text/plain": [
       "10+ years    154783\n",
       "2 years       42647\n",
       "3 years       37869\n",
       "< 1 year      37066\n",
       "5 years       31860\n",
       "1 year        30415\n",
       "4 years       28638\n",
       "7 years       26815\n",
       "6 years       26447\n",
       "8 years       23109\n",
       "9 years       18431\n",
       "Name: X11, dtype: int64"
      ]
     },
     "metadata": {},
     "output_type": "display_data"
    },
    {
     "data": {
      "text/plain": [
       "MORTGAGE    211106\n",
       "RENT        169556\n",
       "OWN          37816\n",
       "OTHER          124\n",
       "NONE            36\n",
       "ANY              1\n",
       "Name: X12, dtype: int64"
      ]
     },
     "metadata": {},
     "output_type": "display_data"
    },
    {
     "data": {
      "text/plain": [
       "60000.0     16057\n",
       "50000.0     14242\n",
       "65000.0     11830\n",
       "40000.0     11608\n",
       "70000.0     11152\n",
       "            ...  \n",
       "16722.0         1\n",
       "102450.0        1\n",
       "25613.0         1\n",
       "102453.0        1\n",
       "32769.0         1\n",
       "Name: X13, Length: 29662, dtype: int64"
      ]
     },
     "metadata": {},
     "output_type": "display_data"
    },
    {
     "data": {
      "text/plain": [
       "VERIFIED - income           172001\n",
       "VERIFIED - income source    158805\n",
       "not verified                149193\n",
       "Name: X14, dtype: int64"
      ]
     },
     "metadata": {},
     "output_type": "display_data"
    },
    {
     "data": {
      "text/plain": [
       "15-Jan    30830\n",
       "Jul-14    29306\n",
       "15-Mar    25400\n",
       "15-Feb    23770\n",
       "May-14    19099\n",
       "          ...  \n",
       "Aug-07       33\n",
       "Sep-08       32\n",
       "Jul-07       30\n",
       "Sep-07       18\n",
       "Jun-07        1\n",
       "Name: X15, Length: 94, dtype: int64"
      ]
     },
     "metadata": {},
     "output_type": "display_data"
    },
    {
     "data": {
      "text/plain": [
       "                                                                                                                                                                                                                                                                                                                                                       225\n",
       "  Borrower added on 03/17/14 > Debt consolidation<br>                                                                                                                                                                                                                                                                                                   11\n",
       "Debt Consolidation                                                                                                                                                                                                                                                                                                                                      10\n",
       "  Borrower added on 03/10/14 > Debt consolidation<br>                                                                                                                                                                                                                                                                                                   10\n",
       "  Borrower added on 02/19/14 > Debt consolidation<br>                                                                                                                                                                                                                                                                                                    9\n",
       "                                                                                                                                                                                                                                                                                                                                                      ... \n",
       "  Borrower added on 09/30/13 > I want to consolidate credit cards into 1 payment and cut up the cards.<br>                                                                                                                                                                                                                                               1\n",
       "  Borrower added on 05/10/10 > appreciate your interest union electrician my position is secure been employed for ten straight years using money to do home improvements<br/>                                                                                                                                                                            1\n",
       "  Borrower added on 12/09/13 > Debt Consolidation<br>                                                                                                                                                                                                                                                                                                    1\n",
       "  Borrower added on 08/04/12 > I need to repaint my condo, put new carpet on the upstair, lay tile floor upstairs, and backsplash in the kitchen in order to get my place ready to sell.  I have no bills other than mortgage, cell phone, car, &amp;home owners insurance, but I don't have the money saved right now so would like this loan.<br>      1\n",
       "  Borrower added on 04/18/13 > We are looking to purchase a vacant lot that adjoins the one our home is on. On home is valued at $105,000, mortage is 15 year $71,000. We are looking to finance 80% and put 20% on the lot purchase. We feel paying 100% cash would lower our emergency fund too much.<br>                                              1\n",
       "Name: X16, Length: 122051, dtype: int64"
      ]
     },
     "metadata": {},
     "output_type": "display_data"
    },
    {
     "data": {
      "text/plain": [
       "debt_consolidation    283678\n",
       "credit_card           108144\n",
       "home_improvement       27060\n",
       "other                  23544\n",
       "major_purchase          9896\n",
       "small_business          6955\n",
       "car                     5434\n",
       "medical                 4554\n",
       "moving                  2955\n",
       "vacation                2518\n",
       "house                   2298\n",
       "wedding                 2288\n",
       "renewable_energy         350\n",
       "educational              325\n",
       "Name: X17, dtype: int64"
      ]
     },
     "metadata": {},
     "output_type": "display_data"
    },
    {
     "data": {
      "text/plain": [
       "Debt consolidation                       174609\n",
       "Credit card refinancing                   66632\n",
       "Debt Consolidation                        15692\n",
       "Home improvement                          15562\n",
       "Other                                     13002\n",
       "                                          ...  \n",
       "private practice                              1\n",
       "My moving fees                                1\n",
       "Credit Card Refinancing and Personal          1\n",
       "FINAL RUN FROM DEBT                           1\n",
       "Renovation for bath                           1\n",
       "Name: X18, Length: 61636, dtype: int64"
      ]
     },
     "metadata": {},
     "output_type": "display_data"
    },
    {
     "data": {
      "text/plain": [
       "945xx    5516\n",
       "750xx    5193\n",
       "112xx    5150\n",
       "606xx    4758\n",
       "100xx    4449\n",
       "         ... \n",
       "511xx       1\n",
       "568xx       1\n",
       "689xx       1\n",
       "889xx       1\n",
       "504xx       1\n",
       "Name: X19, Length: 889, dtype: int64"
      ]
     },
     "metadata": {},
     "output_type": "display_data"
    },
    {
     "data": {
      "text/plain": [
       "CA    73647\n",
       "NY    40747\n",
       "TX    37867\n",
       "FL    32334\n",
       "IL    18979\n",
       "NJ    18350\n",
       "PA    16835\n",
       "OH    15636\n",
       "GA    15366\n",
       "VA    14547\n",
       "NC    13262\n",
       "MI    12034\n",
       "MD    11271\n",
       "MA    11219\n",
       "AZ    11064\n",
       "WA    11064\n",
       "CO    10196\n",
       "MN     8563\n",
       "MO     7725\n",
       "CT     7255\n",
       "IN     6821\n",
       "NV     6782\n",
       "TN     6270\n",
       "OR     6269\n",
       "WI     6179\n",
       "AL     5991\n",
       "LA     5771\n",
       "SC     5631\n",
       "KY     4533\n",
       "KS     4416\n",
       "OK     4320\n",
       "UT     3519\n",
       "AR     3517\n",
       "NM     2664\n",
       "HI     2560\n",
       "WV     2466\n",
       "NH     2269\n",
       "RI     2106\n",
       "DC     1457\n",
       "MT     1441\n",
       "DE     1315\n",
       "AK     1310\n",
       "MS     1278\n",
       "WY     1191\n",
       "SD     1020\n",
       "VT      914\n",
       "ID        9\n",
       "NE        8\n",
       "IA        7\n",
       "ME        4\n",
       "Name: X20, dtype: int64"
      ]
     },
     "metadata": {},
     "output_type": "display_data"
    },
    {
     "data": {
      "text/plain": [
       "14.40    407\n",
       "19.20    391\n",
       "18.00    378\n",
       "12.00    370\n",
       "16.80    360\n",
       "        ... \n",
       "39.19      2\n",
       "39.47      2\n",
       "39.59      1\n",
       "0.10       1\n",
       "36.14      1\n",
       "Name: X21, Length: 3999, dtype: int64"
      ]
     },
     "metadata": {},
     "output_type": "display_data"
    },
    {
     "data": {
      "text/plain": [
       "0.0     394222\n",
       "1.0      57826\n",
       "2.0      16831\n",
       "3.0       5817\n",
       "4.0       2481\n",
       "5.0       1263\n",
       "6.0        675\n",
       "7.0        346\n",
       "8.0        190\n",
       "9.0        115\n",
       "10.0        79\n",
       "11.0        40\n",
       "12.0        37\n",
       "13.0        17\n",
       "14.0        17\n",
       "15.0        14\n",
       "18.0         7\n",
       "16.0         7\n",
       "17.0         6\n",
       "19.0         4\n",
       "29.0         1\n",
       "21.0         1\n",
       "22.0         1\n",
       "20.0         1\n",
       "24.0         1\n",
       "Name: X22, dtype: int64"
      ]
     },
     "metadata": {},
     "output_type": "display_data"
    },
    {
     "data": {
      "text/plain": [
       "Oct-00    3721\n",
       "Aug-00    3688\n",
       "Oct-99    3472\n",
       "Nov-99    3421\n",
       "Sep-00    3360\n",
       "          ... \n",
       "Oct-54       1\n",
       "Jul-61       1\n",
       "Jul-62       1\n",
       "Feb-60       1\n",
       "Dec-51       1\n",
       "Name: X23, Length: 799, dtype: int64"
      ]
     },
     "metadata": {},
     "output_type": "display_data"
    },
    {
     "data": {
      "text/plain": [
       "0.0    251371\n",
       "1.0    134167\n",
       "2.0     58853\n",
       "3.0     25502\n",
       "4.0      6712\n",
       "5.0      2389\n",
       "6.0       929\n",
       "7.0        53\n",
       "8.0        23\n",
       "Name: X24, dtype: int64"
      ]
     },
     "metadata": {},
     "output_type": "display_data"
    },
    {
     "data": {
      "text/plain": [
       "12.0     4424\n",
       "13.0     4392\n",
       "9.0      4345\n",
       "8.0      4283\n",
       "14.0     4270\n",
       "         ... \n",
       "151.0       1\n",
       "176.0       1\n",
       "149.0       1\n",
       "143.0       1\n",
       "126.0       1\n",
       "Name: X25, Length: 147, dtype: int64"
      ]
     },
     "metadata": {},
     "output_type": "display_data"
    },
    {
     "data": {
      "text/plain": [
       "112.0    1066\n",
       "113.0    1059\n",
       "106.0     999\n",
       "111.0     985\n",
       "104.0     970\n",
       "         ... \n",
       "2.0        31\n",
       "1.0        29\n",
       "120.0       4\n",
       "121.0       2\n",
       "129.0       1\n",
       "Name: X26, Length: 123, dtype: int64"
      ]
     },
     "metadata": {},
     "output_type": "display_data"
    },
    {
     "data": {
      "text/plain": [
       "9.0     45290\n",
       "10.0    43677\n",
       "8.0     42946\n",
       "11.0    40354\n",
       "7.0     38426\n",
       "        ...  \n",
       "61.0        1\n",
       "60.0        1\n",
       "56.0        1\n",
       "79.0        1\n",
       "55.0        1\n",
       "Name: X27, Length: 65, dtype: int64"
      ]
     },
     "metadata": {},
     "output_type": "display_data"
    },
    {
     "data": {
      "text/plain": [
       "0.0     415675\n",
       "1.0      55306\n",
       "2.0       6048\n",
       "3.0       1751\n",
       "4.0        585\n",
       "5.0        315\n",
       "6.0        155\n",
       "7.0         67\n",
       "8.0         34\n",
       "9.0         21\n",
       "10.0        14\n",
       "11.0         8\n",
       "13.0         4\n",
       "12.0         3\n",
       "17.0         2\n",
       "15.0         1\n",
       "34.0         1\n",
       "14.0         1\n",
       "22.0         1\n",
       "21.0         1\n",
       "40.0         1\n",
       "16.0         1\n",
       "18.0         1\n",
       "49.0         1\n",
       "54.0         1\n",
       "63.0         1\n",
       "Name: X28, dtype: int64"
      ]
     },
     "metadata": {},
     "output_type": "display_data"
    },
    {
     "data": {
      "text/plain": [
       "0.0        2184\n",
       "5853.0       43\n",
       "6223.0       43\n",
       "5365.0       42\n",
       "7429.0       42\n",
       "           ... \n",
       "76258.0       1\n",
       "84585.0       1\n",
       "52800.0       1\n",
       "38181.0       1\n",
       "45422.0       1\n",
       "Name: X29, Length: 58260, dtype: int64"
      ]
     },
     "metadata": {},
     "output_type": "display_data"
    },
    {
     "data": {
      "text/plain": [
       "0%         2241\n",
       "53%         894\n",
       "58%         878\n",
       "57%         875\n",
       "61%         873\n",
       "           ... \n",
       "108.30%       1\n",
       "114.40%       1\n",
       "116.80%       1\n",
       "110.50%       1\n",
       "37.73%        1\n",
       "Name: X30, Length: 1271, dtype: int64"
      ]
     },
     "metadata": {},
     "output_type": "display_data"
    },
    {
     "data": {
      "text/plain": [
       "22.0     17668\n",
       "20.0     17648\n",
       "21.0     17578\n",
       "19.0     17235\n",
       "23.0     17146\n",
       "         ...  \n",
       "121.0        1\n",
       "113.0        1\n",
       "112.0        1\n",
       "117.0        1\n",
       "118.0        1\n",
       "Name: X31, Length: 113, dtype: int64"
      ]
     },
     "metadata": {},
     "output_type": "display_data"
    },
    {
     "data": {
      "text/plain": [
       "f    314753\n",
       "w    165246\n",
       "Name: X32, dtype: int64"
      ]
     },
     "metadata": {},
     "output_type": "display_data"
    },
    {
     "data": {
      "text/plain": [
       "0    400000\n",
       "1     80000\n",
       "Name: Test_Flag, dtype: int64"
      ]
     },
     "metadata": {},
     "output_type": "display_data"
    }
   ],
   "source": [
    "for col in df.columns:\n",
    "    display(df[col].value_counts())"
   ]
  },
  {
   "cell_type": "markdown",
   "metadata": {},
   "source": [
    "Drop a few columns that aren't going to be useful. X2 and X3 are identifiers (per the metadata). Dropping X9 and hoping the X8 has captures enough of the separation to be predictive. X10 has too many levels and doesn't need itself to easy clustering. X16 needs to be text mined. X18 has too many categories, and it looks like it's coded up into the much neater X17 variable. Dropping X19 since there's too many zip code levels. Hoping the state field captures any geographic signal. It'll be interesting (in a longer analysis) to code some variables off of the zip code, like rural/suburban/urban. "
   ]
  },
  {
   "cell_type": "code",
   "execution_count": 7,
   "metadata": {},
   "outputs": [],
   "source": [
    "df = df.drop([\"X2\", \"X3\", \"X9\", \"X10\", \"X16\", \"X18\", \"X19\"], axis = 1)"
   ]
  },
  {
   "cell_type": "markdown",
   "metadata": {},
   "source": [
    "Reformating various columns to numeric or date formats where appropriate"
   ]
  },
  {
   "cell_type": "code",
   "execution_count": 8,
   "metadata": {},
   "outputs": [],
   "source": [
    "#Removing % signs from end of string and reformating as numbers \n",
    "df[\"X1\"] = pd.to_numeric(df[\"X1\"].str[:-1])/100\n",
    "df[\"X30\"] = pd.to_numeric(df[\"X30\"].str[:-1])/100\n",
    "\n",
    "#Removing commas and dollar signs from dollar amounts\n",
    "df[\"X4\"] = pd.to_numeric(df[\"X4\"].str.replace(',', '').str[1:])\n",
    "df[\"X5\"] = pd.to_numeric(df[\"X5\"].str.replace(',', '').str[1:])\n",
    "df[\"X6\"] = pd.to_numeric(df[\"X6\"].str.replace(',', '').str[1:])\n",
    "\n",
    "#Dropping the \"months\" from the loan length entries\n",
    "df[\"X7\"] = df[\"X7\"].str[:3]\n",
    "\n",
    "#Converting the number of years employed to a number (capped from at a max of 10)\n",
    "df[\"X11\"] = np.where(df[\"X11\"] == \"< 1 year\", \"0\", df[\"X11\"])\n",
    "df[\"X11\"] = pd.to_numeric(df[\"X11\"].str[:2])\n",
    "\n",
    "#Formating the dates. First I strip out the month and year, and then put them together in a datetime variable\n",
    "df[\"X15_year\"] = df[\"X15\"].str.extract('(\\d+)')\n",
    "df[\"X15_month\"] = df[\"X15\"].str.replace('[^a-zA-Z]', '')\n",
    "\n",
    "df[\"X15\"] = pd.to_datetime(df['X15_year'].astype(str) + df['X15_month'].astype(str) + '1', format = \"%y%b%d\", errors='coerce')\n",
    "\n",
    "df[\"X23_year\"] = df[\"X23\"].str.extract('(\\d+)')\n",
    "df.loc[df.X23_year.str.len()==1, \"X23_year\"] = '0' + df.loc[df.X23_year.str.len()==1, \"X23_year\"].astype(str)\n",
    "df[\"X23_month\"] = df[\"X23\"].str.replace('[^a-zA-Z]', '')\n",
    "\n",
    "df[\"X23\"] = pd.to_datetime(df['X23_year'].astype(str) + df['X23_month'].astype(str) + '1', format = \"%y%b%d\", errors='coerce')\n",
    "\n",
    "df = df.drop([\"X15_month\", \"X15_year\", \"X23_month\", \"X23_year\"], axis = 1)"
   ]
  },
  {
   "cell_type": "markdown",
   "metadata": {},
   "source": [
    "Taking a look at the data now that we've cleaned it some"
   ]
  },
  {
   "cell_type": "code",
   "execution_count": 9,
   "metadata": {},
   "outputs": [
    {
     "data": {
      "text/html": [
       "<div>\n",
       "<style scoped>\n",
       "    .dataframe tbody tr th:only-of-type {\n",
       "        vertical-align: middle;\n",
       "    }\n",
       "\n",
       "    .dataframe tbody tr th {\n",
       "        vertical-align: top;\n",
       "    }\n",
       "\n",
       "    .dataframe thead th {\n",
       "        text-align: right;\n",
       "    }\n",
       "</style>\n",
       "<table border=\"1\" class=\"dataframe\">\n",
       "  <thead>\n",
       "    <tr style=\"text-align: right;\">\n",
       "      <th></th>\n",
       "      <th>count</th>\n",
       "      <th>mean</th>\n",
       "      <th>std</th>\n",
       "      <th>min</th>\n",
       "      <th>25%</th>\n",
       "      <th>50%</th>\n",
       "      <th>75%</th>\n",
       "      <th>max</th>\n",
       "    </tr>\n",
       "  </thead>\n",
       "  <tbody>\n",
       "    <tr>\n",
       "      <th>X1</th>\n",
       "      <td>338990.0</td>\n",
       "      <td>0.139463</td>\n",
       "      <td>0.043780</td>\n",
       "      <td>0.0542</td>\n",
       "      <td>0.1099</td>\n",
       "      <td>0.1368</td>\n",
       "      <td>0.1678</td>\n",
       "      <td>2.606000e-01</td>\n",
       "    </tr>\n",
       "    <tr>\n",
       "      <th>X4</th>\n",
       "      <td>479999.0</td>\n",
       "      <td>14444.116550</td>\n",
       "      <td>8291.786120</td>\n",
       "      <td>500.0000</td>\n",
       "      <td>8000.0000</td>\n",
       "      <td>12375.0000</td>\n",
       "      <td>20000.0000</td>\n",
       "      <td>3.500000e+04</td>\n",
       "    </tr>\n",
       "    <tr>\n",
       "      <th>X5</th>\n",
       "      <td>479999.0</td>\n",
       "      <td>14420.530459</td>\n",
       "      <td>8280.239635</td>\n",
       "      <td>500.0000</td>\n",
       "      <td>8000.0000</td>\n",
       "      <td>12300.0000</td>\n",
       "      <td>20000.0000</td>\n",
       "      <td>3.500000e+04</td>\n",
       "    </tr>\n",
       "    <tr>\n",
       "      <th>X6</th>\n",
       "      <td>479999.0</td>\n",
       "      <td>14367.640095</td>\n",
       "      <td>8292.694530</td>\n",
       "      <td>0.0000</td>\n",
       "      <td>8000.0000</td>\n",
       "      <td>12200.0000</td>\n",
       "      <td>20000.0000</td>\n",
       "      <td>3.500000e+04</td>\n",
       "    </tr>\n",
       "    <tr>\n",
       "      <th>X11</th>\n",
       "      <td>458080.0</td>\n",
       "      <td>5.999249</td>\n",
       "      <td>3.626972</td>\n",
       "      <td>0.0000</td>\n",
       "      <td>3.0000</td>\n",
       "      <td>6.0000</td>\n",
       "      <td>10.0000</td>\n",
       "      <td>1.000000e+01</td>\n",
       "    </tr>\n",
       "    <tr>\n",
       "      <th>X13</th>\n",
       "      <td>418972.0</td>\n",
       "      <td>73545.906313</td>\n",
       "      <td>56997.077922</td>\n",
       "      <td>3000.0000</td>\n",
       "      <td>45000.0000</td>\n",
       "      <td>63000.0000</td>\n",
       "      <td>89000.0000</td>\n",
       "      <td>8.706582e+06</td>\n",
       "    </tr>\n",
       "    <tr>\n",
       "      <th>X21</th>\n",
       "      <td>479999.0</td>\n",
       "      <td>17.356465</td>\n",
       "      <td>7.901590</td>\n",
       "      <td>0.0000</td>\n",
       "      <td>11.4600</td>\n",
       "      <td>16.9900</td>\n",
       "      <td>22.9400</td>\n",
       "      <td>3.999000e+01</td>\n",
       "    </tr>\n",
       "    <tr>\n",
       "      <th>X22</th>\n",
       "      <td>479999.0</td>\n",
       "      <td>0.285584</td>\n",
       "      <td>0.803326</td>\n",
       "      <td>0.0000</td>\n",
       "      <td>0.0000</td>\n",
       "      <td>0.0000</td>\n",
       "      <td>0.0000</td>\n",
       "      <td>2.900000e+01</td>\n",
       "    </tr>\n",
       "    <tr>\n",
       "      <th>X24</th>\n",
       "      <td>479999.0</td>\n",
       "      <td>0.777712</td>\n",
       "      <td>1.034215</td>\n",
       "      <td>0.0000</td>\n",
       "      <td>0.0000</td>\n",
       "      <td>0.0000</td>\n",
       "      <td>1.0000</td>\n",
       "      <td>8.000000e+00</td>\n",
       "    </tr>\n",
       "    <tr>\n",
       "      <th>X25</th>\n",
       "      <td>222494.0</td>\n",
       "      <td>34.206086</td>\n",
       "      <td>21.794415</td>\n",
       "      <td>0.0000</td>\n",
       "      <td>16.0000</td>\n",
       "      <td>31.0000</td>\n",
       "      <td>50.0000</td>\n",
       "      <td>1.880000e+02</td>\n",
       "    </tr>\n",
       "    <tr>\n",
       "      <th>X26</th>\n",
       "      <td>64994.0</td>\n",
       "      <td>74.555559</td>\n",
       "      <td>29.496275</td>\n",
       "      <td>0.0000</td>\n",
       "      <td>53.0000</td>\n",
       "      <td>76.0000</td>\n",
       "      <td>101.0000</td>\n",
       "      <td>1.290000e+02</td>\n",
       "    </tr>\n",
       "    <tr>\n",
       "      <th>X27</th>\n",
       "      <td>479999.0</td>\n",
       "      <td>11.240498</td>\n",
       "      <td>5.016956</td>\n",
       "      <td>0.0000</td>\n",
       "      <td>8.0000</td>\n",
       "      <td>10.0000</td>\n",
       "      <td>14.0000</td>\n",
       "      <td>7.900000e+01</td>\n",
       "    </tr>\n",
       "    <tr>\n",
       "      <th>X28</th>\n",
       "      <td>479999.0</td>\n",
       "      <td>0.164846</td>\n",
       "      <td>0.520839</td>\n",
       "      <td>0.0000</td>\n",
       "      <td>0.0000</td>\n",
       "      <td>0.0000</td>\n",
       "      <td>0.0000</td>\n",
       "      <td>6.300000e+01</td>\n",
       "    </tr>\n",
       "    <tr>\n",
       "      <th>X29</th>\n",
       "      <td>479999.0</td>\n",
       "      <td>16199.509926</td>\n",
       "      <td>19954.631624</td>\n",
       "      <td>0.0000</td>\n",
       "      <td>6488.5000</td>\n",
       "      <td>11859.0000</td>\n",
       "      <td>20422.0000</td>\n",
       "      <td>2.568995e+06</td>\n",
       "    </tr>\n",
       "    <tr>\n",
       "      <th>X30</th>\n",
       "      <td>479703.0</td>\n",
       "      <td>0.562045</td>\n",
       "      <td>0.236987</td>\n",
       "      <td>0.0000</td>\n",
       "      <td>0.3930</td>\n",
       "      <td>0.5760</td>\n",
       "      <td>0.7470</td>\n",
       "      <td>8.923000e+00</td>\n",
       "    </tr>\n",
       "    <tr>\n",
       "      <th>X31</th>\n",
       "      <td>479999.0</td>\n",
       "      <td>25.105377</td>\n",
       "      <td>11.585914</td>\n",
       "      <td>2.0000</td>\n",
       "      <td>17.0000</td>\n",
       "      <td>24.0000</td>\n",
       "      <td>32.0000</td>\n",
       "      <td>1.620000e+02</td>\n",
       "    </tr>\n",
       "    <tr>\n",
       "      <th>Test_Flag</th>\n",
       "      <td>480000.0</td>\n",
       "      <td>0.166667</td>\n",
       "      <td>0.372678</td>\n",
       "      <td>0.0000</td>\n",
       "      <td>0.0000</td>\n",
       "      <td>0.0000</td>\n",
       "      <td>0.0000</td>\n",
       "      <td>1.000000e+00</td>\n",
       "    </tr>\n",
       "  </tbody>\n",
       "</table>\n",
       "</div>"
      ],
      "text/plain": [
       "              count          mean           std        min         25%  \\\n",
       "X1         338990.0      0.139463      0.043780     0.0542      0.1099   \n",
       "X4         479999.0  14444.116550   8291.786120   500.0000   8000.0000   \n",
       "X5         479999.0  14420.530459   8280.239635   500.0000   8000.0000   \n",
       "X6         479999.0  14367.640095   8292.694530     0.0000   8000.0000   \n",
       "X11        458080.0      5.999249      3.626972     0.0000      3.0000   \n",
       "X13        418972.0  73545.906313  56997.077922  3000.0000  45000.0000   \n",
       "X21        479999.0     17.356465      7.901590     0.0000     11.4600   \n",
       "X22        479999.0      0.285584      0.803326     0.0000      0.0000   \n",
       "X24        479999.0      0.777712      1.034215     0.0000      0.0000   \n",
       "X25        222494.0     34.206086     21.794415     0.0000     16.0000   \n",
       "X26         64994.0     74.555559     29.496275     0.0000     53.0000   \n",
       "X27        479999.0     11.240498      5.016956     0.0000      8.0000   \n",
       "X28        479999.0      0.164846      0.520839     0.0000      0.0000   \n",
       "X29        479999.0  16199.509926  19954.631624     0.0000   6488.5000   \n",
       "X30        479703.0      0.562045      0.236987     0.0000      0.3930   \n",
       "X31        479999.0     25.105377     11.585914     2.0000     17.0000   \n",
       "Test_Flag  480000.0      0.166667      0.372678     0.0000      0.0000   \n",
       "\n",
       "                  50%         75%           max  \n",
       "X1             0.1368      0.1678  2.606000e-01  \n",
       "X4         12375.0000  20000.0000  3.500000e+04  \n",
       "X5         12300.0000  20000.0000  3.500000e+04  \n",
       "X6         12200.0000  20000.0000  3.500000e+04  \n",
       "X11            6.0000     10.0000  1.000000e+01  \n",
       "X13        63000.0000  89000.0000  8.706582e+06  \n",
       "X21           16.9900     22.9400  3.999000e+01  \n",
       "X22            0.0000      0.0000  2.900000e+01  \n",
       "X24            0.0000      1.0000  8.000000e+00  \n",
       "X25           31.0000     50.0000  1.880000e+02  \n",
       "X26           76.0000    101.0000  1.290000e+02  \n",
       "X27           10.0000     14.0000  7.900000e+01  \n",
       "X28            0.0000      0.0000  6.300000e+01  \n",
       "X29        11859.0000  20422.0000  2.568995e+06  \n",
       "X30            0.5760      0.7470  8.923000e+00  \n",
       "X31           24.0000     32.0000  1.620000e+02  \n",
       "Test_Flag      0.0000      0.0000  1.000000e+00  "
      ]
     },
     "execution_count": 9,
     "metadata": {},
     "output_type": "execute_result"
    }
   ],
   "source": [
    "df.describe().T"
   ]
  },
  {
   "cell_type": "markdown",
   "metadata": {},
   "source": [
    "Plotting histograms of all of the numeric variables"
   ]
  },
  {
   "cell_type": "code",
   "execution_count": 10,
   "metadata": {},
   "outputs": [
    {
     "data": {
      "image/png": "[encoded data removed]",
      "text/plain": [
       "<Figure size 432x288 with 1 Axes>"
      ]
     },
     "metadata": {
      "needs_background": "light"
     },
     "output_type": "display_data"
    },
    {
     "data": {
      "image/png": "[encoded data removed]",
      "text/plain": [
       "<Figure size 432x288 with 1 Axes>"
      ]
     },
     "metadata": {
      "needs_background": "light"
     },
     "output_type": "display_data"
    },
    {
     "data": {
      "image/png": "[encoded data removed]",
      "text/plain": [
       "<Figure size 432x288 with 1 Axes>"
      ]
     },
     "metadata": {
      "needs_background": "light"
     },
     "output_type": "display_data"
    },
    {
     "data": {
      "image/png": "[encoded data removed]",
      "text/plain": [
       "<Figure size 432x288 with 1 Axes>"
      ]
     },
     "metadata": {
      "needs_background": "light"
     },
     "output_type": "display_data"
    },
    {
     "data": {
      "image/png": "[encoded data removed]",
      "text/plain": [
       "<Figure size 432x288 with 1 Axes>"
      ]
     },
     "metadata": {
      "needs_background": "light"
     },
     "output_type": "display_data"
    },
    {
     "data": {
      "image/png": "[encoded data removed]",
      "text/plain": [
       "<Figure size 432x288 with 1 Axes>"
      ]
     },
     "metadata": {
      "needs_background": "light"
     },
     "output_type": "display_data"
    },
    {
     "data": {
      "image/png": "[encoded data removed]",
      "text/plain": [
       "<Figure size 432x288 with 1 Axes>"
      ]
     },
     "metadata": {
      "needs_background": "light"
     },
     "output_type": "display_data"
    },
    {
     "data": {
      "image/png": "[encoded data removed]",
      "text/plain": [
       "<Figure size 432x288 with 1 Axes>"
      ]
     },
     "metadata": {
      "needs_background": "light"
     },
     "output_type": "display_data"
    },
    {
     "data": {
      "image/png": "[encoded data removed]",
      "text/plain": [
       "<Figure size 432x288 with 1 Axes>"
      ]
     },
     "metadata": {
      "needs_background": "light"
     },
     "output_type": "display_data"
    },
    {
     "data": {
      "image/png": "[encoded data removed]",
      "text/plain": [
       "<Figure size 432x288 with 1 Axes>"
      ]
     },
     "metadata": {
      "needs_background": "light"
     },
     "output_type": "display_data"
    },
    {
     "data": {
      "image/png": "[encoded data removed]",
      "text/plain": [
       "<Figure size 432x288 with 1 Axes>"
      ]
     },
     "metadata": {
      "needs_background": "light"
     },
     "output_type": "display_data"
    },
    {
     "data": {
      "image/png": "[encoded data removed]",
      "text/plain": [
       "<Figure size 432x288 with 1 Axes>"
      ]
     },
     "metadata": {
      "needs_background": "light"
     },
     "output_type": "display_data"
    },
    {
     "data": {
      "image/png": "[encoded data removed]",
      "text/plain": [
       "<Figure size 432x288 with 1 Axes>"
      ]
     },
     "metadata": {
      "needs_background": "light"
     },
     "output_type": "display_data"
    },
    {
     "data": {
      "image/png": "[encoded data removed]",
      "text/plain": [
       "<Figure size 432x288 with 1 Axes>"
      ]
     },
     "metadata": {
      "needs_background": "light"
     },
     "output_type": "display_data"
    },
    {
     "data": {
      "image/png": "[encoded data removed]",
      "text/plain": [
       "<Figure size 432x288 with 1 Axes>"
      ]
     },
     "metadata": {
      "needs_background": "light"
     },
     "output_type": "display_data"
    },
    {
     "data": {
      "image/png": "[encoded data removed]",
      "text/plain": [
       "<Figure size 432x288 with 1 Axes>"
      ]
     },
     "metadata": {
      "needs_background": "light"
     },
     "output_type": "display_data"
    },
    {
     "data": {
      "image/png": "[encoded data removed]",
      "text/plain": [
       "<Figure size 432x288 with 1 Axes>"
      ]
     },
     "metadata": {
      "needs_background": "light"
     },
     "output_type": "display_data"
    }
   ],
   "source": [
    "for col in df.select_dtypes(exclude=['object', 'datetime']).columns:\n",
    "    df[col].plot(kind = 'hist', title = col)\n",
    "    plt.show()"
   ]
  },
  {
   "cell_type": "markdown",
   "metadata": {},
   "source": [
    "Plotting frequency charts for all of the categorical variables"
   ]
  },
  {
   "cell_type": "code",
   "execution_count": 11,
   "metadata": {},
   "outputs": [
    {
     "data": {
      "image/png": "[encoded data removed]",
      "text/plain": [
       "<Figure size 432x288 with 1 Axes>"
      ]
     },
     "metadata": {
      "needs_background": "light"
     },
     "output_type": "display_data"
    },
    {
     "data": {
      "image/png": "[encoded data removed]",
      "text/plain": [
       "<Figure size 432x288 with 1 Axes>"
      ]
     },
     "metadata": {
      "needs_background": "light"
     },
     "output_type": "display_data"
    },
    {
     "data": {
      "image/png": "[encoded data removed]",
      "text/plain": [
       "<Figure size 432x288 with 1 Axes>"
      ]
     },
     "metadata": {
      "needs_background": "light"
     },
     "output_type": "display_data"
    },
    {
     "data": {
      "image/png": "[encoded data removed]",
      "text/plain": [
       "<Figure size 432x288 with 1 Axes>"
      ]
     },
     "metadata": {
      "needs_background": "light"
     },
     "output_type": "display_data"
    },
    {
     "data": {
      "image/png": "[encoded data removed]",
      "text/plain": [
       "<Figure size 432x288 with 1 Axes>"
      ]
     },
     "metadata": {
      "needs_background": "light"
     },
     "output_type": "display_data"
    },
    {
     "data": {
      "image/png": "[encoded data removed]",
      "text/plain": [
       "<Figure size 432x288 with 1 Axes>"
      ]
     },
     "metadata": {
      "needs_background": "light"
     },
     "output_type": "display_data"
    },
    {
     "data": {
      "image/png": "[encoded data removed]",
      "text/plain": [
       "<Figure size 432x288 with 1 Axes>"
      ]
     },
     "metadata": {
      "needs_background": "light"
     },
     "output_type": "display_data"
    }
   ],
   "source": [
    "for col in df.select_dtypes(include=['object']).columns:\n",
    "    df[col].value_counts().plot(kind = 'bar', title = col)\n",
    "    plt.show()"
   ]
  },
  {
   "cell_type": "markdown",
   "metadata": {},
   "source": [
    "Plotting distribution by year for the date variables"
   ]
  },
  {
   "cell_type": "code",
   "execution_count": 12,
   "metadata": {},
   "outputs": [
    {
     "data": {
      "image/png": "[encoded data removed]",
      "text/plain": [
       "<Figure size 432x288 with 1 Axes>"
      ]
     },
     "metadata": {
      "needs_background": "light"
     },
     "output_type": "display_data"
    },
    {
     "data": {
      "image/png": "[encoded data removed]",
      "text/plain": [
       "<Figure size 432x288 with 1 Axes>"
      ]
     },
     "metadata": {
      "needs_background": "light"
     },
     "output_type": "display_data"
    }
   ],
   "source": [
    "for col in df.select_dtypes(include=['datetime']).columns:\n",
    "    df[col].groupby(df[col].dt.year).count().plot(kind=\"bar\", title = col)\n",
    "    plt.show()"
   ]
  },
  {
   "cell_type": "markdown",
   "metadata": {},
   "source": [
    "Checking if we have any missing variables"
   ]
  },
  {
   "cell_type": "code",
   "execution_count": 13,
   "metadata": {},
   "outputs": [
    {
     "data": {
      "text/plain": [
       "X1           141010\n",
       "X4                1\n",
       "X5                1\n",
       "X6                1\n",
       "X7                1\n",
       "X8            61270\n",
       "X11           21920\n",
       "X12           61361\n",
       "X13           61028\n",
       "X14               1\n",
       "X15               1\n",
       "X17               1\n",
       "X20               1\n",
       "X21               1\n",
       "X22               1\n",
       "X23               1\n",
       "X24               1\n",
       "X25          257506\n",
       "X26          415006\n",
       "X27               1\n",
       "X28               1\n",
       "X29               1\n",
       "X30             297\n",
       "X31               1\n",
       "X32               1\n",
       "Test_Flag         0\n",
       "dtype: int64"
      ]
     },
     "execution_count": 13,
     "metadata": {},
     "output_type": "execute_result"
    }
   ],
   "source": [
    "df.isnull().sum()"
   ]
  },
  {
   "cell_type": "markdown",
   "metadata": {},
   "source": [
    "Cleaning up all of the missings. See notes next to each variable for the decision and rationale"
   ]
  },
  {
   "cell_type": "code",
   "execution_count": 14,
   "metadata": {},
   "outputs": [],
   "source": [
    "#Getting rid of the one row with no supporting data\n",
    "df = df[df.X4.notnull()]\n",
    "\n",
    "#Getting rid of the rows that have no target variable\n",
    "df = df[df.X1.notnull() | df.Test_Flag == 1]\n",
    "\n",
    "#Filling in missings in the loan grade category with a \"missing\" level\n",
    "df[\"X8\"] = df[\"X8\"].fillna(\"X\")\n",
    "\n",
    "#Filling in missings in the years employed column with the mean and adding a years employed missing flag\n",
    "df[\"X11_missing\"] = np.where(df.X11.isnull(), 1, 0)\n",
    "df[\"X11\"] = df[\"X11\"].fillna(df[\"X11\"].mean())\n",
    "\n",
    "#Grouping small levels in the \"Other\" category. Making a new missing category\n",
    "df[\"X12\"] = np.where(df[\"X12\"].isin([\"OTHER\", \"NONE\", \"ANY\"]), \"OTHER\", df[\"X12\"])\n",
    "df[\"X12\"] = df[\"X12\"].fillna(\"missing\")\n",
    "\n",
    "#Filling in missings in the annual income column with the mean and adding a annual income missing flag\n",
    "df[\"X13_missing\"] = np.where(df.X13.isnull(), 1, 0)\n",
    "df[\"X13\"] = df[\"X13\"].fillna(df[\"X13\"].mean())\n",
    "\n",
    "#Filling in missings in the X25 column with the mean and adding a X25 missing flag\n",
    "df[\"X25_missing\"] = np.where(df.X25.isnull(), 1, 0)\n",
    "df[\"X25\"] = df[\"X25\"].fillna(df[\"X25\"].mean())\n",
    "\n",
    "#Filling in missings in the X26 column with the mean and adding a X26 missing flag\n",
    "df[\"X26_missing\"] = np.where(df.X26.isnull(), 1, 0)\n",
    "df[\"X26\"] = df[\"X26\"].fillna(df[\"X26\"].mean())\n",
    "\n",
    "#Getting rid of the rows where X30 is null. It's only ~200 so it shouldn't impact much\n",
    "df = df[df.X30.notnull()]"
   ]
  },
  {
   "cell_type": "markdown",
   "metadata": {},
   "source": [
    "Checking that we got them all"
   ]
  },
  {
   "cell_type": "code",
   "execution_count": 15,
   "metadata": {},
   "outputs": [
    {
     "data": {
      "text/plain": [
       "X1             79970\n",
       "X4                 0\n",
       "X5                 0\n",
       "X6                 0\n",
       "X7                 0\n",
       "X8                 0\n",
       "X11                0\n",
       "X12                0\n",
       "X13                0\n",
       "X14                0\n",
       "X15                0\n",
       "X17                0\n",
       "X20                0\n",
       "X21                0\n",
       "X22                0\n",
       "X23                0\n",
       "X24                0\n",
       "X25                0\n",
       "X26                0\n",
       "X27                0\n",
       "X28                0\n",
       "X29                0\n",
       "X30                0\n",
       "X31                0\n",
       "X32                0\n",
       "Test_Flag          0\n",
       "X11_missing        0\n",
       "X13_missing        0\n",
       "X25_missing        0\n",
       "X26_missing        0\n",
       "dtype: int64"
      ]
     },
     "execution_count": 15,
     "metadata": {},
     "output_type": "execute_result"
    }
   ],
   "source": [
    "df.isnull().sum()"
   ]
  },
  {
   "cell_type": "markdown",
   "metadata": {},
   "source": [
    "New shape. We dropped ~61k records total, but all but ~300 of those were from training set data with an missing target variable. "
   ]
  },
  {
   "cell_type": "code",
   "execution_count": 16,
   "metadata": {},
   "outputs": [
    {
     "data": {
      "text/plain": [
       "(418735, 30)"
      ]
     },
     "execution_count": 16,
     "metadata": {},
     "output_type": "execute_result"
    }
   ],
   "source": [
    "df.shape"
   ]
  },
  {
   "cell_type": "markdown",
   "metadata": {},
   "source": [
    "### Step 2: Building the model"
   ]
  },
  {
   "cell_type": "code",
   "execution_count": 17,
   "metadata": {},
   "outputs": [],
   "source": [
    "#After testing some models below, I've decided to drop the state variable. It saves me 50 features in the data \n",
    "# and it didn't appear important in any of the initial model runs. Intuitively it also makes sense that there are\n",
    "# more important predictors of interest rate than the state you reside in\n",
    "df = df.drop(\"X20\", axis = 1)\n",
    "\n",
    "#Grouping some categorical levels to improve runtimes. These levels don't compose major parts of the record distribution\n",
    "# didn't play a major role in initial model runs\n",
    "\n",
    "df[\"X12\"] = np.where(df.X12.isin([\"ANY\", \"NONE\"]), \"OTHER\", df.X12)\n",
    "df[\"X17\"] = np.where(df.X17.isin(['moving', 'medical', 'house', 'renewable_energy', \n",
    "                                  'small_business', 'vacation', 'wedding', 'educational']), \"other\", df.X17)"
   ]
  },
  {
   "cell_type": "code",
   "execution_count": 18,
   "metadata": {},
   "outputs": [],
   "source": [
    "#Saving just the year from both date variables. Likely some noise from the recession in X15, but the vast majority of\n",
    "# the data is post 2011. \n",
    "df[\"X15\"] = pd.DatetimeIndex(df['X15']).year\n",
    "df[\"X23\"] = pd.DatetimeIndex(df['X15']).year"
   ]
  },
  {
   "cell_type": "code",
   "execution_count": 19,
   "metadata": {},
   "outputs": [],
   "source": [
    "#Capping some of my very skewed numeric fields\n",
    "df[\"X22\"] = df.X22.clip(upper = 5)\n",
    "df[\"X28\"] = df.X28.clip(upper = 5)\n",
    "\n",
    "df[\"X29\"] = df.X29.clip(upper = df.X29.quantile(q=.98))\n",
    "df[\"X30\"] = df.X30.clip(upper = df.X30.quantile(q=.98))"
   ]
  },
  {
   "cell_type": "code",
   "execution_count": 20,
   "metadata": {},
   "outputs": [],
   "source": [
    "#Breaking out categorical variables into dummies capturing each level\n",
    "for col in [\"X7\", \"X8\", \"X12\", \"X14\", \"X17\", \"X32\"]:\n",
    "    df = pd.concat([df.drop(col, axis = 1), pd.get_dummies(df[col], prefix = col)], axis=1)"
   ]
  },
  {
   "cell_type": "code",
   "execution_count": 21,
   "metadata": {},
   "outputs": [
    {
     "data": {
      "text/plain": [
       "(418735, 49)"
      ]
     },
     "execution_count": 21,
     "metadata": {},
     "output_type": "execute_result"
    }
   ],
   "source": [
    "df.shape"
   ]
  },
  {
   "cell_type": "markdown",
   "metadata": {},
   "source": [
    "Creating my train and test datasets"
   ]
  },
  {
   "cell_type": "code",
   "execution_count": 23,
   "metadata": {},
   "outputs": [],
   "source": [
    "x_train = df.loc[df.Test_Flag == 0, df.columns != 'X1']\n",
    "y_train = df.loc[df.Test_Flag == 0, 'X1']\n",
    "\n",
    "x_test = df.loc[df.Test_Flag == 1, df.columns != 'X1']\n",
    "y_test = df.loc[df.Test_Flag == 1, 'X1'] #Although this is literally all NA, so don't really need it"
   ]
  },
  {
   "cell_type": "markdown",
   "metadata": {},
   "source": [
    "Creating a Decision Tree Model"
   ]
  },
  {
   "cell_type": "code",
   "execution_count": 24,
   "metadata": {},
   "outputs": [],
   "source": [
    "# Instantiate dt\n",
    "dt = DecisionTreeRegressor(max_depth=None,\n",
    "                           min_samples_leaf=0.03,\n",
    "                           random_state=3)\n",
    "\n",
    "# Fit dt to the training set\n",
    "dt.fit(x_train, y_train)\n",
    "\n",
    "# Predict the labels of the training set\n",
    "y_pred_train = dt.predict(x_train)\n",
    "\n",
    "# Predict the labels of the test set\n",
    "y_pred_test = dt.predict(x_test)"
   ]
  },
  {
   "cell_type": "code",
   "execution_count": 25,
   "metadata": {},
   "outputs": [
    {
     "name": "stdout",
     "output_type": "stream",
     "text": [
      "CV RMSE: 0.02130\n",
      "Train RMSE: 0.02125\n"
     ]
    }
   ],
   "source": [
    "MSE_CV_scores = - cross_val_score(dt, x_train, y_train, cv=10, \n",
    "                                  scoring='neg_mean_squared_error', \n",
    "                                  n_jobs=-1) \n",
    "\n",
    "# Compute the 10-folds CV RMSE\n",
    "RMSE_CV = (MSE_CV_scores.mean())**(1/2)\n",
    "\n",
    "# Print RMSE_CV\n",
    "print('CV RMSE: {:.5f}'.format(RMSE_CV))\n",
    "\n",
    "# Evaluate the training set RMSE of dt\n",
    "RMSE_train = (MSE(y_train, y_pred_train))**(1/2)\n",
    "\n",
    "# Print RMSE_train\n",
    "print('Train RMSE: {:.5f}'.format(RMSE_train))"
   ]
  },
  {
   "cell_type": "code",
   "execution_count": 26,
   "metadata": {},
   "outputs": [
    {
     "data": {
      "image/png": "[encoded data removed]",
      "text/plain": [
       "<Figure size 432x288 with 1 Axes>"
      ]
     },
     "metadata": {
      "needs_background": "light"
     },
     "output_type": "display_data"
    }
   ],
   "source": [
    "# Create a pd.Series of features importances\n",
    "importances_dt = pd.Series(dt.feature_importances_, index = x_train.columns)\n",
    "# Sort importances_dt\n",
    "sorted_importances_dt = importances_dt.sort_values().tail(15)\n",
    "# Make a horizontal bar plot\n",
    "sorted_importances_dt.plot(kind='barh', color='blue')\n",
    "plt.show()"
   ]
  },
  {
   "cell_type": "markdown",
   "metadata": {},
   "source": [
    "Creating a bagged decision tree model"
   ]
  },
  {
   "cell_type": "code",
   "execution_count": 59,
   "metadata": {},
   "outputs": [],
   "source": [
    "# Instantiate a decision tree regressor 'dt'\n",
    "dt = DecisionTreeRegressor(max_depth=5, min_samples_leaf=0.1, random_state=16)\n",
    "\n",
    "# Instantiate a BaggingRegressor 'br'\n",
    "br = BaggingRegressor(base_estimator=dt, n_estimators=50, n_jobs=-1)\n",
    "\n",
    "# Fit 'br' to the training set\n",
    "br.fit(x_train, y_train)\n",
    "\n",
    "# Predict the labels of the training set\n",
    "y_pred_train = br.predict(x_train)\n",
    "\n",
    "# Predict the labels of the test set\n",
    "y_pred_test = br.predict(x_test)"
   ]
  },
  {
   "cell_type": "code",
   "execution_count": 60,
   "metadata": {},
   "outputs": [
    {
     "name": "stdout",
     "output_type": "stream",
     "text": [
      "CV RMSE: 0.03739\n",
      "Train RMSE: 0.03719\n"
     ]
    }
   ],
   "source": [
    "MSE_CV_scores = - cross_val_score(br, x_train, y_train, cv=10, \n",
    "                                  scoring='neg_mean_squared_error', \n",
    "                                  n_jobs=-1) \n",
    "\n",
    "# Compute the 10-folds CV RMSE\n",
    "RMSE_CV = (MSE_CV_scores.mean())**(1/2)\n",
    "\n",
    "# Print RMSE_CV\n",
    "print('CV RMSE: {:.5f}'.format(RMSE_CV))\n",
    "\n",
    "# Evaluate the training set RMSE of dt\n",
    "RMSE_train = (MSE(y_train, y_pred_train))**(1/2)\n",
    "\n",
    "# Print RMSE_train\n",
    "print('Train RMSE: {:.5f}'.format(RMSE_train))"
   ]
  },
  {
   "cell_type": "code",
   "execution_count": 84,
   "metadata": {},
   "outputs": [
    {
     "data": {
      "image/png": "[encoded data removed]",
      "text/plain": [
       "<Figure size 432x288 with 1 Axes>"
      ]
     },
     "metadata": {
      "needs_background": "light"
     },
     "output_type": "display_data"
    }
   ],
   "source": [
    "# Create a pd.Series of features importances\n",
    "importances_br = pd.Series(np.mean([tree.feature_importances_ for tree in br.estimators_], axis=0), index = x_train.columns)\n",
    "# Sort importances_br\n",
    "sorted_importances_br = importances_br.sort_values().tail(15)\n",
    "# Make a horizontal bar plot\n",
    "sorted_importances_br.plot(kind='barh', color='blue')\n",
    "plt.show()"
   ]
  },
  {
   "cell_type": "markdown",
   "metadata": {},
   "source": [
    "Trying out a random forest"
   ]
  },
  {
   "cell_type": "code",
   "execution_count": 27,
   "metadata": {},
   "outputs": [],
   "source": [
    "# Instantiate a random forests regressor 'rf' 100 estimators\n",
    "rf = RandomForestRegressor(n_estimators=100, min_samples_leaf=0.05, max_depth = 8, random_state=100)\n",
    "\n",
    "# Fit 'br' to the training set\n",
    "rf.fit(x_train, y_train)\n",
    "\n",
    "# Predict the labels of the training set\n",
    "y_pred_train = rf.predict(x_train)\n",
    "\n",
    "# Predict the labels of the test set\n",
    "y_pred_test = rf.predict(x_test)"
   ]
  },
  {
   "cell_type": "code",
   "execution_count": 28,
   "metadata": {},
   "outputs": [
    {
     "name": "stderr",
     "output_type": "stream",
     "text": [
      "C:\\Users\\mattk\\anaconda3\\envs\\msca\\lib\\site-packages\\joblib\\externals\\loky\\process_executor.py:691: UserWarning: A worker stopped while some jobs were given to the executor. This can be caused by a too short worker timeout or by a memory leak.\n",
      "  \"timeout or by a memory leak.\", UserWarning\n"
     ]
    },
    {
     "name": "stdout",
     "output_type": "stream",
     "text": [
      "CV RMSE: 0.02139\n",
      "Train RMSE: 0.02106\n"
     ]
    }
   ],
   "source": [
    "MSE_CV_scores = - cross_val_score(rf, x_train, y_train, cv=10, \n",
    "                                  scoring='neg_mean_squared_error', \n",
    "                                  n_jobs=-1) \n",
    "\n",
    "# Compute the 10-folds CV RMSE\n",
    "RMSE_CV = (MSE_CV_scores.mean())**(1/2)\n",
    "\n",
    "# Print RMSE_CV\n",
    "print('CV RMSE: {:.5f}'.format(RMSE_CV))\n",
    "\n",
    "# Evaluate the training set RMSE of dt\n",
    "RMSE_train = (MSE(y_train, y_pred_train))**(1/2)\n",
    "\n",
    "# Print RMSE_train\n",
    "print('Train RMSE: {:.5f}'.format(RMSE_train))"
   ]
  },
  {
   "cell_type": "code",
   "execution_count": 29,
   "metadata": {},
   "outputs": [
    {
     "data": {
      "image/png": "[encoded data removed]",
      "text/plain": [
       "<Figure size 432x288 with 1 Axes>"
      ]
     },
     "metadata": {
      "needs_background": "light"
     },
     "output_type": "display_data"
    }
   ],
   "source": [
    "# Create a pd.Series of features importances\n",
    "importances_rf = pd.Series(rf.feature_importances_, index = x_train.columns)\n",
    "# Sort importances_rf\n",
    "sorted_importances_rf = importances_rf.sort_values().tail(15)\n",
    "# Make a horizontal bar plot\n",
    "sorted_importances_rf.plot(kind='barh', color='blue')\n",
    "plt.show()"
   ]
  },
  {
   "cell_type": "markdown",
   "metadata": {},
   "source": [
    "Lastly, trying out a gradient boosting regressor"
   ]
  },
  {
   "cell_type": "code",
   "execution_count": 30,
   "metadata": {},
   "outputs": [],
   "source": [
    "# Instantiate gb\n",
    "gb = GradientBoostingRegressor(max_depth=3, random_state=2)\n",
    "\n",
    "# Fit 'gb' to the training set\n",
    "gb.fit(x_train, y_train)\n",
    "\n",
    "# Predict the labels of the training set\n",
    "y_pred_train = gb.predict(x_train)\n",
    "\n",
    "# Predict the labels of the test set\n",
    "y_pred_test = gb.predict(x_test)"
   ]
  },
  {
   "cell_type": "code",
   "execution_count": 31,
   "metadata": {},
   "outputs": [
    {
     "name": "stdout",
     "output_type": "stream",
     "text": [
      "CV RMSE: 0.01703\n",
      "Train RMSE: 0.01586\n"
     ]
    }
   ],
   "source": [
    "MSE_CV_scores = - cross_val_score(gb, x_train, y_train, cv=10, \n",
    "                                  scoring='neg_mean_squared_error', \n",
    "                                  n_jobs=-1) \n",
    "\n",
    "# Compute the 10-folds CV RMSE\n",
    "RMSE_CV = (MSE_CV_scores.mean())**(1/2)\n",
    "\n",
    "# Print RMSE_CV\n",
    "print('CV RMSE: {:.5f}'.format(RMSE_CV))\n",
    "\n",
    "# Evaluate the training set RMSE of dt\n",
    "RMSE_train = (MSE(y_train, y_pred_train))**(1/2)\n",
    "\n",
    "# Print RMSE_train\n",
    "print('Train RMSE: {:.5f}'.format(RMSE_train))"
   ]
  },
  {
   "cell_type": "code",
   "execution_count": 32,
   "metadata": {},
   "outputs": [
    {
     "data": {
      "image/png": "[encoded data removed]",
      "text/plain": [
       "<Figure size 432x288 with 1 Axes>"
      ]
     },
     "metadata": {
      "needs_background": "light"
     },
     "output_type": "display_data"
    }
   ],
   "source": [
    "# Create a pd.Series of features importances\n",
    "importances_gb = pd.Series(gb.feature_importances_, index = x_train.columns)\n",
    "# Sort importances_gb\n",
    "sorted_importances_gb = importances_gb.sort_values().tail(20)\n",
    "# Make a horizontal bar plot\n",
    "sorted_importances_gb.plot(kind='barh', color='blue')\n",
    "plt.show()"
   ]
  },
  {
   "cell_type": "markdown",
   "metadata": {},
   "source": [
    "### Step 3: Test the model"
   ]
  },
  {
   "cell_type": "markdown",
   "metadata": {},
   "source": [
    "### Step 4: Prep for submission"
   ]
  }
 ],
 "metadata": {
  "kernelspec": {
   "display_name": "Python 3",
   "language": "python",
   "name": "python3"
  },
  "language_info": {
   "codemirror_mode": {
    "name": "ipython",
    "version": 3
   },
   "file_extension": ".py",
   "mimetype": "text/x-python",
   "name": "python",
   "nbconvert_exporter": "python",
   "pygments_lexer": "ipython3",
   "version": "3.6.10"
  }
 },
 "nbformat": 4,
 "nbformat_minor": 4
}
